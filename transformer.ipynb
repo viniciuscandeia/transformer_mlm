{
 "cells": [
  {
   "metadata": {},
   "cell_type": "markdown",
   "source": [
    "# Projeto \"Maestro das Palavras\": Ensinando uma IA a Entender Letras de Música 🎶\n",
    "\n",
    "## A Missão: O Coração da Canção\n",
    "\n",
    "Imagine uma inteligência artificial que não apenas lê palavras, mas *sente* o ritmo e a alma da linguagem, especialmente como ela flui nas letras de música. Esse é o nosso projeto! Estamos treinando um verdadeiro **\"Maestro das Palavras\"** digital.\n",
    "\n",
    "A sua grande missão? Olhar para um trecho de uma música onde uma palavra foi escondida (`[mask]`) e, usando sua inteligência, adivinhar qual palavra se encaixa ali, como um músico que completa uma melodia inacabada.\n",
    "\n",
    "## A Magia por Trás da Cortina: Transformers e Atenção 🧠✨\n",
    "\n",
    "Como nosso Maestro aprende essa habilidade quase mágica? Ele usa uma arquitetura de rede neural revolucionária chamada **Transformer**.\n",
    "\n",
    "Pense no Transformer como um ouvinte *extremamente* atento. Em vez de apenas olhar a palavra anterior ou seguinte, ele possui um mecanismo de **\"Atenção\"** que permite \"ouvir\" e ponderar a importância de **todas** as palavras na frase (ou até em frases próximas) ao mesmo tempo.\n",
    "\n",
    "Isso é crucial para a música! Uma palavra no final de um verso pode depender totalmente de algo dito no início. O Transformer captura essas conexões, longas ou curtas, entendendo o **contexto** geral da letra, assim como entendemos o sentimento de uma estrofe inteira, não apenas de notas isoladas.\n",
    "\n",
    "## O Método do Mestre: BERT e a Arte de Aprender 🎓\n",
    "\n",
    "Nosso Maestro segue a filosofia de um \"mestre\" renomado no mundo da IA, conhecido como **BERT** (Bidirectional Encoder Representations from Transformers). O BERT popularizou uma forma genial de treinar esses Transformers para entender a linguagem profundamente.\n",
    "\n",
    "A ideia chave do BERT é ser **bidirecional**: para entender uma palavra, olhe para o que vem *antes* E o que vem *depois* dela. É como ler uma partitura completa antes de tocar uma nota específica.\n",
    "\n",
    "## O Treinamento: Completando as Lacunas (MLM) 📝\n",
    "\n",
    "Como o Maestro pratica? Através de um exercício fundamental inspirado no BERT, chamado **Masked Language Modeling (MLM)** – Modelagem de Linguagem Mascarada. É exatamente isso que o nosso código faz!\n",
    "\n",
    "1.  Pegamos uma letra de música do nosso \"songbook\" (os arquivos `.txt` em `musicas/`).\n",
    "2.  **Mascaramos** aleatoriamente algumas palavras, substituindo-as por um token especial `[mask]`.\n",
    "    * Exemplo: \"Todo [mask] tem seu fim\"\n",
    "3.  **Desafiamos** o Maestro: \"Ei, usando todo o seu conhecimento de contexto (via Transformer), adivinhe qual palavra original estava aqui onde está o `[mask]`!\"\n",
    "\n",
    "Ao forçar o modelo a prever essas palavras escondidas com base no contexto ao redor (bidirecionalmente), ele aprende representações ricas e profundas sobre como as palavras se relacionam em letras de música. Ele não está apenas decorando, está *compreendendo*.\n",
    "\n",
    "## O Resultado: Um Vislumbre da Compreensão 🎤\n",
    "\n",
    "Após treinar intensamente com milhares desses exemplos mascarados, nosso Maestro das Palavras se torna capaz de:\n",
    "\n",
    "* Receber uma nova frase com `[mask]`.\n",
    "* Analisar o contexto usando sua arquitetura Transformer.\n",
    "* Prever as palavras mais prováveis para preencher a lacuna, demonstrando sua compreensão da linguagem lírica.\n",
    "\n",
    "Este projeto, portanto, é a construção e o treinamento de um modelo Transformer, inspirado nos princípios do BERT e usando a tarefa de MLM, para desenvolver uma compreensão contextual profunda especificamente a partir de letras de música. É um passo fascinante na jornada para criar IAs que não apenas processem, mas talvez um dia, até *sintam* a arte da linguagem."
   ],
   "id": "23288c2911f7f233"
  },
  {
   "cell_type": "markdown",
   "id": "c4bed58b15c8e73d",
   "metadata": {},
   "source": [
    "# Configuração Inicial e Importação de Bibliotecas\n",
    "\n",
    "Este trecho de código realiza as configurações iniciais para o ambiente do notebook, definindo o backend do Keras e importando as bibliotecas necessárias para manipulação de dados, operações com matrizes, processamento de texto e construção de modelos. Além disso, cria uma classe de configuração (usando `@dataclass`) que contém parâmetros importantes como tamanho máximo de sequência, tamanho do lote, taxa de aprendizado, entre outros, facilitando a parametrização dos modelos.\n",
    "\n"
   ]
  },
  {
   "cell_type": "code",
   "id": "a89620b2e2393cb4",
   "metadata": {
    "ExecuteTime": {
     "end_time": "2025-04-09T13:25:02.375680Z",
     "start_time": "2025-04-09T13:25:02.345647Z"
    }
   },
   "source": [
    "import os\n",
    "\n",
    "os.environ[ \"KERAS_BACKEND\" ] = \"torch\"\n",
    "\n",
    "import keras_hub\n",
    "\n",
    "import keras\n",
    "from keras import layers\n",
    "from keras.layers import TextVectorization\n",
    "\n",
    "from dataclasses import dataclass\n",
    "import pandas as pd\n",
    "import numpy as np\n",
    "import glob\n",
    "import re\n",
    "from pprint import pprint"
   ],
   "outputs": [],
   "execution_count": 51
  },
  {
   "metadata": {
    "ExecuteTime": {
     "end_time": "2025-04-09T13:25:02.423647Z",
     "start_time": "2025-04-09T13:25:02.399649Z"
    }
   },
   "cell_type": "code",
   "source": [
    "# Identificar se está usando a CPU ou GPU no PyTorch\n",
    "\n",
    "import torch\n",
    "\n",
    "device = torch.device( \"cuda\" if torch.cuda.is_available() else \"cpu\" )\n",
    "print( f\"Using device: {device}\" )"
   ],
   "id": "a5efb95b0d0e627",
   "outputs": [
    {
     "name": "stdout",
     "output_type": "stream",
     "text": [
      "Using device: cuda\n"
     ]
    }
   ],
   "execution_count": 52
  },
  {
   "cell_type": "code",
   "id": "6cce974cf0c26a19",
   "metadata": {
    "ExecuteTime": {
     "end_time": "2025-04-09T13:25:06.836720Z",
     "start_time": "2025-04-09T13:25:06.823721Z"
    }
   },
   "source": [
    "@dataclass\n",
    "class Config:\n",
    "    MAX_LEN = 256\n",
    "    BATCH_SIZE = 16  #32\n",
    "    LR = 0.0001  #0.001\n",
    "    VOCAB_SIZE = 30000\n",
    "    EMBED_DIM = 128\n",
    "    NUM_HEAD = 8  # used in bert model\n",
    "    FF_DIM = 128  # used in bert model\n",
    "    NUM_LAYERS = 1\n",
    "\n",
    "\n",
    "config = Config()"
   ],
   "outputs": [],
   "execution_count": 53
  },
  {
   "cell_type": "markdown",
   "id": "39422ab42f331838",
   "metadata": {},
   "source": [
    "# Leitura de Dados e Criação de DataFrames\n",
    "\n",
    "Este trecho de código define funções que realizam a leitura de arquivos de texto de uma pasta específica, extraem o conteúdo dos arquivos e geram dataframes. A função `get_text_list_from_files` recebe uma lista de arquivos e retorna seus conteúdos como uma lista de strings. Em seguida, a função `get_data_from_text_files` utiliza essa lista para criar um dataframe onde cada linha corresponde ao conteúdo de um arquivo (letra de música). Por fim, os dataframes de treino e teste/validação são criados e seus tamanhos são exibidos.\n"
   ]
  },
  {
   "cell_type": "code",
   "id": "822b332050609de1",
   "metadata": {
    "ExecuteTime": {
     "end_time": "2025-04-09T13:25:07.447719Z",
     "start_time": "2025-04-09T13:25:06.884718Z"
    }
   },
   "source": [
    "def get_text_list_from_files( files ) -> list[ str ]:\n",
    "    \"\"\"\n",
    "    Lê o conteúdo de múltiplos arquivos e retorna uma lista de strings,\n",
    "    onde cada string representa o conteúdo de um arquivo.\n",
    "\n",
    "    Args:\n",
    "        files (list[str]): Uma lista contendo os caminhos dos arquivos a serem lidos.\n",
    "\n",
    "    Returns:\n",
    "        list[str]: Uma lista onde cada elemento é o conteúdo de um arquivo.\n",
    "    \"\"\"\n",
    "    text_list: list[ str ] = [ ]\n",
    "    for file_path in files:\n",
    "        with open( file_path, \"r\", encoding = \"utf-8\" ) as file:\n",
    "            # Lê todo o conteúdo do arquivo de uma vez.\n",
    "            # Se o arquivo contiver várias linhas e você precisar de cada linha como um item separado na lista,\n",
    "            # você pode iterar sobre o objeto 'file' (por exemplo, `for line in file: text_list.append(line.strip())`).\n",
    "            text_list.append( file.read() )\n",
    "    return text_list\n",
    "\n",
    "\n",
    "def get_data_from_text_files( folder_name: str ) -> pd.DataFrame:\n",
    "    \"\"\"\n",
    "    Busca arquivos de texto em uma pasta específica, lê seus conteúdos e\n",
    "    retorna um DataFrame do pandas com uma coluna contendo o texto de cada arquivo.\n",
    "\n",
    "    Args:\n",
    "        folder_name (str): O nome da pasta onde os arquivos de texto estão localizados.\n",
    "                           Espera-se que os arquivos estejam dentro de um subdiretório chamado 'musicas'.\n",
    "\n",
    "    Returns:\n",
    "        pd.DataFrame: Um DataFrame com uma coluna chamada 'lyric', onde cada linha\n",
    "                      contém o texto de um arquivo. O DataFrame é embaralhado e o\n",
    "                      índice é resetado.\n",
    "    \"\"\"\n",
    "\n",
    "    # Utiliza a biblioteca glob para encontrar todos os arquivos com extensão .txt\n",
    "    # dentro do subdiretório especificado dentro de 'musicas'.\n",
    "    files = glob.glob( f\"musicas/{folder_name}/*.txt\" )\n",
    "\n",
    "    # Chama a função auxiliar para obter uma lista contendo o texto de cada arquivo encontrado.\n",
    "    texts: list[ str ] = get_text_list_from_files( files )\n",
    "\n",
    "    # Cria um DataFrame do pandas com uma única coluna chamada 'lyric'.\n",
    "    df = pd.DataFrame( { \"lyric\": texts } )\n",
    "\n",
    "    # Embaralha as linhas do DataFrame para garantir uma ordem aleatória dos dados.\n",
    "    # 'frac=1' indica que todas as linhas devem ser amostradas.\n",
    "    df = df.sample( frac = 1 )\n",
    "\n",
    "    # Reseta o índice do DataFrame.\n",
    "    # 'drop=True' impede que o índice antigo seja adicionado como uma nova coluna.\n",
    "    df = df.reset_index( drop = True )\n",
    "\n",
    "    return df\n",
    "\n",
    "\n",
    "# Cria o DataFrame de treino chamando a função com o nome da pasta 'train'.\n",
    "train_df = get_data_from_text_files( \"train\" )\n",
    "\n",
    "# Cria o DataFrame de teste/validação chamando a função com o nome da pasta 'test'.\n",
    "test_df = get_data_from_text_files( \"test\" )\n",
    "\n",
    "# Imprime o tamanho (número de linhas) do DataFrame de treino.\n",
    "print( f\"Tamanho do DataFrame de Treino: {len( train_df )}\" )\n",
    "\n",
    "# Imprime o tamanho (número de linhas) do DataFrame de teste/validação.\n",
    "print( f\"Tamanho do DataFrame de Teste/Validação: {len( test_df )}\" )"
   ],
   "outputs": [
    {
     "name": "stdout",
     "output_type": "stream",
     "text": [
      "Tamanho do DataFrame de Treino: 1444\n",
      "Tamanho do DataFrame de Teste/Validação: 361\n"
     ]
    }
   ],
   "execution_count": 54
  },
  {
   "cell_type": "code",
   "id": "aa3089bbffe5c2b6",
   "metadata": {
    "ExecuteTime": {
     "end_time": "2025-04-09T13:25:07.525718Z",
     "start_time": "2025-04-09T13:25:07.496734Z"
    }
   },
   "source": [
    "train_df.head()"
   ],
   "outputs": [
    {
     "data": {
      "text/plain": [
       "                                               lyric\n",
       "0  Ela vem pronta pro abate Novinha fica a vontad...\n",
       "1  Meu pedaço de pecado De corpo colado Vem dança...\n",
       "2  Lá vai a chalana Bem longe se vai Navegando no...\n",
       "3  Eu não sei por que estou aqui Há uma chuva de ...\n",
       "4  Já esperei meu prometeu No céu da terra se per..."
      ],
      "text/html": [
       "<div>\n",
       "<style scoped>\n",
       "    .dataframe tbody tr th:only-of-type {\n",
       "        vertical-align: middle;\n",
       "    }\n",
       "\n",
       "    .dataframe tbody tr th {\n",
       "        vertical-align: top;\n",
       "    }\n",
       "\n",
       "    .dataframe thead th {\n",
       "        text-align: right;\n",
       "    }\n",
       "</style>\n",
       "<table border=\"1\" class=\"dataframe\">\n",
       "  <thead>\n",
       "    <tr style=\"text-align: right;\">\n",
       "      <th></th>\n",
       "      <th>lyric</th>\n",
       "    </tr>\n",
       "  </thead>\n",
       "  <tbody>\n",
       "    <tr>\n",
       "      <th>0</th>\n",
       "      <td>Ela vem pronta pro abate Novinha fica a vontad...</td>\n",
       "    </tr>\n",
       "    <tr>\n",
       "      <th>1</th>\n",
       "      <td>Meu pedaço de pecado De corpo colado Vem dança...</td>\n",
       "    </tr>\n",
       "    <tr>\n",
       "      <th>2</th>\n",
       "      <td>Lá vai a chalana Bem longe se vai Navegando no...</td>\n",
       "    </tr>\n",
       "    <tr>\n",
       "      <th>3</th>\n",
       "      <td>Eu não sei por que estou aqui Há uma chuva de ...</td>\n",
       "    </tr>\n",
       "    <tr>\n",
       "      <th>4</th>\n",
       "      <td>Já esperei meu prometeu No céu da terra se per...</td>\n",
       "    </tr>\n",
       "  </tbody>\n",
       "</table>\n",
       "</div>"
      ]
     },
     "execution_count": 55,
     "metadata": {},
     "output_type": "execute_result"
    }
   ],
   "execution_count": 55
  },
  {
   "cell_type": "markdown",
   "id": "1413c85f5980aae3",
   "metadata": {},
   "source": [
    "# Pré-processamento e Vetorização de Texto com TensorFlow\n",
    "\n",
    "Este trecho de código configura funções para pré-processamento e vetorização de textos utilizando o TensorFlow. Inicialmente, define-se uma função de normalização customizada para converter o texto em minúsculas, remover tags HTML e caracteres especiais. Em seguida, é criada uma camada `TextVectorization` do Keras, que é adaptada ao conjunto de textos de treino para transformar o texto em sequências numéricas, permitindo a criação e ajuste de um vocabulário customizado. Também é exemplificada a obtenção do ID de um token especial (`[mask]`) e a função `encode` para converter novos textos em arrays NumPy contendo suas respectivas sequências numéricas.\n"
   ]
  },
  {
   "metadata": {
    "ExecuteTime": {
     "end_time": "2025-04-09T13:25:09.544718Z",
     "start_time": "2025-04-09T13:25:09.523720Z"
    }
   },
   "cell_type": "code",
   "outputs": [],
   "execution_count": 56,
   "source": [
    "import tensorflow as tf\n",
    "\n",
    "\n",
    "def custom_standardization( input_data ):\n",
    "    \"\"\"\n",
    "    Função para realizar a normalização de texto. Esta função converte o texto\n",
    "    para minúsculas, remove tags HTML e caracteres especiais.\n",
    "\n",
    "    Args:\n",
    "        input_data (tf.Tensor): Um tensor de string contendo o texto de entrada.\n",
    "\n",
    "    Returns:\n",
    "        tf.Tensor: Um tensor de string contendo o texto normalizado.\n",
    "    \"\"\"\n",
    "    # Converter todas as letras do texto de entrada para minúsculas.\n",
    "    lowercase = tf.strings.lower( input_data )\n",
    "\n",
    "    # Utiliza uma expressão regular para remover todas as ocorrências da tag HTML \"<br />\"\n",
    "    # e as substitui por um espaço em branco.\n",
    "    stripped_html = tf.strings.regex_replace( lowercase, \"<br />\", \" \" )\n",
    "\n",
    "    # Remove caracteres especiais do texto.\n",
    "    # A expressão regular \"[%s]\" busca qualquer caractere dentro do conjunto especificado.\n",
    "    # `re.escape()` é usado para garantir que os caracteres especiais na string de pontuação\n",
    "    # sejam tratados literalmente na expressão regular.\n",
    "    return tf.strings.regex_replace(\n",
    "            stripped_html,\n",
    "            \"[%s]\" % re.escape( \"!#$%&'()*+,-./:;<=>?@\\^_`{|}~\" ),\n",
    "            \"\"\n",
    "    )"
   ],
   "id": "e617962188106c4a"
  },
  {
   "cell_type": "code",
   "id": "7d8904fb48419e91",
   "metadata": {
    "ExecuteTime": {
     "end_time": "2025-04-09T13:25:09.671727Z",
     "start_time": "2025-04-09T13:25:09.658727Z"
    }
   },
   "source": [
    "def get_vectorize_layer( texts: list[ str ], vocab_size: int, max_seq: int, special_tokens: list = [ \"[MASK]\" ]\n",
    "                         ) -> TextVectorization:\n",
    "    \"\"\"\n",
    "    Constrói e retorna uma camada de vetorização de texto (TextVectorization) do Keras.\n",
    "\n",
    "    Esta camada converte uma lista de strings de texto em sequências de inteiros,\n",
    "    onde cada inteiro corresponde a um token no vocabulário.\n",
    "\n",
    "    Args:\n",
    "        texts (list[str]): Uma lista de strings representando os textos de entrada\n",
    "                           usados para adaptar a camada de vetorização.\n",
    "        vocab_size (int): O tamanho máximo do vocabulário a ser criado. A camada\n",
    "                          manterá os `vocab_size` tokens mais frequentes.\n",
    "        max_seq (int): O comprimento máximo da sequência de saída. Sequências mais\n",
    "                       longas serão truncadas e sequências mais curtas serão preenchidas\n",
    "                       para atingir este comprimento.\n",
    "        special_tokens (list[str], optional): Uma lista de tokens especiais que serão\n",
    "                                                adicionados ao vocabulário. Por padrão,\n",
    "                                                contém apenas o token '[MASK]'.\n",
    "\n",
    "    Returns:\n",
    "        TextVectorization: Uma camada de vetorização de texto do Keras configurada e adaptada.\n",
    "    \"\"\"\n",
    "\n",
    "    # Cria uma instância da camada TextVectorization do Keras.\n",
    "    vectorize_layer = TextVectorization(\n",
    "            max_tokens = vocab_size,  # Define o número máximo de tokens no vocabulário.\n",
    "            output_mode = \"int\",\n",
    "            # Configura a saída para ser uma sequência de números inteiros (índices do vocabulário).\n",
    "            standardize = custom_standardization,\n",
    "            # Especifica a função de pré-processamento personalizada a ser aplicada ao texto.\n",
    "            output_sequence_length = max_seq,  # Define o comprimento fixo para todas as sequências de saída.\n",
    "    )\n",
    "\n",
    "    # Adapta a camada de vetorização aos textos de entrada fornecidos.\n",
    "    # Este processo calcula a frequência dos tokens nos textos e constrói o vocabulário.\n",
    "    vectorize_layer.adapt( texts )\n",
    "\n",
    "    # Obtém o vocabulário aprendido pela camada de vetorização.\n",
    "    # O vocabulário é uma lista de strings, onde cada string é um token.\n",
    "    vocab = vectorize_layer.get_vocabulary()\n",
    "\n",
    "    # Por padrão, a camada TextVectorization adiciona dois tokens especiais ao início do vocabulário:\n",
    "    # - \"\" (string vazia) com índice 0, usado para padding (preenchimento).\n",
    "    # - \"[UNK]\" (token desconhecido) com índice 1, usado para palavras que não estão no vocabulário.\n",
    "\n",
    "    # Esta seção ajusta o vocabulário para incluir os tokens especiais fornecidos pelo usuário\n",
    "    # e remover os tokens padrão iniciais para liberar espaço.\n",
    "    # - `vocab[2:]`: Seleciona todos os tokens a partir do terceiro elemento (índices 2 em diante),\n",
    "    #                ignorando \"\" e \"[UNK]\".\n",
    "    # - `vocab_size - len(special_tokens)`: Calcula quantos tokens do vocabulário original\n",
    "    #                                      podem ser mantidos, considerando o espaço necessário\n",
    "    #                                      para os tokens especiais.\n",
    "    vocab = vocab[ 2: vocab_size - len( special_tokens ) ] + special_tokens\n",
    "\n",
    "    # Define o vocabulário da camada de vetorização com o vocabulário modificado.\n",
    "    # Isso garante que os tokens especiais sejam reconhecidos pela camada.\n",
    "    vectorize_layer.set_vocabulary( vocab )\n",
    "\n",
    "    # Retorna a camada de vetorização configurada.\n",
    "    return vectorize_layer"
   ],
   "outputs": [],
   "execution_count": 57
  },
  {
   "cell_type": "code",
   "id": "14af57ee8c312389",
   "metadata": {
    "ExecuteTime": {
     "end_time": "2025-04-09T13:25:12.804787Z",
     "start_time": "2025-04-09T13:25:09.768793Z"
    }
   },
   "source": [
    "# Extrai os valores da coluna 'lyric' do DataFrame de treino e os converte para uma lista.\n",
    "train_texts = train_df.lyric.values.tolist()\n",
    "\n",
    "# Cria a camada de vetorização de texto, utilizando apenas os textos de treinamento para adaptar o vocabulário.\n",
    "vectorize_layer = get_vectorize_layer(\n",
    "        train_texts,\n",
    "        config.VOCAB_SIZE,\n",
    "        config.MAX_LEN,\n",
    "        special_tokens = [ \"[mask]\" ],\n",
    ")\n",
    "\n",
    "# Processamento de um novo dado: \"[mask]\"\n",
    "# - Aplica a função de pré-processamento\n",
    "# - Divide em token, pega seu id e cria uma sequência de comprimento config.MAX_LEN\n",
    "# - Converte o resultado para um array NumPy\n",
    "# - Pega o id do \"[mask]\"\n",
    "mask_token_id = vectorize_layer( [ \"[mask]\" ] ).cpu().numpy()[ 0 ][ 0 ]"
   ],
   "outputs": [],
   "execution_count": 58
  },
  {
   "cell_type": "code",
   "id": "cf38423e529f2726",
   "metadata": {
    "ExecuteTime": {
     "end_time": "2025-04-09T13:25:12.850786Z",
     "start_time": "2025-04-09T13:25:12.835790Z"
    }
   },
   "source": [
    "def encode( texts: list[ str ] ) -> tf.Tensor:\n",
    "    \"\"\"\n",
    "    Converte uma lista de strings de texto em um array NumPy de sequências numéricas.\n",
    "\n",
    "    Args:\n",
    "        texts (list[str]): Uma lista de strings representando os textos de entrada a serem codificados.\n",
    "\n",
    "    Returns:\n",
    "        tf.Tensor: Um tensor do TensorFlow contendo as sequências numéricas correspondentes aos textos de entrada.\n",
    "    \"\"\"\n",
    "    # Aplica a camada de vetorização aos textos de entrada para obter as sequências numéricas.\n",
    "    encoded_texts = vectorize_layer( texts )\n",
    "    # Retorna as sequências codificadas como um array NumPy.\n",
    "    return encoded_texts.numpy()"
   ],
   "outputs": [],
   "execution_count": 59
  },
  {
   "cell_type": "markdown",
   "id": "7f5c334136918c96",
   "metadata": {},
   "source": [
    "# Geração de Dados Mascarados para Treinamento\n",
    "\n",
    "Esta função, `get_masked_input_and_labels`, é responsável por preparar os dados para treinamento de modelos de linguagem que utilizam mascaramento, como os modelos de predição de tokens (por exemplo, BERT). Ela cria uma versão mascarada das sequências numéricas e gera os rótulos correspondentes, além de definir pesos para o cálculo da perda, de forma que apenas os tokens realmente mascarados contribuam para o treinamento.\n",
    "\n",
    "**Resumo do Processo:**\n",
    "\n",
    "- **Criação da Máscara Inicial:**\n",
    "  Um array de booleanos (`inp_mask`) é criado, onde cada posição é selecionada com probabilidade de 15% para ser mascarada. Tokens especiais (com IDs menores ou iguais a 2) são excluídos do mascaramento.\n",
    "\n",
    "- **Definição dos Rótulos:**\n",
    "  Um array `labels` é inicializado com valor -1, indicando posições que não serão consideradas na perda. Em seguida, os IDs dos tokens selecionados pela máscara são copiados para `labels`, marcando os tokens a serem previstos.\n",
    "\n",
    "- **Geração da Entrada Mascarada:**\n",
    "  Uma cópia dos textos codificados é feita e, para 90% dos tokens inicialmente selecionados, os valores são substituídos pelo token de máscara (`mask_token_id`).\n",
    "\n",
    "- **Substituição por Tokens Aleatórios:**\n",
    "  Entre os tokens mascarados, 1/9 serão substituídos por tokens aleatórios (dentro de um intervalo específico), adicionando variabilidade à tarefa de predição.\n",
    "\n",
    "- **Cálculo dos Pesos:**\n",
    "  Um array de pesos (`sample_weights`) é criado para indicar que somente os tokens mascarados (diferentes de -1 nos labels) devem ser considerados no cálculo da perda.\n",
    "\n",
    "- **Saída:**\n",
    "  A função retorna a entrada modificada com tokens mascarados (`encoded_texts_masked`), os rótulos (`y_labels` que contêm os tokens originais) e os pesos amostrais para treinamento.\n"
   ]
  },
  {
   "cell_type": "code",
   "id": "977366761074a52b",
   "metadata": {
    "ExecuteTime": {
     "end_time": "2025-04-09T13:25:12.896787Z",
     "start_time": "2025-04-09T13:25:12.881786Z"
    }
   },
   "source": [
    "def get_masked_input_and_labels( encoded_texts ):\n",
    "    \"\"\"\n",
    "    Cria as entradas mascaradas e os rótulos para a tarefa de Masked Language Modeling (MLM).\n",
    "\n",
    "    Esta função recebe um array NumPy de textos codificados e realiza as seguintes etapas:\n",
    "    1. Seleciona aleatoriamente uma pequena porcentagem dos tokens para mascarar.\n",
    "    2. Garante que tokens especiais não sejam mascarados.\n",
    "    3. Cria um array de rótulos contendo os IDs dos tokens originais que foram mascarados.\n",
    "    4. Cria uma cópia dos textos codificados de entrada e aplica o mascaramento:\n",
    "       - 90% dos tokens selecionados para mascaramento são substituídos pelo token de máscara (`mask_token_id`).\n",
    "       - 10% dos tokens selecionados para mascaramento são substituídos por um token aleatório do vocabulário.\n",
    "    5. Cria um array de pesos de amostra para garantir que a perda seja calculada apenas para os tokens mascarados.\n",
    "\n",
    "    Args:\n",
    "        encoded_texts (np.ndarray): Um array NumPy de inteiros representando os textos codificados.\n",
    "\n",
    "    Returns:\n",
    "        tuple: Uma tupla contendo três arrays NumPy:\n",
    "            - encoded_texts_masked (np.ndarray): A versão da entrada com alguns tokens substituídos por [MASK] ou por tokens aleatórios.\n",
    "            - y_labels (np.ndarray): Os tokens originais da entrada, que servem como os rótulos para o treinamento (apenas nas posições mascaradas).\n",
    "            - sample_weights (np.ndarray): Um array de pesos que indica quais posições em `y_labels` devem ser consideradas no cálculo da perda.\n",
    "    \"\"\"\n",
    "    # Cria um array booleano com a mesma forma de encoded_texts. Cada elemento será True com uma probabilidade de 0.15.\n",
    "    # Isso indica as posições onde os tokens podem ser mascarados.\n",
    "    inp_mask = np.random.rand( *encoded_texts.shape ) < 0.15\n",
    "\n",
    "    # Garante que os tokens com IDs menores ou iguais a 2 (geralmente tokens especiais como padding ou desconhecido)\n",
    "    # não sejam considerados para mascaramento. Define as posições correspondentes em inp_mask como False.\n",
    "    inp_mask[ encoded_texts <= 2 ] = False\n",
    "\n",
    "    # Inicializa um array com a mesma forma de encoded_texts preenchido com o valor -1.\n",
    "    # Este array armazenará os rótulos para a tarefa de previsão. O valor -1 indica que o token naquela posição não é um alvo para previsão.\n",
    "    labels = -1 * np.ones( encoded_texts.shape, dtype = int )\n",
    "\n",
    "    # Para as posições onde inp_mask é True (ou seja, os tokens selecionados para mascaramento),\n",
    "    # os valores dos IDs dos tokens originais (de encoded_texts) são atribuídos ao array de labels.\n",
    "    # Assim, labels conterá os IDs dos tokens que foram mascarados, e o modelo aprenderá a prever esses IDs.\n",
    "    labels[ inp_mask ] = encoded_texts[ inp_mask ]\n",
    "\n",
    "    # Cria uma cópia do array encoded_texts original. Esta cópia será modificada para conter as entradas mascaradas.\n",
    "    encoded_texts_masked = np.copy( encoded_texts )\n",
    "\n",
    "    # Cria uma nova máscara booleana, inp_mask_2mask.\n",
    "    # Ela será True apenas nas posições onde inp_mask também é True (o token foi selecionado para mascaramento)\n",
    "    # E um novo número aleatório gerado para essa posição é menor que 0.9.\n",
    "    # Isso significa que apenas 90% dos 15% dos tokens selecionados inicialmente para mascaramento serão, de fato, mascarados.\n",
    "    inp_mask_2mask = inp_mask & (np.random.rand( *encoded_texts.shape ) < 0.90)\n",
    "\n",
    "    # Nas posições onde inp_mask_2mask é True, o token correspondente em encoded_texts_masked é substituído pelo ID do token de máscara.\n",
    "    encoded_texts_masked[ inp_mask_2mask ] = mask_token_id\n",
    "\n",
    "    # Cria uma nova máscara booleana, inp_mask_2random.\n",
    "    # Ela será True apenas nas posições onde inp_mask_2mask também é True (o token foi selecionado para ser mascarado)\n",
    "    # E um novo número aleatório gerado para essa posição é menor que 1/9.\n",
    "    # Isso significa que aproximadamente 1/9 dos 90% dos tokens que seriam mascarados serão, em vez disso, substituídos por um token aleatório.\n",
    "    inp_mask_2random = inp_mask_2mask & (np.random.rand( *encoded_texts.shape ) < 1 / 9)\n",
    "\n",
    "    # Nas posições onde inp_mask_2random é True, o token em encoded_texts_masked é substituído por um token aleatório.\n",
    "    # np.random.randint(3, mask_token_id, inp_mask_2random.sum()) gera um array de números inteiros aleatórios\n",
    "    # entre 3 (inclusive) e mask_token_id (exclusive). Começa em 3 porque as primeiras posições (0, 1, 2) geralmente\n",
    "    # são reservadas para tokens especiais como padding e [UNK].\n",
    "    encoded_texts_masked[ inp_mask_2random ] = np.random.randint(\n",
    "            3, mask_token_id, inp_mask_2random.sum()\n",
    "    )\n",
    "\n",
    "    # Cria um array com a mesma forma de labels preenchido com o valor 1.\n",
    "    # Este array será usado como pesos de amostra durante o treinamento.\n",
    "    sample_weights = np.ones( labels.shape )\n",
    "\n",
    "    # Nas posições onde o valor em labels é -1 (ou seja, os tokens não foram mascarados),\n",
    "    # o valor correspondente em sample_weights é definido como 0.\n",
    "    # Isso garante que a perda durante o treinamento seja calculada apenas para os tokens que foram realmente mascarados.\n",
    "    sample_weights[ labels == -1 ] = 0\n",
    "\n",
    "    # Cria uma cópia do array encoded_texts original. Este array representa os rótulos originais para cada token.\n",
    "    y_labels = np.copy( encoded_texts )\n",
    "\n",
    "    # Retorna uma tupla contendo:\n",
    "    # - A entrada com alguns tokens substituídos por [MASK] ou tokens aleatórios.\n",
    "    # - Os rótulos originais (para calcular a perda nos tokens mascarados).\n",
    "    # - Os pesos de amostra para focar o treinamento nos tokens mascarados.\n",
    "    return encoded_texts_masked, y_labels, sample_weights"
   ],
   "outputs": [],
   "execution_count": 60
  },
  {
   "cell_type": "markdown",
   "id": "fc0c9d5289de1a13",
   "metadata": {},
   "source": [
    "# Preparação dos Dados para Treinamento de Modelo de Linguagem Mascarada\n",
    "\n",
    "Esta seção codifica as letras em sequências numéricas, aplica o mascaramento necessário para a tarefa de predição de tokens e cria os datasets do TensorFlow para treinamento e validação. Com o mascaramento aplicado, os rótulos são definidos a partir dos tokens originais e os pesos são configurados de forma que apenas os tokens mascarados contribuam para a perda durante o treinamento.\n"
   ]
  },
  {
   "cell_type": "code",
   "id": "55a74b6efbf9b0d2",
   "metadata": {
    "ExecuteTime": {
     "end_time": "2025-04-09T13:25:13.006787Z",
     "start_time": "2025-04-09T13:25:12.929788Z"
    }
   },
   "source": [
    "# Codificação das letras\n",
    "# Utiliza a função 'encode' para converter as letras (lyrics) do DataFrame de treino em sequências numéricas.\n",
    "x_train = encode( train_df.lyric.values )\n",
    "# Utiliza a função 'encode' para converter as letras (lyrics) do DataFrame de teste em sequências numéricas.\n",
    "x_test = encode( test_df.lyric.values )"
   ],
   "outputs": [],
   "execution_count": 61
  },
  {
   "cell_type": "code",
   "id": "d546c097a2d0259e",
   "metadata": {
    "ExecuteTime": {
     "end_time": "2025-04-09T13:25:13.070786Z",
     "start_time": "2025-04-09T13:25:13.040789Z"
    }
   },
   "source": [
    "# Mascaramento das letras para a tarefa de Masked Language Modeling (MLM)\n",
    "# Aplica a função 'get_masked_input_and_labels' aos dados de treino codificados para criar as entradas mascaradas,\n",
    "# os rótulos (tokens originais) e os pesos de amostra para o treinamento.\n",
    "x_train_masked, y_train_labels, train_sample_weights = get_masked_input_and_labels(\n",
    "        x_train\n",
    ")\n",
    "# Aplica a função 'get_masked_input_and_labels' aos dados de teste codificados para criar as entradas mascaradas,\n",
    "# os rótulos (tokens originais) e os pesos de amostra para a validação.\n",
    "x_val_masked, y_val_labels, val_sample_weights = get_masked_input_and_labels(\n",
    "        x_test\n",
    ")"
   ],
   "outputs": [],
   "execution_count": 62
  },
  {
   "metadata": {
    "ExecuteTime": {
     "end_time": "2025-04-09T13:25:13.132787Z",
     "start_time": "2025-04-09T13:25:13.104789Z"
    }
   },
   "cell_type": "code",
   "source": [
    "# Criação dos Datasets TensorFlow para otimizar o pipeline de dados\n",
    "\n",
    "# Dataset de Treino para Masked Language Modeling (MLM)\n",
    "# Cria um dataset TensorFlow a partir das fatias dos arrays NumPy: entradas mascaradas, rótulos e pesos de amostra do treino.\n",
    "mlm_train_ds = tf.data.Dataset.from_tensor_slices(\n",
    "        (x_train_masked, y_train_labels, train_sample_weights)\n",
    ")\n",
    "# Configurações do dataset de treino:\n",
    "# - shuffle(1000): Embaralha os elementos do dataset. Um buffer de 1000 elementos é usado para o embaralhamento.\n",
    "# - batch(config.BATCH_SIZE): Agrupa os elementos do dataset em lotes do tamanho definido em 'config.BATCH_SIZE'.\n",
    "# - prefetch(tf.data.AUTOTUNE): Permite que o dataset prepare os próximos lotes em segundo plano enquanto o lote atual está sendo processado, melhorando a performance.\n",
    "mlm_train_ds = mlm_train_ds.shuffle( 1000 ).batch( config.BATCH_SIZE ).prefetch( tf.data.AUTOTUNE )\n",
    "\n",
    "# Dataset de Teste (Validação) para Masked Language Modeling (MLM)\n",
    "# Cria um dataset TensorFlow a partir das fatias dos arrays NumPy: entradas mascaradas, rótulos e pesos de amostra do teste/validação.\n",
    "mlm_val_ds = tf.data.Dataset.from_tensor_slices(\n",
    "        (x_val_masked, y_val_labels, val_sample_weights)\n",
    ")\n",
    "# Configurações do dataset de teste/validação:\n",
    "# - batch(config.BATCH_SIZE): Agrupa os elementos do dataset em lotes do tamanho definido em 'config.BATCH_SIZE'.\n",
    "# - prefetch(tf.data.AUTOTUNE): Permite que o dataset prepare os próximos lotes em segundo plano enquanto o lote atual está sendo processado, melhorando a performance.\n",
    "# Observação: O dataset de teste/validação geralmente não é embaralhado, pois a ordem dos dados não deve influenciar a avaliação.\n",
    "mlm_val_ds = mlm_val_ds.batch( config.BATCH_SIZE ).prefetch( tf.data.AUTOTUNE )"
   ],
   "id": "5a6318f63c1b3e6",
   "outputs": [],
   "execution_count": 63
  },
  {
   "metadata": {},
   "cell_type": "markdown",
   "source": [
    "# Módulo BERT e Self-Attention\n",
    "\n",
    "Este bloco define a função `bert_module`, que implementa uma camada Transformer com self-attention multi-cabeça e componentes feed-forward. A função inclui operações de dropout e normalização de camada para melhorar a regularização e estabilidade do treinamento, preparando a entrada para representações contextuais enriquecidas.\n"
   ],
   "id": "67be1561f10b4df5"
  },
  {
   "cell_type": "code",
   "id": "5ac4d706",
   "metadata": {
    "ExecuteTime": {
     "end_time": "2025-04-09T13:25:13.179793Z",
     "start_time": "2025-04-09T13:25:13.166789Z"
    }
   },
   "source": [
    "def bert_module( query, key, value, i ):\n",
    "    \"\"\"\n",
    "    Implementa um bloco (módulo) do encoder Transformer, similar aos utilizados em modelos como o BERT.\n",
    "\n",
    "    Este módulo realiza operações de multi-cabeças de autoatenção, dropout, normalização de camada e uma rede feed-forward.\n",
    "\n",
    "    Args:\n",
    "        query (tf.Tensor): Tensor de entrada representando a consulta (query) para a camada de atenção.\n",
    "        key (tf.Tensor): Tensor de entrada representando a chave (key) para a camada de atenção.\n",
    "        value (tf.Tensor): Tensor de entrada representando o valor (value) para a camada de atenção.\n",
    "        i (int): Um índice para identificar este módulo específico do encoder (útil quando se tem múltiplas camadas).\n",
    "\n",
    "    Returns:\n",
    "        tf.Tensor: O tensor de saída deste módulo do encoder, com a mesma dimensão da entrada,\n",
    "                   mas com representações contextuais aprimoradas.\n",
    "    \"\"\"\n",
    "\n",
    "    # Camada de Multi-Cabeças de Autoatenção\n",
    "    # A autoatenção permite que o modelo aprenda as relações entre as diferentes palavras em uma sequência,\n",
    "    # ponderando a importância de cada palavra em relação às outras.\n",
    "    # Utilizar múltiplas \"cabeças\" de atenção permite que o modelo capture diferentes tipos de relações\n",
    "    # e foque em diferentes partes da sequência simultaneamente.\n",
    "    attention_output = layers.MultiHeadAttention(\n",
    "            num_heads = config.NUM_HEAD,  # Define o número de cabeças de atenção.\n",
    "            key_dim = config.EMBED_DIM // config.NUM_HEAD,  # Define a dimensão de cada cabeça de atenção.\n",
    "            name = f\"encoder_{i}_multiheadattention\",  # Nomeia a camada para fácil identificação.\n",
    "    )( query, key, value )\n",
    "\n",
    "    # Dropout para Regularização\n",
    "    # O dropout é uma técnica de regularização que ajuda a prevenir o overfitting (sobreajuste)\n",
    "    # ao desativar aleatoriamente uma proporção de neurônios durante o treinamento.\n",
    "    attention_output = layers.Dropout( 0.1, name = f\"encoder_{i}_att_dropout\" )(\n",
    "            attention_output\n",
    "    )\n",
    "\n",
    "    # Normalização de Camada (Layer Normalization) da Saída da Atenção\n",
    "    # A normalização de camada é aplicada para estabilizar o processo de aprendizado e acelerar a convergência.\n",
    "    # Ela normaliza as ativações dentro de cada amostra em um lote.\n",
    "    # Aqui, a saída da atenção é adicionada à entrada original (query) antes da normalização,\n",
    "    # uma técnica conhecida como \"residual connection\" (conexão residual), que ajuda no fluxo de informações.\n",
    "    attention_output = layers.LayerNormalization(\n",
    "            epsilon = 1e-6, name = f\"encoder_{i}_att_layernormalization\"\n",
    "    )( query + attention_output )\n",
    "\n",
    "    # Rede Feed-Forward (FFN)\n",
    "    # A rede feed-forward é composta por duas camadas densas com uma função de ativação ReLU entre elas.\n",
    "    # Ela serve para processar a saída da camada de atenção de forma não linear e capturar padrões mais complexos.\n",
    "    ffn = keras.Sequential(\n",
    "            [\n",
    "                layers.Dense( config.FF_DIM, activation = \"relu\" ),\n",
    "                # A primeira camada densa expande a dimensão para config.FF_DIM e aplica a ativação ReLU.\n",
    "                layers.Dense( config.EMBED_DIM ),\n",
    "                # A segunda camada densa projeta a saída de volta para a dimensão original (config.EMBED_DIM).\n",
    "            ],\n",
    "            name = f\"encoder_{i}_ffn\",  # Nomeia a rede feed-forward.\n",
    "    )\n",
    "\n",
    "    # Aplicação da Rede Feed-Forward\n",
    "    ffn_output = ffn( attention_output )\n",
    "\n",
    "    # Dropout após a Rede Feed-Forward para Regularização\n",
    "    ffn_output = layers.Dropout( 0.1, name = f\"encoder_{i}_ffn_dropout\" )(\n",
    "            ffn_output\n",
    "    )\n",
    "\n",
    "    # Normalização de Camada da Saída da Rede Feed-Forward\n",
    "    # Similar à normalização aplicada após a atenção, aqui a saída da rede feed-forward é adicionada\n",
    "    # à saída da camada de atenção (antes da FFN) através de uma conexão residual, e então normalizada.\n",
    "    sequence_output = layers.LayerNormalization(\n",
    "            epsilon = 1e-6, name = f\"encoder_{i}_ffn_layernormalization\"\n",
    "    )( attention_output + ffn_output )\n",
    "\n",
    "    # O resultado final (sequence_output) possui a mesma dimensionalidade da entrada (query),\n",
    "    # mas as representações dos tokens foram enriquecidas com informações contextuais aprendidas\n",
    "    # através das camadas de atenção e feed-forward.\n",
    "    return sequence_output"
   ],
   "outputs": [],
   "execution_count": 64
  },
  {
   "metadata": {},
   "cell_type": "markdown",
   "source": [
    "# Função de Perda e Modelo de Linguagem Mascarada\n",
    "\n",
    "Nesta seção, são definidos a função de perda (entropia cruzada esparsa) e o acompanhamento da perda usando métricas. Em seguida, é implementada a classe `MaskedLanguageModel`, que estende o `keras.Model` para customizar o cálculo da perda e métricas, permitindo um controle mais refinado durante o treinamento do modelo de linguagem mascarada.\n"
   ],
   "id": "4a45ba05c147ee84"
  },
  {
   "cell_type": "code",
   "id": "9af62811",
   "metadata": {
    "ExecuteTime": {
     "end_time": "2025-04-09T13:25:13.224785Z",
     "start_time": "2025-04-09T13:25:13.211789Z"
    }
   },
   "source": [
    "# Função de perda de entropia cruzada esparsa\n",
    "# Esta função de perda é apropriada para tarefas de classificação onde os rótulos (y) são fornecidos como índices inteiros (sparse labels).\n",
    "# O parâmetro 'reduction = None' especifica que a perda não deve ser agregada (média ou soma) ao longo do lote.\n",
    "# Isso fará com que a função de perda retorne um valor de perda para cada exemplo individual no lote.\n",
    "loss_fn = keras.losses.SparseCategoricalCrossentropy( reduction = None )\n",
    "\n",
    "# Objeto para rastrear a média dos valores de perda ao longo do treinamento (ou avaliação)\n",
    "# 'keras.metrics.Mean' é uma classe que calcula a média de valores ao longo do tempo.\n",
    "# Aqui, será usada para manter o controle da perda média durante cada época de treinamento.\n",
    "loss_tracker = keras.metrics.Mean( name = \"loss\" )\n",
    "\n",
    "\n",
    "# Classe customizada para o modelo de Masked Language Modeling (MLM)\n",
    "# Esta classe herda de 'keras.Model' e permite definir o comportamento de perda e métricas de maneira personalizada,\n",
    "# oferecendo maior controle sobre o processo de treinamento.\n",
    "class MaskedLanguageModel( keras.Model ):\n",
    "\n",
    "    # Método para calcular a perda durante o treinamento ou avaliação\n",
    "    # 'x' representa as entradas, 'y' os rótulos verdadeiros, 'y_pred' as previsões do modelo\n",
    "    # e 'sample_weight' os pesos das amostras (usados aqui para focar nos tokens mascarados).\n",
    "    def compute_loss( self, x = None, y = None, y_pred = None, sample_weight = None ):\n",
    "        # Como a função de perda 'loss_fn' foi inicializada com 'reduction = None', ela retorna um tensor\n",
    "        # contendo um valor de perda para cada exemplo no lote.\n",
    "        # Queremos que a perda total do lote seja o valor a ser otimizado, então somamos todas as perdas individuais.\n",
    "        loss = loss_fn( y, y_pred, sample_weight )\n",
    "\n",
    "        # Atualiza o estado do rastreador de perda ('loss_tracker') com os valores de perda do lote atual.\n",
    "        # O parâmetro 'sample_weight' garante que a média da perda seja ponderada corretamente pelos tokens que foram mascarados.\n",
    "        loss_tracker.update_state( loss, sample_weight = sample_weight )\n",
    "\n",
    "        # Retorna a soma total das perdas do lote. Este valor será usado pelo otimizador para ajustar os pesos do modelo.\n",
    "        return keras.ops.sum( loss )\n",
    "\n",
    "    # Método para calcular as métricas durante o treinamento ou avaliação\n",
    "    # Recebe as entradas, os rótulos verdadeiros, as previsões e os pesos das amostras.\n",
    "    def compute_metrics( self, x, y, y_pred, sample_weight ):\n",
    "        # Retorna um dicionário contendo as métricas a serem monitoradas.\n",
    "        # Neste caso, estamos retornando apenas a perda média calculada pelo 'loss_tracker'.\n",
    "        return { \"loss\": loss_tracker.result() }\n",
    "\n",
    "    # Propriedade para listar os objetos de métrica do modelo\n",
    "    # Este método é importante para que o Keras possa gerenciar o estado das métricas automaticamente.\n",
    "    # Ao listar os objetos 'Metric' aqui, o método 'reset_states()' será chamado automaticamente no início de cada época\n",
    "    # de treinamento ou no início da função 'evaluate()'.\n",
    "    # Se esta propriedade não for implementada, seria necessário chamar 'reset_states()' manualmente.\n",
    "    @property\n",
    "    def metrics( self ):\n",
    "        return [ loss_tracker ]"
   ],
   "outputs": [],
   "execution_count": 65
  },
  {
   "metadata": {},
   "cell_type": "markdown",
   "source": [
    "# Construção do Modelo BERT para Masked Language Modeling\n",
    "\n",
    "Esta parte do notebook monta o modelo BERT adaptado para a tarefa de Masked Language Modeling (MLM). Inclui a definição das camadas de entrada, incorporação de tokens e posicional, aplicação dos blocos de Transformer (através do `bert_module`) e, por fim, a camada de classificação que gera as predições dos tokens mascarados. O modelo é compilado utilizando o otimizador Adam.\n"
   ],
   "id": "b75bf4d58716f829"
  },
  {
   "cell_type": "code",
   "id": "83087148",
   "metadata": {
    "ExecuteTime": {
     "end_time": "2025-04-09T13:25:13.302786Z",
     "start_time": "2025-04-09T13:25:13.257790Z"
    }
   },
   "source": [
    "def create_masked_language_bert_model():\n",
    "    \"\"\"\n",
    "    Cria um modelo BERT para a tarefa de Masked Language Modeling (MLM).\n",
    "\n",
    "    Este modelo consiste em uma camada de embedding para as palavras, uma camada de embedding para as posições,\n",
    "    múltiplos blocos Transformer (definidos na função `bert_module`) e uma camada de classificação para prever os tokens mascarados.\n",
    "\n",
    "    Returns:\n",
    "        MaskedLanguageModel: Uma instância do modelo BERT configurada para MLM.\n",
    "    \"\"\"\n",
    "    # Define a camada de entrada do modelo.\n",
    "    # Espera-se que a entrada seja uma sequência de tokens (IDs inteiros) com comprimento máximo definido em 'config.MAX_LEN'.\n",
    "    inputs = layers.Input( (config.MAX_LEN,), dtype = \"int64\" )\n",
    "\n",
    "    # Cria a camada de embedding de palavras (word embeddings).\n",
    "    # Esta camada transforma cada ID de token em um vetor denso de tamanho 'config.EMBED_DIM',\n",
    "    # representando a semântica da palavra.\n",
    "    word_embeddings = layers.Embedding(\n",
    "            config.VOCAB_SIZE, config.EMBED_DIM, name = \"word_embedding\"\n",
    "    )( inputs )\n",
    "\n",
    "    # Cria a camada de embedding de posição (position embeddings) usando a biblioteca TensorFlow Hub.\n",
    "    # Em modelos Transformer, a ordem das palavras é importante. Essa camada adiciona informações sobre a posição de cada token na sequência.\n",
    "    # 'sequence_length' define o comprimento máximo da sequência para o qual os embeddings de posição serão gerados.\n",
    "    position_embeddings = keras_hub.layers.PositionEmbedding(\n",
    "            sequence_length = config.MAX_LEN\n",
    "    )( word_embeddings )\n",
    "\n",
    "    # Combina as embeddings de palavras e as embeddings de posição.\n",
    "    # A soma dessas duas embeddings fornece ao modelo informações sobre o significado da palavra e sua posição na frase.\n",
    "    embeddings = word_embeddings + position_embeddings\n",
    "\n",
    "    # Inicializa a saída do encoder com a combinação das embeddings.\n",
    "    encoder_output = embeddings\n",
    "\n",
    "    # Aplica múltiplos blocos Transformer (definidos na função 'bert_module').\n",
    "    # O número de camadas (blocos) é definido em 'config.NUM_LAYERS'.\n",
    "    # Cada bloco Transformer realiza autoatenção multi-cabeças e uma rede feed-forward.\n",
    "    for i in range( config.NUM_LAYERS ):\n",
    "        encoder_output = bert_module( encoder_output, encoder_output, encoder_output, i )\n",
    "\n",
    "    # Cria a camada de classificação para a tarefa de Masked Language Modeling (MLM).\n",
    "    # Esta camada densa projeta a saída do encoder de volta para o tamanho do vocabulário ('config.VOCAB_SIZE').\n",
    "    # A função de ativação 'softmax' transforma as saídas brutas da rede em um vetor de probabilidades,\n",
    "    # onde cada probabilidade representa a chance de um determinado token do vocabulário ser o token mascarado.\n",
    "    mlm_output = layers.Dense( config.VOCAB_SIZE, name = \"mlm_cls\", activation = \"softmax\" )(\n",
    "            encoder_output\n",
    "    )\n",
    "\n",
    "    # Cria uma instância do modelo MaskedLanguageModel que definimos anteriormente.\n",
    "    # As entradas do modelo são as sequências de tokens ('inputs') e a saída é a previsão dos tokens mascarados ('mlm_output').\n",
    "    mlm_model = MaskedLanguageModel( inputs, mlm_output, name = \"masked_bert_model\" )\n",
    "\n",
    "    # Define o otimizador a ser usado para o treinamento.\n",
    "    # 'Adam' é um algoritmo de otimização popular. A taxa de aprendizado ('learning_rate') é definida em 'config.LR'.\n",
    "    optimizer = keras.optimizers.Adam( learning_rate = config.LR )\n",
    "\n",
    "    # Compila o modelo, configurando o otimizador. A função de perda é definida dentro da classe MaskedLanguageModel.\n",
    "    mlm_model.compile( optimizer = optimizer )\n",
    "\n",
    "    # Retorna a instância do modelo BERT para MLM.\n",
    "    return mlm_model\n",
    "\n",
    "\n",
    "# Cria um mapeamento do ID do token para o token em si.\n",
    "# 'vectorize_layer.get_vocabulary()' retorna uma lista de todos os tokens no vocabulário.\n",
    "# 'enumerate' cria pares de índice e token, e 'dict()' transforma esses pares em um dicionário.\n",
    "id2token = dict( enumerate( vectorize_layer.get_vocabulary() ) )\n",
    "\n",
    "# Cria um mapeamento do token para o seu ID.\n",
    "# Este dicionário é criado invertendo o dicionário 'id2token'. Para cada valor (token) em 'id2token',\n",
    "# sua chave (ID) se torna o novo valor, e o token se torna a nova chave.\n",
    "token2id = { y: x for x, y in id2token.items() }"
   ],
   "outputs": [],
   "execution_count": 66
  },
  {
   "metadata": {},
   "cell_type": "markdown",
   "source": [
    "# Mapeamento de Vocabulário e Callback de Geração de Texto\n",
    "\n",
    "Neste trecho, é criado um mapeamento bidirecional entre IDs e tokens, facilitando a interpretação das sequências processadas. Também é definida a classe `MaskedTextGenerator`, um callback do Keras que, ao final de cada época, imprime exemplos de predições substituindo os tokens mascarados – auxiliando na visualização do desempenho do modelo durante o treinamento.\n"
   ],
   "id": "f2e1371be47078c2"
  },
  {
   "cell_type": "code",
   "id": "874798b1",
   "metadata": {
    "ExecuteTime": {
     "end_time": "2025-04-09T13:25:13.412788Z",
     "start_time": "2025-04-09T13:25:13.338789Z"
    }
   },
   "source": [
    "from tensorflow import keras\n",
    "import numpy as np\n",
    "from pprint import pprint\n",
    "import torch  # Importa torch para verificar o tipo do tensor\n",
    "\n",
    "\n",
    "# Por herdar de keras.callbacks.Callback, esta classe pode ser usada durante o treinamento\n",
    "# para executar ações personalizadas ao final de cada época (ou em outros momentos do treinamento).\n",
    "class MaskedTextGenerator( keras.callbacks.Callback ):\n",
    "    def __init__( self, sample_tokens, top_k = 5 ):\n",
    "        \"\"\"\n",
    "        Inicializa o gerador de texto mascarado.\n",
    "\n",
    "        Args:\n",
    "            sample_tokens (np.ndarray ou torch.Tensor): Um exemplo de sequência de tokens de entrada contendo o token de máscara.\n",
    "            top_k (int, optional): O número de candidatos principais a serem considerados para cada posição mascarada. Defaults to 5.\n",
    "        \"\"\"\n",
    "        self.sample_tokens = sample_tokens  # Exemplo de entrada que contém o token de máscara para previsão.\n",
    "        self.k = top_k  # Número de candidatos principais (tokens com maior probabilidade) a serem considerados para substituir a máscara.\n",
    "\n",
    "    # Converte uma sequência de IDs de tokens para uma string legível.\n",
    "    def decode( self, tokens ):\n",
    "        \"\"\"\n",
    "        Decodifica uma sequência de IDs de tokens para uma string.\n",
    "\n",
    "        Args:\n",
    "            tokens (np.ndarray): Um array NumPy de IDs de tokens.\n",
    "\n",
    "        Returns:\n",
    "            str: A string correspondente à sequência de tokens, com tokens desconhecidos representados por \"[UNK]\" e ignorando o token de padding (ID 0).\n",
    "        \"\"\"\n",
    "        return \" \".join( [ id2token.get( int( t ), \"[UNK]\" ) for t in tokens if t != 0 ] )\n",
    "\n",
    "    # Converte um ID de token para seu token correspondente.\n",
    "    def convert_ids_to_tokens( self, id ):\n",
    "        \"\"\"\n",
    "        Converte um ID de token para o seu token correspondente usando o mapeamento id2token.\n",
    "\n",
    "        Args:\n",
    "            id (int): O ID do token.\n",
    "\n",
    "        Returns:\n",
    "            str: O token correspondente ao ID.\n",
    "        \"\"\"\n",
    "        return id2token[ id ]\n",
    "\n",
    "    # Este método é executado ao final de cada época de treinamento.\n",
    "    def on_epoch_end( self, epoch, logs = None ):\n",
    "        \"\"\"\n",
    "        Executa ações ao final de cada época de treinamento. Neste caso, gera e imprime as principais previsões para o token mascarado no exemplo de entrada.\n",
    "\n",
    "        Args:\n",
    "            epoch (int): O índice da época que acaba de terminar.\n",
    "            logs (dict, optional): Um dicionário contendo as métricas de perda e outras informações registradas durante a época. Defaults to None.\n",
    "        \"\"\"\n",
    "        # Obtém as previsões do modelo para o exemplo de entrada fornecido.\n",
    "        # 'self.model' se refere ao modelo que está sendo treinado e que este callback está associado.\n",
    "        prediction = self.model.predict( self.sample_tokens )\n",
    "\n",
    "        # Procura o índice onde o token de máscara está presente na sequência de tokens de entrada.\n",
    "        # 'np.where' retorna um array de índices onde a condição é verdadeira.\n",
    "        # Como 'self.sample_tokens' pode ser um lote (mesmo que de tamanho 1), pegamos o índice dentro da sequência.\n",
    "        masked_index = np.where( self.sample_tokens == mask_token_id )\n",
    "        # 'masked_index' será uma tupla de arrays (para cada dimensão). Pegamos os índices da segunda dimensão (a sequência).\n",
    "        masked_index = masked_index[ 1 ]\n",
    "\n",
    "        # 'prediction' terá a mesma forma que a entrada, exceto que a última dimensão conterá as probabilidades\n",
    "        # para cada token do vocabulário. Pegamos as probabilidades de predição para o token mascarado na sequência.\n",
    "        mask_prediction = prediction[ 0 ][ masked_index ]\n",
    "\n",
    "        # Para o token mascarado, obtemos os índices dos 'top_k' tokens com as maiores probabilidades.\n",
    "        # 'argsort()' retorna os índices que ordenariam um array. Usamos '[-self.k:]' para pegar os últimos 'k' índices (maiores probabilidades)\n",
    "        # e '[::-1]' para inverter a ordem, obtendo os índices em ordem decrescente de probabilidade.\n",
    "        top_indices = mask_prediction[ 0 ].argsort()[ -self.k: ][ ::-1 ]\n",
    "        # Obtemos os valores das probabilidades correspondentes aos 'top_indices'.\n",
    "        values = mask_prediction[ 0 ][ top_indices ]\n",
    "\n",
    "        # Itera sobre os 'top_k' candidatos previstos.\n",
    "        for i in range( len( top_indices ) ):\n",
    "            # Obtém o índice do token previsto.\n",
    "            p = top_indices[ i ]\n",
    "            # Obtém a probabilidade correspondente.\n",
    "            v = values[ i ]\n",
    "\n",
    "            # Cria uma cópia da sequência de tokens de entrada para não modificar a original.\n",
    "            # Verifica se self.sample_tokens é um tensor do PyTorch e o move para a CPU se necessário.\n",
    "            if isinstance( self.sample_tokens, torch.Tensor ):\n",
    "                tokens = np.copy( self.sample_tokens[ 0 ].cpu().numpy() )\n",
    "            else:\n",
    "                tokens = np.copy( self.sample_tokens[ 0 ] )\n",
    "\n",
    "            # Substitui o token de máscara na cópia da sequência pelo token previsto atual.\n",
    "            tokens[ masked_index[ 0 ] ] = p\n",
    "\n",
    "            # Cria um dicionário contendo o texto original, a previsão com o token substituído,\n",
    "            # a probabilidade da previsão e o token previsto.\n",
    "            result = {\n",
    "                \"input_text\": self.decode( self.sample_tokens[ 0 ].cpu().numpy() ) if isinstance( self.sample_tokens,\n",
    "                                                                                                  torch.Tensor\n",
    "                                                                                                  ) else self.decode(\n",
    "                        self.sample_tokens[ 0 ]\n",
    "                ),\n",
    "                \"prediction\": self.decode( tokens ),\n",
    "                \"probability\": v,\n",
    "                \"predicted mask token\": self.convert_ids_to_tokens( p ),\n",
    "            }\n",
    "            # Imprime o resultado formatado para facilitar a leitura.\n",
    "            pprint( result )"
   ],
   "outputs": [
    {
     "data": {
      "text/plain": [
       "\u001B[1mModel: \"masked_bert_model\"\u001B[0m\n"
      ],
      "text/html": [
       "<pre style=\"white-space:pre;overflow-x:auto;line-height:normal;font-family:Menlo,'DejaVu Sans Mono',consolas,'Courier New',monospace\"><span style=\"font-weight: bold\">Model: \"masked_bert_model\"</span>\n",
       "</pre>\n"
      ]
     },
     "metadata": {},
     "output_type": "display_data"
    },
    {
     "data": {
      "text/plain": [
       "┏━━━━━━━━━━━━━━━━━━━━━┳━━━━━━━━━━━━━━━━━━━┳━━━━━━━━━━━━┳━━━━━━━━━━━━━━━━━━━┓\n",
       "┃\u001B[1m \u001B[0m\u001B[1mLayer (type)       \u001B[0m\u001B[1m \u001B[0m┃\u001B[1m \u001B[0m\u001B[1mOutput Shape     \u001B[0m\u001B[1m \u001B[0m┃\u001B[1m \u001B[0m\u001B[1m   Param #\u001B[0m\u001B[1m \u001B[0m┃\u001B[1m \u001B[0m\u001B[1mConnected to     \u001B[0m\u001B[1m \u001B[0m┃\n",
       "┡━━━━━━━━━━━━━━━━━━━━━╇━━━━━━━━━━━━━━━━━━━╇━━━━━━━━━━━━╇━━━━━━━━━━━━━━━━━━━┩\n",
       "│ input_layer_4       │ (\u001B[38;5;45mNone\u001B[0m, \u001B[38;5;34m256\u001B[0m)       │          \u001B[38;5;34m0\u001B[0m │ -                 │\n",
       "│ (\u001B[38;5;33mInputLayer\u001B[0m)        │                   │            │                   │\n",
       "├─────────────────────┼───────────────────┼────────────┼───────────────────┤\n",
       "│ word_embedding      │ (\u001B[38;5;45mNone\u001B[0m, \u001B[38;5;34m256\u001B[0m, \u001B[38;5;34m128\u001B[0m)  │  \u001B[38;5;34m3,840,000\u001B[0m │ input_layer_4[\u001B[38;5;34m0\u001B[0m]… │\n",
       "│ (\u001B[38;5;33mEmbedding\u001B[0m)         │                   │            │                   │\n",
       "├─────────────────────┼───────────────────┼────────────┼───────────────────┤\n",
       "│ position_embedding… │ (\u001B[38;5;45mNone\u001B[0m, \u001B[38;5;34m256\u001B[0m, \u001B[38;5;34m128\u001B[0m)  │     \u001B[38;5;34m32,768\u001B[0m │ word_embedding[\u001B[38;5;34m0\u001B[0m… │\n",
       "│ (\u001B[38;5;33mPositionEmbedding\u001B[0m) │                   │            │                   │\n",
       "├─────────────────────┼───────────────────┼────────────┼───────────────────┤\n",
       "│ add_6 (\u001B[38;5;33mAdd\u001B[0m)         │ (\u001B[38;5;45mNone\u001B[0m, \u001B[38;5;34m256\u001B[0m, \u001B[38;5;34m128\u001B[0m)  │          \u001B[38;5;34m0\u001B[0m │ word_embedding[\u001B[38;5;34m0\u001B[0m… │\n",
       "│                     │                   │            │ position_embeddi… │\n",
       "├─────────────────────┼───────────────────┼────────────┼───────────────────┤\n",
       "│ encoder_0_multihea… │ (\u001B[38;5;45mNone\u001B[0m, \u001B[38;5;34m256\u001B[0m, \u001B[38;5;34m128\u001B[0m)  │     \u001B[38;5;34m66,048\u001B[0m │ add_6[\u001B[38;5;34m0\u001B[0m][\u001B[38;5;34m0\u001B[0m],      │\n",
       "│ (\u001B[38;5;33mMultiHeadAttentio…\u001B[0m │                   │            │ add_6[\u001B[38;5;34m0\u001B[0m][\u001B[38;5;34m0\u001B[0m],      │\n",
       "│                     │                   │            │ add_6[\u001B[38;5;34m0\u001B[0m][\u001B[38;5;34m0\u001B[0m]       │\n",
       "├─────────────────────┼───────────────────┼────────────┼───────────────────┤\n",
       "│ encoder_0_att_drop… │ (\u001B[38;5;45mNone\u001B[0m, \u001B[38;5;34m256\u001B[0m, \u001B[38;5;34m128\u001B[0m)  │          \u001B[38;5;34m0\u001B[0m │ encoder_0_multih… │\n",
       "│ (\u001B[38;5;33mDropout\u001B[0m)           │                   │            │                   │\n",
       "├─────────────────────┼───────────────────┼────────────┼───────────────────┤\n",
       "│ add_7 (\u001B[38;5;33mAdd\u001B[0m)         │ (\u001B[38;5;45mNone\u001B[0m, \u001B[38;5;34m256\u001B[0m, \u001B[38;5;34m128\u001B[0m)  │          \u001B[38;5;34m0\u001B[0m │ add_6[\u001B[38;5;34m0\u001B[0m][\u001B[38;5;34m0\u001B[0m],      │\n",
       "│                     │                   │            │ encoder_0_att_dr… │\n",
       "├─────────────────────┼───────────────────┼────────────┼───────────────────┤\n",
       "│ encoder_0_att_laye… │ (\u001B[38;5;45mNone\u001B[0m, \u001B[38;5;34m256\u001B[0m, \u001B[38;5;34m128\u001B[0m)  │        \u001B[38;5;34m256\u001B[0m │ add_7[\u001B[38;5;34m0\u001B[0m][\u001B[38;5;34m0\u001B[0m]       │\n",
       "│ (\u001B[38;5;33mLayerNormalizatio…\u001B[0m │                   │            │                   │\n",
       "├─────────────────────┼───────────────────┼────────────┼───────────────────┤\n",
       "│ encoder_0_ffn       │ (\u001B[38;5;45mNone\u001B[0m, \u001B[38;5;34m256\u001B[0m, \u001B[38;5;34m128\u001B[0m)  │     \u001B[38;5;34m33,024\u001B[0m │ encoder_0_att_la… │\n",
       "│ (\u001B[38;5;33mSequential\u001B[0m)        │                   │            │                   │\n",
       "├─────────────────────┼───────────────────┼────────────┼───────────────────┤\n",
       "│ encoder_0_ffn_drop… │ (\u001B[38;5;45mNone\u001B[0m, \u001B[38;5;34m256\u001B[0m, \u001B[38;5;34m128\u001B[0m)  │          \u001B[38;5;34m0\u001B[0m │ encoder_0_ffn[\u001B[38;5;34m0\u001B[0m]… │\n",
       "│ (\u001B[38;5;33mDropout\u001B[0m)           │                   │            │                   │\n",
       "├─────────────────────┼───────────────────┼────────────┼───────────────────┤\n",
       "│ add_8 (\u001B[38;5;33mAdd\u001B[0m)         │ (\u001B[38;5;45mNone\u001B[0m, \u001B[38;5;34m256\u001B[0m, \u001B[38;5;34m128\u001B[0m)  │          \u001B[38;5;34m0\u001B[0m │ encoder_0_att_la… │\n",
       "│                     │                   │            │ encoder_0_ffn_dr… │\n",
       "├─────────────────────┼───────────────────┼────────────┼───────────────────┤\n",
       "│ encoder_0_ffn_laye… │ (\u001B[38;5;45mNone\u001B[0m, \u001B[38;5;34m256\u001B[0m, \u001B[38;5;34m128\u001B[0m)  │        \u001B[38;5;34m256\u001B[0m │ add_8[\u001B[38;5;34m0\u001B[0m][\u001B[38;5;34m0\u001B[0m]       │\n",
       "│ (\u001B[38;5;33mLayerNormalizatio…\u001B[0m │                   │            │                   │\n",
       "├─────────────────────┼───────────────────┼────────────┼───────────────────┤\n",
       "│ mlm_cls (\u001B[38;5;33mDense\u001B[0m)     │ (\u001B[38;5;45mNone\u001B[0m, \u001B[38;5;34m256\u001B[0m,       │  \u001B[38;5;34m3,870,000\u001B[0m │ encoder_0_ffn_la… │\n",
       "│                     │ \u001B[38;5;34m30000\u001B[0m)            │            │                   │\n",
       "└─────────────────────┴───────────────────┴────────────┴───────────────────┘\n"
      ],
      "text/html": [
       "<pre style=\"white-space:pre;overflow-x:auto;line-height:normal;font-family:Menlo,'DejaVu Sans Mono',consolas,'Courier New',monospace\">┏━━━━━━━━━━━━━━━━━━━━━┳━━━━━━━━━━━━━━━━━━━┳━━━━━━━━━━━━┳━━━━━━━━━━━━━━━━━━━┓\n",
       "┃<span style=\"font-weight: bold\"> Layer (type)        </span>┃<span style=\"font-weight: bold\"> Output Shape      </span>┃<span style=\"font-weight: bold\">    Param # </span>┃<span style=\"font-weight: bold\"> Connected to      </span>┃\n",
       "┡━━━━━━━━━━━━━━━━━━━━━╇━━━━━━━━━━━━━━━━━━━╇━━━━━━━━━━━━╇━━━━━━━━━━━━━━━━━━━┩\n",
       "│ input_layer_4       │ (<span style=\"color: #00d7ff; text-decoration-color: #00d7ff\">None</span>, <span style=\"color: #00af00; text-decoration-color: #00af00\">256</span>)       │          <span style=\"color: #00af00; text-decoration-color: #00af00\">0</span> │ -                 │\n",
       "│ (<span style=\"color: #0087ff; text-decoration-color: #0087ff\">InputLayer</span>)        │                   │            │                   │\n",
       "├─────────────────────┼───────────────────┼────────────┼───────────────────┤\n",
       "│ word_embedding      │ (<span style=\"color: #00d7ff; text-decoration-color: #00d7ff\">None</span>, <span style=\"color: #00af00; text-decoration-color: #00af00\">256</span>, <span style=\"color: #00af00; text-decoration-color: #00af00\">128</span>)  │  <span style=\"color: #00af00; text-decoration-color: #00af00\">3,840,000</span> │ input_layer_4[<span style=\"color: #00af00; text-decoration-color: #00af00\">0</span>]… │\n",
       "│ (<span style=\"color: #0087ff; text-decoration-color: #0087ff\">Embedding</span>)         │                   │            │                   │\n",
       "├─────────────────────┼───────────────────┼────────────┼───────────────────┤\n",
       "│ position_embedding… │ (<span style=\"color: #00d7ff; text-decoration-color: #00d7ff\">None</span>, <span style=\"color: #00af00; text-decoration-color: #00af00\">256</span>, <span style=\"color: #00af00; text-decoration-color: #00af00\">128</span>)  │     <span style=\"color: #00af00; text-decoration-color: #00af00\">32,768</span> │ word_embedding[<span style=\"color: #00af00; text-decoration-color: #00af00\">0</span>… │\n",
       "│ (<span style=\"color: #0087ff; text-decoration-color: #0087ff\">PositionEmbedding</span>) │                   │            │                   │\n",
       "├─────────────────────┼───────────────────┼────────────┼───────────────────┤\n",
       "│ add_6 (<span style=\"color: #0087ff; text-decoration-color: #0087ff\">Add</span>)         │ (<span style=\"color: #00d7ff; text-decoration-color: #00d7ff\">None</span>, <span style=\"color: #00af00; text-decoration-color: #00af00\">256</span>, <span style=\"color: #00af00; text-decoration-color: #00af00\">128</span>)  │          <span style=\"color: #00af00; text-decoration-color: #00af00\">0</span> │ word_embedding[<span style=\"color: #00af00; text-decoration-color: #00af00\">0</span>… │\n",
       "│                     │                   │            │ position_embeddi… │\n",
       "├─────────────────────┼───────────────────┼────────────┼───────────────────┤\n",
       "│ encoder_0_multihea… │ (<span style=\"color: #00d7ff; text-decoration-color: #00d7ff\">None</span>, <span style=\"color: #00af00; text-decoration-color: #00af00\">256</span>, <span style=\"color: #00af00; text-decoration-color: #00af00\">128</span>)  │     <span style=\"color: #00af00; text-decoration-color: #00af00\">66,048</span> │ add_6[<span style=\"color: #00af00; text-decoration-color: #00af00\">0</span>][<span style=\"color: #00af00; text-decoration-color: #00af00\">0</span>],      │\n",
       "│ (<span style=\"color: #0087ff; text-decoration-color: #0087ff\">MultiHeadAttentio…</span> │                   │            │ add_6[<span style=\"color: #00af00; text-decoration-color: #00af00\">0</span>][<span style=\"color: #00af00; text-decoration-color: #00af00\">0</span>],      │\n",
       "│                     │                   │            │ add_6[<span style=\"color: #00af00; text-decoration-color: #00af00\">0</span>][<span style=\"color: #00af00; text-decoration-color: #00af00\">0</span>]       │\n",
       "├─────────────────────┼───────────────────┼────────────┼───────────────────┤\n",
       "│ encoder_0_att_drop… │ (<span style=\"color: #00d7ff; text-decoration-color: #00d7ff\">None</span>, <span style=\"color: #00af00; text-decoration-color: #00af00\">256</span>, <span style=\"color: #00af00; text-decoration-color: #00af00\">128</span>)  │          <span style=\"color: #00af00; text-decoration-color: #00af00\">0</span> │ encoder_0_multih… │\n",
       "│ (<span style=\"color: #0087ff; text-decoration-color: #0087ff\">Dropout</span>)           │                   │            │                   │\n",
       "├─────────────────────┼───────────────────┼────────────┼───────────────────┤\n",
       "│ add_7 (<span style=\"color: #0087ff; text-decoration-color: #0087ff\">Add</span>)         │ (<span style=\"color: #00d7ff; text-decoration-color: #00d7ff\">None</span>, <span style=\"color: #00af00; text-decoration-color: #00af00\">256</span>, <span style=\"color: #00af00; text-decoration-color: #00af00\">128</span>)  │          <span style=\"color: #00af00; text-decoration-color: #00af00\">0</span> │ add_6[<span style=\"color: #00af00; text-decoration-color: #00af00\">0</span>][<span style=\"color: #00af00; text-decoration-color: #00af00\">0</span>],      │\n",
       "│                     │                   │            │ encoder_0_att_dr… │\n",
       "├─────────────────────┼───────────────────┼────────────┼───────────────────┤\n",
       "│ encoder_0_att_laye… │ (<span style=\"color: #00d7ff; text-decoration-color: #00d7ff\">None</span>, <span style=\"color: #00af00; text-decoration-color: #00af00\">256</span>, <span style=\"color: #00af00; text-decoration-color: #00af00\">128</span>)  │        <span style=\"color: #00af00; text-decoration-color: #00af00\">256</span> │ add_7[<span style=\"color: #00af00; text-decoration-color: #00af00\">0</span>][<span style=\"color: #00af00; text-decoration-color: #00af00\">0</span>]       │\n",
       "│ (<span style=\"color: #0087ff; text-decoration-color: #0087ff\">LayerNormalizatio…</span> │                   │            │                   │\n",
       "├─────────────────────┼───────────────────┼────────────┼───────────────────┤\n",
       "│ encoder_0_ffn       │ (<span style=\"color: #00d7ff; text-decoration-color: #00d7ff\">None</span>, <span style=\"color: #00af00; text-decoration-color: #00af00\">256</span>, <span style=\"color: #00af00; text-decoration-color: #00af00\">128</span>)  │     <span style=\"color: #00af00; text-decoration-color: #00af00\">33,024</span> │ encoder_0_att_la… │\n",
       "│ (<span style=\"color: #0087ff; text-decoration-color: #0087ff\">Sequential</span>)        │                   │            │                   │\n",
       "├─────────────────────┼───────────────────┼────────────┼───────────────────┤\n",
       "│ encoder_0_ffn_drop… │ (<span style=\"color: #00d7ff; text-decoration-color: #00d7ff\">None</span>, <span style=\"color: #00af00; text-decoration-color: #00af00\">256</span>, <span style=\"color: #00af00; text-decoration-color: #00af00\">128</span>)  │          <span style=\"color: #00af00; text-decoration-color: #00af00\">0</span> │ encoder_0_ffn[<span style=\"color: #00af00; text-decoration-color: #00af00\">0</span>]… │\n",
       "│ (<span style=\"color: #0087ff; text-decoration-color: #0087ff\">Dropout</span>)           │                   │            │                   │\n",
       "├─────────────────────┼───────────────────┼────────────┼───────────────────┤\n",
       "│ add_8 (<span style=\"color: #0087ff; text-decoration-color: #0087ff\">Add</span>)         │ (<span style=\"color: #00d7ff; text-decoration-color: #00d7ff\">None</span>, <span style=\"color: #00af00; text-decoration-color: #00af00\">256</span>, <span style=\"color: #00af00; text-decoration-color: #00af00\">128</span>)  │          <span style=\"color: #00af00; text-decoration-color: #00af00\">0</span> │ encoder_0_att_la… │\n",
       "│                     │                   │            │ encoder_0_ffn_dr… │\n",
       "├─────────────────────┼───────────────────┼────────────┼───────────────────┤\n",
       "│ encoder_0_ffn_laye… │ (<span style=\"color: #00d7ff; text-decoration-color: #00d7ff\">None</span>, <span style=\"color: #00af00; text-decoration-color: #00af00\">256</span>, <span style=\"color: #00af00; text-decoration-color: #00af00\">128</span>)  │        <span style=\"color: #00af00; text-decoration-color: #00af00\">256</span> │ add_8[<span style=\"color: #00af00; text-decoration-color: #00af00\">0</span>][<span style=\"color: #00af00; text-decoration-color: #00af00\">0</span>]       │\n",
       "│ (<span style=\"color: #0087ff; text-decoration-color: #0087ff\">LayerNormalizatio…</span> │                   │            │                   │\n",
       "├─────────────────────┼───────────────────┼────────────┼───────────────────┤\n",
       "│ mlm_cls (<span style=\"color: #0087ff; text-decoration-color: #0087ff\">Dense</span>)     │ (<span style=\"color: #00d7ff; text-decoration-color: #00d7ff\">None</span>, <span style=\"color: #00af00; text-decoration-color: #00af00\">256</span>,       │  <span style=\"color: #00af00; text-decoration-color: #00af00\">3,870,000</span> │ encoder_0_ffn_la… │\n",
       "│                     │ <span style=\"color: #00af00; text-decoration-color: #00af00\">30000</span>)            │            │                   │\n",
       "└─────────────────────┴───────────────────┴────────────┴───────────────────┘\n",
       "</pre>\n"
      ]
     },
     "metadata": {},
     "output_type": "display_data"
    },
    {
     "data": {
      "text/plain": [
       "\u001B[1m Total params: \u001B[0m\u001B[38;5;34m7,842,352\u001B[0m (29.92 MB)\n"
      ],
      "text/html": [
       "<pre style=\"white-space:pre;overflow-x:auto;line-height:normal;font-family:Menlo,'DejaVu Sans Mono',consolas,'Courier New',monospace\"><span style=\"font-weight: bold\"> Total params: </span><span style=\"color: #00af00; text-decoration-color: #00af00\">7,842,352</span> (29.92 MB)\n",
       "</pre>\n"
      ]
     },
     "metadata": {},
     "output_type": "display_data"
    },
    {
     "data": {
      "text/plain": [
       "\u001B[1m Trainable params: \u001B[0m\u001B[38;5;34m7,842,352\u001B[0m (29.92 MB)\n"
      ],
      "text/html": [
       "<pre style=\"white-space:pre;overflow-x:auto;line-height:normal;font-family:Menlo,'DejaVu Sans Mono',consolas,'Courier New',monospace\"><span style=\"font-weight: bold\"> Trainable params: </span><span style=\"color: #00af00; text-decoration-color: #00af00\">7,842,352</span> (29.92 MB)\n",
       "</pre>\n"
      ]
     },
     "metadata": {},
     "output_type": "display_data"
    },
    {
     "data": {
      "text/plain": [
       "\u001B[1m Non-trainable params: \u001B[0m\u001B[38;5;34m0\u001B[0m (0.00 B)\n"
      ],
      "text/html": [
       "<pre style=\"white-space:pre;overflow-x:auto;line-height:normal;font-family:Menlo,'DejaVu Sans Mono',consolas,'Courier New',monospace\"><span style=\"font-weight: bold\"> Non-trainable params: </span><span style=\"color: #00af00; text-decoration-color: #00af00\">0</span> (0.00 B)\n",
       "</pre>\n"
      ]
     },
     "metadata": {},
     "output_type": "display_data"
    }
   ],
   "execution_count": 67
  },
  {
   "metadata": {},
   "cell_type": "markdown",
   "source": [
    "# Instanciação e Resumo do Modelo\n",
    "\n",
    "Aqui são processados exemplos de entrada para teste do callback, a criação do modelo BERT para MLM com a função definida, e a visualização de seu resumo. Esse passo garante que a arquitetura do modelo esteja conforme o esperado antes de iniciar o treinamento.\n"
   ],
   "id": "3abe55c17cca363"
  },
  {
   "metadata": {},
   "cell_type": "code",
   "outputs": [],
   "execution_count": null,
   "source": [
    "# Converte o exemplo de texto contendo a máscara para uma sequência de IDs de tokens\n",
    "# utilizando a camada de vetorização ('vectorize_layer') que foi adaptada aos dados de treino.\n",
    "sample_tokens = vectorize_layer( [ \"Eu tenho [mask] \" ] )\n",
    "\n",
    "# Cria uma instância do callback MaskedTextGenerator, que será usado para gerar exemplos de predição\n",
    "# ao final de cada época de treinamento.\n",
    "# Verifica se 'sample_tokens' é um tensor do PyTorch. Se for, move-o para a CPU e o converte para um array NumPy\n",
    "# antes de passá-lo para o callback, pois o callback espera um array NumPy ou similar.\n",
    "if isinstance( sample_tokens, torch.Tensor ):\n",
    "    generator_callback = MaskedTextGenerator( sample_tokens.cpu().numpy()\n",
    "                                              )  # Movendo para a CPU e convertendo para numpy\n",
    "else:\n",
    "    generator_callback = MaskedTextGenerator( sample_tokens )\n",
    "\n",
    "# Cria uma instância do modelo BERT para a tarefa de Masked Language Modeling (MLM)\n",
    "# chamando a função 'create_masked_language_bert_model' que define a arquitetura do modelo.\n",
    "bert_masked_model = create_masked_language_bert_model()\n",
    "\n",
    "# Exibe um resumo da arquitetura do modelo BERT criado.\n",
    "# O método 'summary()' mostra as camadas do modelo, suas formas de saída e o número de parâmetros treináveis e não treináveis.\n",
    "# bert_masked_model.summary()"
   ],
   "id": "a457bb9295b21d59"
  },
  {
   "metadata": {},
   "cell_type": "markdown",
   "source": [
    "# Treinamento do Modelo\n",
    "\n",
    "Esta seção configura os parâmetros de treinamento, incluindo o cálculo dos passos por época com base no tamanho dos dataframes de treino e validação. Em seguida, o modelo é treinado utilizando os datasets previamente criados, e o callback de geração de texto fornece feedback visual ao final de cada época.\n"
   ],
   "id": "ec5c43f3b841fb16"
  },
  {
   "cell_type": "code",
   "id": "f99975dd",
   "metadata": {
    "ExecuteTime": {
     "end_time": "2025-04-09T13:25:43.051075Z",
     "start_time": "2025-04-09T13:25:13.463790Z"
    }
   },
   "source": [
    "# Calcula o número de passos (batches) por época para os conjuntos de treino e validação.\n",
    "# O número de passos é determinado dividindo o número total de amostras pelo tamanho do lote (BATCH_SIZE).\n",
    "# Usamos len(train_df) para obter o número de amostras no DataFrame de treino.\n",
    "train_steps_per_epoch: int = len( train_df ) // config.BATCH_SIZE\n",
    "# Usamos len(test_df) para obter o número de amostras no DataFrame de teste/validação.\n",
    "val_steps_per_epoch: int = len( test_df ) // config.BATCH_SIZE\n",
    "\n",
    "# Imprime o número calculado de passos por época para treino e validação.\n",
    "print( f\"Passos por época (Treino): {train_steps_per_epoch}\" )\n",
    "print( f\"Passos por época (Validação): {val_steps_per_epoch}\" )\n",
    "\n",
    "# Inicia o treinamento do modelo BERT para Masked Language Modeling (MLM).\n",
    "# O método 'fit' é usado para treinar o modelo com os dados de treinamento.\n",
    "history = bert_masked_model.fit(\n",
    "        # Dataset de treinamento para MLM, contendo as entradas mascaradas, rótulos e pesos.\n",
    "        mlm_train_ds,\n",
    "        validation_data = mlm_val_ds,\n",
    "        # Dataset de validação para MLM, usado para avaliar o desempenho do modelo durante o treinamento.\n",
    "        epochs = 5,\n",
    "        # Define o número total de épocas (passagens completas pelos dados de treinamento) para treinar o modelo.\n",
    "        steps_per_epoch = train_steps_per_epoch,\n",
    "        # Especifica quantos passos de otimização devem ser realizados em cada época para o conjunto de treinamento.\n",
    "        validation_steps = val_steps_per_epoch,\n",
    "        # Especifica quantos passos de avaliação devem ser realizados em cada época para o conjunto de validação.\n",
    "        callbacks = [ generator_callback ]\n",
    "        # Passa uma lista de callbacks para serem executados em diferentes estágios do treinamento.\n",
    "        # Aqui, 'generator_callback' será chamado ao final de cada época para gerar exemplos de predição.\n",
    ")"
   ],
   "outputs": [
    {
     "name": "stdout",
     "output_type": "stream",
     "text": [
      "Passos por época (Treino): 90\n",
      "Passos por época (Validação): 22\n",
      "Epoch 1/5\n",
      "\u001B[1m 3/90\u001B[0m \u001B[37m━━━━━━━━━━━━━━━━━━━━\u001B[0m \u001B[1m10:56\u001B[0m 8s/step - loss: 10.3125"
     ]
    },
    {
     "ename": "KeyboardInterrupt",
     "evalue": "",
     "output_type": "error",
     "traceback": [
      "\u001B[1;31m---------------------------------------------------------------------------\u001B[0m",
      "\u001B[1;31mKeyboardInterrupt\u001B[0m                         Traceback (most recent call last)",
      "Cell \u001B[1;32mIn[68], line 10\u001B[0m\n\u001B[0;32m      7\u001B[0m \u001B[38;5;28mprint\u001B[39m( \u001B[38;5;124mf\u001B[39m\u001B[38;5;124m\"\u001B[39m\u001B[38;5;124mPassos por época (Validação): \u001B[39m\u001B[38;5;132;01m{\u001B[39;00mval_steps_per_epoch\u001B[38;5;132;01m}\u001B[39;00m\u001B[38;5;124m\"\u001B[39m )\n\u001B[0;32m      9\u001B[0m \u001B[38;5;66;03m# Treina o modelo usando os datasets separados e validation_data\u001B[39;00m\n\u001B[1;32m---> 10\u001B[0m history \u001B[38;5;241m=\u001B[39m \u001B[43mbert_masked_model\u001B[49m\u001B[38;5;241;43m.\u001B[39;49m\u001B[43mfit\u001B[49m\u001B[43m(\u001B[49m\n\u001B[0;32m     11\u001B[0m \u001B[43m        \u001B[49m\u001B[43mmlm_train_ds\u001B[49m\u001B[43m,\u001B[49m\n\u001B[0;32m     12\u001B[0m \u001B[43m        \u001B[49m\u001B[43mvalidation_data\u001B[49m\u001B[43m \u001B[49m\u001B[38;5;241;43m=\u001B[39;49m\u001B[43m \u001B[49m\u001B[43mmlm_val_ds\u001B[49m\u001B[43m,\u001B[49m\u001B[43m  \u001B[49m\u001B[38;5;66;43;03m# Passa o dataset de validação\u001B[39;49;00m\n\u001B[0;32m     13\u001B[0m \u001B[43m        \u001B[49m\u001B[43mepochs\u001B[49m\u001B[43m \u001B[49m\u001B[38;5;241;43m=\u001B[39;49m\u001B[43m \u001B[49m\u001B[38;5;241;43m5\u001B[39;49m\u001B[43m,\u001B[49m\u001B[43m  \u001B[49m\u001B[38;5;66;43;03m# Ou o número de épocas desejado\u001B[39;49;00m\n\u001B[0;32m     14\u001B[0m \u001B[43m        \u001B[49m\u001B[43msteps_per_epoch\u001B[49m\u001B[43m \u001B[49m\u001B[38;5;241;43m=\u001B[39;49m\u001B[43m \u001B[49m\u001B[43mtrain_steps_per_epoch\u001B[49m\u001B[43m,\u001B[49m\u001B[43m  \u001B[49m\u001B[38;5;66;43;03m# Passos para treino\u001B[39;49;00m\n\u001B[0;32m     15\u001B[0m \u001B[43m        \u001B[49m\u001B[43mvalidation_steps\u001B[49m\u001B[43m \u001B[49m\u001B[38;5;241;43m=\u001B[39;49m\u001B[43m \u001B[49m\u001B[43mval_steps_per_epoch\u001B[49m\u001B[43m,\u001B[49m\u001B[43m  \u001B[49m\u001B[38;5;66;43;03m# Passos para validação\u001B[39;49;00m\n\u001B[0;32m     16\u001B[0m \u001B[43m        \u001B[49m\u001B[43mcallbacks\u001B[49m\u001B[43m \u001B[49m\u001B[38;5;241;43m=\u001B[39;49m\u001B[43m \u001B[49m\u001B[43m[\u001B[49m\u001B[43m \u001B[49m\u001B[43mgenerator_callback\u001B[49m\u001B[43m \u001B[49m\u001B[43m]\u001B[49m\u001B[43m  \u001B[49m\u001B[38;5;66;43;03m# Mantém o callback para ver exemplos\u001B[39;49;00m\n\u001B[0;32m     17\u001B[0m \u001B[43m)\u001B[49m\n\u001B[0;32m     19\u001B[0m bert_masked_model\u001B[38;5;241m.\u001B[39msave( \u001B[38;5;124m\"\u001B[39m\u001B[38;5;124mbert_mlm.keras\u001B[39m\u001B[38;5;124m\"\u001B[39m )\n\u001B[0;32m     20\u001B[0m \u001B[38;5;28mprint\u001B[39m( \u001B[38;5;124m\"\u001B[39m\u001B[38;5;130;01m\\n\u001B[39;00m\u001B[38;5;124mTreinamento concluído e modelo salvo!\u001B[39m\u001B[38;5;124m\"\u001B[39m )\n",
      "File \u001B[1;32mC:\\Codes\\transformer_mlm\\.venv\\lib\\site-packages\\keras\\src\\utils\\traceback_utils.py:117\u001B[0m, in \u001B[0;36mfilter_traceback.<locals>.error_handler\u001B[1;34m(*args, **kwargs)\u001B[0m\n\u001B[0;32m    115\u001B[0m filtered_tb \u001B[38;5;241m=\u001B[39m \u001B[38;5;28;01mNone\u001B[39;00m\n\u001B[0;32m    116\u001B[0m \u001B[38;5;28;01mtry\u001B[39;00m:\n\u001B[1;32m--> 117\u001B[0m     \u001B[38;5;28;01mreturn\u001B[39;00m fn(\u001B[38;5;241m*\u001B[39margs, \u001B[38;5;241m*\u001B[39m\u001B[38;5;241m*\u001B[39mkwargs)\n\u001B[0;32m    118\u001B[0m \u001B[38;5;28;01mexcept\u001B[39;00m \u001B[38;5;167;01mException\u001B[39;00m \u001B[38;5;28;01mas\u001B[39;00m e:\n\u001B[0;32m    119\u001B[0m     filtered_tb \u001B[38;5;241m=\u001B[39m _process_traceback_frames(e\u001B[38;5;241m.\u001B[39m__traceback__)\n",
      "File \u001B[1;32mC:\\Codes\\transformer_mlm\\.venv\\lib\\site-packages\\keras\\src\\backend\\torch\\trainer.py:257\u001B[0m, in \u001B[0;36mTorchTrainer.fit\u001B[1;34m(self, x, y, batch_size, epochs, verbose, callbacks, validation_split, validation_data, shuffle, class_weight, sample_weight, initial_epoch, steps_per_epoch, validation_steps, validation_batch_size, validation_freq)\u001B[0m\n\u001B[0;32m    253\u001B[0m \u001B[38;5;28;01mfor\u001B[39;00m step, data \u001B[38;5;129;01min\u001B[39;00m epoch_iterator:\n\u001B[0;32m    254\u001B[0m     \u001B[38;5;66;03m# Callbacks\u001B[39;00m\n\u001B[0;32m    255\u001B[0m     callbacks\u001B[38;5;241m.\u001B[39mon_train_batch_begin(step)\n\u001B[1;32m--> 257\u001B[0m     logs \u001B[38;5;241m=\u001B[39m \u001B[38;5;28;43mself\u001B[39;49m\u001B[38;5;241;43m.\u001B[39;49m\u001B[43mtrain_function\u001B[49m\u001B[43m(\u001B[49m\u001B[43mdata\u001B[49m\u001B[43m)\u001B[49m\n\u001B[0;32m    259\u001B[0m     \u001B[38;5;66;03m# Callbacks\u001B[39;00m\n\u001B[0;32m    260\u001B[0m     callbacks\u001B[38;5;241m.\u001B[39mon_train_batch_end(step, logs)\n",
      "File \u001B[1;32mC:\\Codes\\transformer_mlm\\.venv\\lib\\site-packages\\keras\\src\\backend\\torch\\trainer.py:117\u001B[0m, in \u001B[0;36mTorchTrainer.make_train_function.<locals>.one_step_on_data\u001B[1;34m(data)\u001B[0m\n\u001B[0;32m    115\u001B[0m \u001B[38;5;250m\u001B[39m\u001B[38;5;124;03m\"\"\"Runs a single training step on a batch of data.\"\"\"\u001B[39;00m\n\u001B[0;32m    116\u001B[0m data \u001B[38;5;241m=\u001B[39m data[\u001B[38;5;241m0\u001B[39m]\n\u001B[1;32m--> 117\u001B[0m \u001B[38;5;28;01mreturn\u001B[39;00m \u001B[38;5;28;43mself\u001B[39;49m\u001B[38;5;241;43m.\u001B[39;49m\u001B[43mtrain_step\u001B[49m\u001B[43m(\u001B[49m\u001B[43mdata\u001B[49m\u001B[43m)\u001B[49m\n",
      "File \u001B[1;32mC:\\Codes\\transformer_mlm\\.venv\\lib\\site-packages\\keras\\src\\backend\\torch\\trainer.py:55\u001B[0m, in \u001B[0;36mTorchTrainer.train_step\u001B[1;34m(self, data)\u001B[0m\n\u001B[0;32m     50\u001B[0m \u001B[38;5;28mself\u001B[39m\u001B[38;5;241m.\u001B[39mzero_grad()\n\u001B[0;32m     52\u001B[0m loss \u001B[38;5;241m=\u001B[39m \u001B[38;5;28mself\u001B[39m\u001B[38;5;241m.\u001B[39m_compute_loss(\n\u001B[0;32m     53\u001B[0m     x\u001B[38;5;241m=\u001B[39mx, y\u001B[38;5;241m=\u001B[39my, y_pred\u001B[38;5;241m=\u001B[39my_pred, sample_weight\u001B[38;5;241m=\u001B[39msample_weight, training\u001B[38;5;241m=\u001B[39m\u001B[38;5;28;01mTrue\u001B[39;00m\n\u001B[0;32m     54\u001B[0m )\n\u001B[1;32m---> 55\u001B[0m \u001B[38;5;28;43mself\u001B[39;49m\u001B[38;5;241;43m.\u001B[39;49m\u001B[43m_loss_tracker\u001B[49m\u001B[38;5;241;43m.\u001B[39;49m\u001B[43mupdate_state\u001B[49m\u001B[43m(\u001B[49m\n\u001B[0;32m     56\u001B[0m \u001B[43m    \u001B[49m\u001B[43mloss\u001B[49m\u001B[43m,\u001B[49m\u001B[43m \u001B[49m\u001B[43msample_weight\u001B[49m\u001B[38;5;241;43m=\u001B[39;49m\u001B[43mtree\u001B[49m\u001B[38;5;241;43m.\u001B[39;49m\u001B[43mflatten\u001B[49m\u001B[43m(\u001B[49m\u001B[43mx\u001B[49m\u001B[43m)\u001B[49m\u001B[43m[\u001B[49m\u001B[38;5;241;43m0\u001B[39;49m\u001B[43m]\u001B[49m\u001B[38;5;241;43m.\u001B[39;49m\u001B[43mshape\u001B[49m\u001B[43m[\u001B[49m\u001B[38;5;241;43m0\u001B[39;49m\u001B[43m]\u001B[49m\n\u001B[0;32m     57\u001B[0m \u001B[43m\u001B[49m\u001B[43m)\u001B[49m\n\u001B[0;32m     58\u001B[0m \u001B[38;5;28;01mif\u001B[39;00m \u001B[38;5;28mself\u001B[39m\u001B[38;5;241m.\u001B[39moptimizer \u001B[38;5;129;01mis\u001B[39;00m \u001B[38;5;129;01mnot\u001B[39;00m \u001B[38;5;28;01mNone\u001B[39;00m:\n\u001B[0;32m     59\u001B[0m     loss \u001B[38;5;241m=\u001B[39m \u001B[38;5;28mself\u001B[39m\u001B[38;5;241m.\u001B[39moptimizer\u001B[38;5;241m.\u001B[39mscale_loss(loss)\n",
      "File \u001B[1;32mC:\\Codes\\transformer_mlm\\.venv\\lib\\site-packages\\keras\\src\\metrics\\reduction_metrics.py:139\u001B[0m, in \u001B[0;36mMean.update_state\u001B[1;34m(self, values, sample_weight)\u001B[0m\n\u001B[0;32m    138\u001B[0m \u001B[38;5;28;01mdef\u001B[39;00m\u001B[38;5;250m \u001B[39m\u001B[38;5;21mupdate_state\u001B[39m(\u001B[38;5;28mself\u001B[39m, values, sample_weight\u001B[38;5;241m=\u001B[39m\u001B[38;5;28;01mNone\u001B[39;00m):\n\u001B[1;32m--> 139\u001B[0m     values, sample_weight \u001B[38;5;241m=\u001B[39m \u001B[43mreduce_to_samplewise_values\u001B[49m\u001B[43m(\u001B[49m\n\u001B[0;32m    140\u001B[0m \u001B[43m        \u001B[49m\u001B[43mvalues\u001B[49m\u001B[43m,\u001B[49m\u001B[43m \u001B[49m\u001B[43msample_weight\u001B[49m\u001B[43m,\u001B[49m\u001B[43m \u001B[49m\u001B[43mreduce_fn\u001B[49m\u001B[38;5;241;43m=\u001B[39;49m\u001B[43mops\u001B[49m\u001B[38;5;241;43m.\u001B[39;49m\u001B[43mmean\u001B[49m\u001B[43m,\u001B[49m\u001B[43m \u001B[49m\u001B[43mdtype\u001B[49m\u001B[38;5;241;43m=\u001B[39;49m\u001B[38;5;28;43mself\u001B[39;49m\u001B[38;5;241;43m.\u001B[39;49m\u001B[43mdtype\u001B[49m\n\u001B[0;32m    141\u001B[0m \u001B[43m    \u001B[49m\u001B[43m)\u001B[49m\n\u001B[0;32m    142\u001B[0m     \u001B[38;5;28mself\u001B[39m\u001B[38;5;241m.\u001B[39mtotal\u001B[38;5;241m.\u001B[39massign_add(ops\u001B[38;5;241m.\u001B[39msum(values))\n\u001B[0;32m    143\u001B[0m     \u001B[38;5;28;01mif\u001B[39;00m sample_weight \u001B[38;5;129;01mis\u001B[39;00m \u001B[38;5;129;01mnot\u001B[39;00m \u001B[38;5;28;01mNone\u001B[39;00m:\n",
      "File \u001B[1;32mC:\\Codes\\transformer_mlm\\.venv\\lib\\site-packages\\keras\\src\\metrics\\reduction_metrics.py:15\u001B[0m, in \u001B[0;36mreduce_to_samplewise_values\u001B[1;34m(values, sample_weight, reduce_fn, dtype)\u001B[0m\n\u001B[0;32m     13\u001B[0m values \u001B[38;5;241m=\u001B[39m ops\u001B[38;5;241m.\u001B[39mcast(values, dtype\u001B[38;5;241m=\u001B[39mdtype)\n\u001B[0;32m     14\u001B[0m \u001B[38;5;28;01mif\u001B[39;00m sample_weight \u001B[38;5;129;01mis\u001B[39;00m \u001B[38;5;129;01mnot\u001B[39;00m \u001B[38;5;28;01mNone\u001B[39;00m:\n\u001B[1;32m---> 15\u001B[0m     sample_weight \u001B[38;5;241m=\u001B[39m \u001B[43mops\u001B[49m\u001B[38;5;241;43m.\u001B[39;49m\u001B[43mconvert_to_tensor\u001B[49m\u001B[43m(\u001B[49m\u001B[43msample_weight\u001B[49m\u001B[43m,\u001B[49m\u001B[43m \u001B[49m\u001B[43mdtype\u001B[49m\u001B[38;5;241;43m=\u001B[39;49m\u001B[43mdtype\u001B[49m\u001B[43m)\u001B[49m\n\u001B[0;32m     17\u001B[0m     \u001B[38;5;28;01mif\u001B[39;00m mask \u001B[38;5;129;01mis\u001B[39;00m \u001B[38;5;129;01mnot\u001B[39;00m \u001B[38;5;28;01mNone\u001B[39;00m:\n\u001B[0;32m     18\u001B[0m         sample_weight \u001B[38;5;241m=\u001B[39m losses\u001B[38;5;241m.\u001B[39mloss\u001B[38;5;241m.\u001B[39mapply_mask(\n\u001B[0;32m     19\u001B[0m             sample_weight, mask, dtype\u001B[38;5;241m=\u001B[39mdtype, reduction\u001B[38;5;241m=\u001B[39m\u001B[38;5;124m\"\u001B[39m\u001B[38;5;124msum\u001B[39m\u001B[38;5;124m\"\u001B[39m\n\u001B[0;32m     20\u001B[0m         )\n",
      "File \u001B[1;32mC:\\Codes\\transformer_mlm\\.venv\\lib\\site-packages\\keras\\src\\ops\\core.py:958\u001B[0m, in \u001B[0;36mconvert_to_tensor\u001B[1;34m(x, dtype, sparse, ragged)\u001B[0m\n\u001B[0;32m    956\u001B[0m \u001B[38;5;28;01mif\u001B[39;00m any_symbolic_tensors((x,)):\n\u001B[0;32m    957\u001B[0m     \u001B[38;5;28;01mreturn\u001B[39;00m ConvertToTensor(dtype\u001B[38;5;241m=\u001B[39mdtype, sparse\u001B[38;5;241m=\u001B[39msparse)(x)\n\u001B[1;32m--> 958\u001B[0m \u001B[38;5;28;01mreturn\u001B[39;00m \u001B[43mbackend\u001B[49m\u001B[38;5;241;43m.\u001B[39;49m\u001B[43mcore\u001B[49m\u001B[38;5;241;43m.\u001B[39;49m\u001B[43mconvert_to_tensor\u001B[49m\u001B[43m(\u001B[49m\n\u001B[0;32m    959\u001B[0m \u001B[43m    \u001B[49m\u001B[43mx\u001B[49m\u001B[43m,\u001B[49m\u001B[43m \u001B[49m\u001B[43mdtype\u001B[49m\u001B[38;5;241;43m=\u001B[39;49m\u001B[43mdtype\u001B[49m\u001B[43m,\u001B[49m\u001B[43m \u001B[49m\u001B[43msparse\u001B[49m\u001B[38;5;241;43m=\u001B[39;49m\u001B[43msparse\u001B[49m\u001B[43m,\u001B[49m\u001B[43m \u001B[49m\u001B[43mragged\u001B[49m\u001B[38;5;241;43m=\u001B[39;49m\u001B[43mragged\u001B[49m\n\u001B[0;32m    960\u001B[0m \u001B[43m\u001B[49m\u001B[43m)\u001B[49m\n",
      "File \u001B[1;32mC:\\Codes\\transformer_mlm\\.venv\\lib\\site-packages\\keras\\src\\backend\\torch\\core.py:236\u001B[0m, in \u001B[0;36mconvert_to_tensor\u001B[1;34m(x, dtype, sparse, ragged)\u001B[0m\n\u001B[0;32m    232\u001B[0m     dtype \u001B[38;5;241m=\u001B[39m result_type(\n\u001B[0;32m    233\u001B[0m         \u001B[38;5;241m*\u001B[39m[\u001B[38;5;28mgetattr\u001B[39m(item, \u001B[38;5;124m\"\u001B[39m\u001B[38;5;124mdtype\u001B[39m\u001B[38;5;124m\"\u001B[39m, \u001B[38;5;28mtype\u001B[39m(item)) \u001B[38;5;28;01mfor\u001B[39;00m item \u001B[38;5;129;01min\u001B[39;00m tree\u001B[38;5;241m.\u001B[39mflatten(x)]\n\u001B[0;32m    234\u001B[0m     )\n\u001B[0;32m    235\u001B[0m dtype \u001B[38;5;241m=\u001B[39m to_torch_dtype(dtype)\n\u001B[1;32m--> 236\u001B[0m \u001B[38;5;28;01mreturn\u001B[39;00m \u001B[43mtorch\u001B[49m\u001B[38;5;241;43m.\u001B[39;49m\u001B[43mas_tensor\u001B[49m\u001B[43m(\u001B[49m\u001B[43mx\u001B[49m\u001B[43m,\u001B[49m\u001B[43m \u001B[49m\u001B[43mdtype\u001B[49m\u001B[38;5;241;43m=\u001B[39;49m\u001B[43mdtype\u001B[49m\u001B[43m,\u001B[49m\u001B[43m \u001B[49m\u001B[43mdevice\u001B[49m\u001B[38;5;241;43m=\u001B[39;49m\u001B[43mget_device\u001B[49m\u001B[43m(\u001B[49m\u001B[43m)\u001B[49m\u001B[43m)\u001B[49m\n",
      "\u001B[1;31mKeyboardInterrupt\u001B[0m: "
     ]
    }
   ],
   "execution_count": 68
  },
  {
   "metadata": {},
   "cell_type": "markdown",
   "source": [
    "# Salvamento do Modelo e Visualização dos Resultados\n",
    "\n",
    "Após o treinamento, o modelo é salvo para uso futuro. Nesta etapa, também é gerado um gráfico que exibe a evolução da perda (tanto para treino quanto para validação) ao longo das épocas, permitindo a avaliação visual do desempenho do treinamento.\n"
   ],
   "id": "5757a2a79c773c9d"
  },
  {
   "metadata": {},
   "cell_type": "code",
   "outputs": [],
   "execution_count": null,
   "source": [
    "# Salva o modelo BERT treinado para a tarefa de Masked Language Modeling (MLM) em um arquivo.\n",
    "# O formato \".keras\" é o formato padrão para salvar modelos no Keras 3.\n",
    "bert_masked_model.save( \"bert_mlm.keras\" )\n",
    "\n",
    "# Imprime uma mensagem indicando que o treinamento foi concluído e o modelo foi salvo com sucesso.\n",
    "print( \"\\nTreinamento concluído e modelo salvo!\" )\n"
   ],
   "id": "557818e8d06a52bf"
  },
  {
   "metadata": {
    "ExecuteTime": {
     "end_time": "2025-04-09T13:25:43.062067500Z",
     "start_time": "2025-04-09T11:28:27.949241Z"
    }
   },
   "cell_type": "code",
   "source": [
    "# Importa a biblioteca matplotlib.pyplot para criar gráficos.\n",
    "import matplotlib.pyplot as plt\n",
    "\n",
    "# Plota o histórico da perda (loss) durante o treinamento.\n",
    "# 'history' é o objeto retornado pelo método 'fit' e contém informações sobre o treinamento, incluindo a perda em cada época.\n",
    "# 'history.history['loss']' acessa a lista de valores da perda de treinamento em cada época.\n",
    "plt.plot( history.history[ 'loss' ], label = 'Training Loss' )\n",
    "\n",
    "# Plota o histórico da perda de validação durante o treinamento.\n",
    "# No Keras, a perda calculada no conjunto de validação durante o treinamento é geralmente armazenada sob a chave 'val_loss' no dicionário 'history.history'.\n",
    "plt.plot( history.history[ 'val_loss' ], label = 'Validation Loss' )\n",
    "plt.title( 'Training and Validation Loss' )  # Define o título do gráfico.\n",
    "plt.xlabel( 'Epoch' )  # Define o rótulo do eixo x como 'Epoch' (época).\n",
    "plt.ylabel( 'Loss' )  # Define o rótulo do eixo y como 'Loss' (perda).\n",
    "plt.legend()  # Exibe a legenda para identificar as linhas do gráfico (perda de treinamento e perda de validação).\n",
    "plt.show()  # Exibe o gráfico gerado."
   ],
   "id": "80d9bb8dbdfce5b2",
   "outputs": [
    {
     "data": {
      "text/plain": [
       "<Figure size 640x480 with 1 Axes>"
      ],
      "image/png": "[encoded data removed]"
     },
     "metadata": {},
     "output_type": "display_data"
    }
   ],
   "execution_count": 43
  },
  {
   "metadata": {
    "ExecuteTime": {
     "end_time": "2025-04-09T13:25:43.064066700Z",
     "start_time": "2025-04-09T11:28:28.100841Z"
    }
   },
   "cell_type": "code",
   "source": [
    "# Retoma o treinamento\n",
    "from tensorflow.keras.models import load_model\n",
    "\n",
    "# Carrega o modelo salvo\n",
    "if 0:\n",
    "    bert_mlm_model = load_model( \"bert_mlm.keras\" )\n",
    "    bert_mlm_model.fit( mlm_ds.repeat(), epochs = 5, steps_per_epoch = steps, callbacks = [ generator_callback ] )"
   ],
   "id": "54e2be6bf43e279a",
   "outputs": [],
   "execution_count": 44
  },
  {
   "metadata": {},
   "cell_type": "markdown",
   "source": [
    "# Predição de Frases\n",
    "\n",
    "Utilização do modelo treinado para realizar a predição de novas frases."
   ],
   "id": "a5c8af1d595f4aa2"
  },
  {
   "metadata": {
    "ExecuteTime": {
     "end_time": "2025-04-09T13:25:43.065068200Z",
     "start_time": "2025-04-09T11:28:28.137445Z"
    }
   },
   "cell_type": "code",
   "source": [
    "import pandas as pd\n",
    "import numpy as np\n",
    "\n",
    "\n",
    "# Função para prever o token mascarado e mostrar top K predições\n",
    "def predict_masked_token( text_with_mask: str, model, vectorize_layer, id2token, top_k = 5 ):\n",
    "    \"\"\"\n",
    "    Prevê o token mascarado em uma frase e retorna as top K previsões com probabilidades.\n",
    "\n",
    "    Args:\n",
    "        text_with_mask (str): A frase de entrada contendo exatamente um token '[mask]'.\n",
    "        model (keras.Model): O modelo treinado (MLM).\n",
    "        vectorize_layer (TextVectorization): A camada de vetorização JÁ ADAPTADA.\n",
    "        id2token (dict): Dicionário mapeando ID para token.\n",
    "        top_k (int): Quantidade de melhores previsões a serem mostradas.\n",
    "\n",
    "    Returns:\n",
    "        pandas.DataFrame: DataFrame com as top K previsões, tokens e probabilidades.\n",
    "                         Retorna None se '[mask]' não for encontrado ou mais de um for encontrado.\n",
    "    \"\"\"\n",
    "    # 1. Vetorizar a frase de entrada\n",
    "    #    O reshape [1, -1] adiciona a dimensão do batch (lote de tamanho 1)\n",
    "    sample_tokens = vectorize_layer( [ text_with_mask ] )  # Não precisa de .numpy() aqui para predict\n",
    "\n",
    "    # Verifica se a vetorização retornou algo e se tem o formato esperado\n",
    "    if sample_tokens is None or sample_tokens.shape[ 0 ] == 0:\n",
    "        print( \"Erro: A vetorização não produziu uma saída válida.\" )\n",
    "        return None\n",
    "\n",
    "    # 2. Encontrar o índice do token [mask]\n",
    "    #    `.numpy()` converte o tensor para numpy array para usar np.where\n",
    "    #    Pega o id do token de máscara global que definimos antes\n",
    "    masked_index_tuple = np.where( sample_tokens.cpu().numpy()[ 0 ] == mask_token_id )\n",
    "\n",
    "    # Verifica se encontrou o token de máscara e se é apenas um\n",
    "    if len( masked_index_tuple[ 0 ] ) != 1:\n",
    "        print(\n",
    "                f\"Erro: Esperado exatamente um token '[mask]' na frase vetorizada, mas encontrado(s) {len( masked_index_tuple[ 0 ] )}.\"\n",
    "        )\n",
    "        print( f\"Frase vetorizada: {sample_tokens.numpy()[ 0 ]}\" )\n",
    "        print( f\"ID esperado para [mask]: {mask_token_id}\" )\n",
    "        # Tenta decodificar para ajudar a depurar\n",
    "        try:\n",
    "            decoded_tokens = [ id2token.get( int( t ), \"[UNK]\" ) for t in sample_tokens.numpy()[ 0 ] if t != 0 ]\n",
    "            print( f\"Tokens decodificados: {' '.join( decoded_tokens )}\" )\n",
    "        except Exception as e:\n",
    "            print( f\"Não foi possível decodificar os tokens: {e}\" )\n",
    "        return None\n",
    "\n",
    "    masked_index = masked_index_tuple[ 0 ][ 0 ]  # Pega o índice escalar\n",
    "\n",
    "    # 3. Fazer a predição com o modelo\n",
    "    prediction = model.predict( sample_tokens )\n",
    "\n",
    "    # 4. Extrair as probabilidades para a posição mascarada\n",
    "    #    prediction[0] -> batch de tamanho 1\n",
    "    #    prediction[0][masked_index] -> probabilidades para o token na posição mascarada\n",
    "    mask_prediction_probabilities = prediction[ 0 ][ masked_index ]\n",
    "\n",
    "    # 5. Encontrar os top K índices e suas probabilidades\n",
    "    #    argsort() retorna os índices que ordenariam o array (do menor para o maior)\n",
    "    #    [-top_k:] pega os K maiores índices\n",
    "    #    [::-1] inverte para ter do maior para o menor\n",
    "    top_indices = mask_prediction_probabilities.argsort()[ -top_k: ][ ::-1 ]\n",
    "    top_probabilities = mask_prediction_probabilities[ top_indices ]\n",
    "\n",
    "    # 6. Converter os IDs dos tokens previstos para palavras\n",
    "    top_tokens = [ id2token.get( idx, \"[UNK]\" ) for idx in top_indices ]\n",
    "\n",
    "    # 7. Criar e retornar um DataFrame com os resultados\n",
    "    results_df = pd.DataFrame( {\n",
    "        \"Token Previsto\": top_tokens,\n",
    "        \"Probabilidade\": top_probabilities\n",
    "    }\n",
    "    )\n",
    "\n",
    "    print( f\"\\nPredições para: '{text_with_mask}'\" )\n",
    "    return results_df"
   ],
   "id": "b08a6f73cd999b58",
   "outputs": [],
   "execution_count": 45
  },
  {
   "metadata": {
    "ExecuteTime": {
     "end_time": "2025-04-09T13:25:43.071067300Z",
     "start_time": "2025-04-09T11:30:53.245377Z"
    }
   },
   "cell_type": "code",
   "source": [
    "frase_teste_1 = \"Pra sempre com [mask]\"\n",
    "resultados_df_1 = predict_masked_token( frase_teste_1, bert_masked_model, vectorize_layer, id2token, top_k = 10 )\n",
    "\n",
    "if resultados_df_1 is not None:\n",
    "    print( resultados_df_1.to_string( index = False ) )  # .to_string para melhor formatação no print"
   ],
   "id": "c63d4fb3a3660983",
   "outputs": [
    {
     "name": "stdout",
     "output_type": "stream",
     "text": [
      "\u001B[1m1/1\u001B[0m \u001B[32m━━━━━━━━━━━━━━━━━━━━\u001B[0m\u001B[37m\u001B[0m \u001B[1m0s\u001B[0m 13ms/step\n",
      "\n",
      "Predições para: 'Pra sempre com [mask]'\n",
      "Token Previsto  Probabilidade\n",
      "           não       0.010693\n",
      "            de       0.010530\n",
      "            eu       0.010237\n",
      "             o       0.009339\n",
      "             e       0.008349\n",
      "          você       0.007479\n",
      "            me       0.007308\n",
      "             a       0.007162\n",
      "           pra       0.007002\n",
      "           meu       0.006103\n"
     ]
    }
   ],
   "execution_count": 50
  }
 ],
 "metadata": {
  "kernelspec": {
   "display_name": "Python 3",
   "language": "python",
   "name": "python3"
  },
  "language_info": {
   "codemirror_mode": {
    "name": "ipython",
    "version": 3
   },
   "file_extension": ".py",
   "mimetype": "text/x-python",
   "name": "python",
   "nbconvert_exporter": "python",
   "pygments_lexer": "ipython3",
   "version": "3.11.3"
  }
 },
 "nbformat": 4,
 "nbformat_minor": 5
}
