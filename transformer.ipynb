{
 "cells": [
  {
   "metadata": {},
   "cell_type": "markdown",
   "source": [
    "# Projeto\n",
    "\n",
    "Este projeto desenvolverá um modelo transformer BERT e o treinará utilizando a tarefa de Masked Language Model (MLM), aplicado ao contexto das músicas brasileiras de forró.\n",
    "\n",
    "Para isso, foi utilizado o dataset de:"
   ],
   "id": "e86385d09c2aa532"
  },
  {
   "cell_type": "markdown",
   "id": "e98cd1fa27373e9",
   "metadata": {},
   "source": [
    "# Transformer\n",
    "\n",
    "- Encoder: O Encoder recebe a sequência de entrada (por exemplo, uma frase em português) e a processa para criar uma representação vetorial de alta qualidade dessa sequência. Essa representação captura o significado e o contexto de cada palavra em relação às outras palavras da frase.\n",
    "- Decoder: O Decoder recebe a representação gerada pelo Encoder e a utiliza para gerar uma sequência de saída (por exemplo, a tradução da frase para o inglês).\n"
   ]
  },
  {
   "metadata": {},
   "cell_type": "markdown",
   "source": [
    "# Modelo BERT\n",
    "\n",
    "Bidirectional Encoder Representations from Transformers\n",
    "\n",
    "1. Bloco transformer com componentes/operacoes Multi-Head Self-Attention, Feed Foward Network e dropout.\n",
    "\n",
    "2. Customização do modelo, definindo como calcular as metricas que serao utilizadas, neste caso calculando a perda com Sparse Categorical Crossentropy e atualizando com a média da perda.\n",
    "\n",
    "3. Construção do modelo BERT para o mlm.\n",
    "\n",
    "4. Callback para a geração de texto para tokens mascarados e apresentação de resultados."
   ],
   "id": "890b7c9e1b5814a3"
  },
  {
   "cell_type": "markdown",
   "id": "beae2a5e32306d38",
   "metadata": {},
   "source": [
    "# Masked Language Model\n",
    "\n",
    "Um Masked Language Model (MLM) é um tipo de modelo de linguagem amplamente utilizado em processamento de linguagem natural.\n",
    "\n",
    "Durante o treinamento, uma parte dos tokens (palavras ou subpalavras) no texto de entrada é substituída por um token especial de máscara, como \"[MASK]\". O objetivo do modelo é prever corretamente quais eram os tokens originais que foram mascarados.\n",
    "\n",
    "Essa estratégia obriga o modelo a aprender contextos ricos e relações entre as palavras, o que é fundamental para o desempenho em diversas tarefas, como análise de sentimentos, tradução, e resposta a perguntas. Modelos famosos que utilizam essa técnica incluem o BERT, que demonstrou ganhos significativos em várias benchmarks de NLP .\n"
   ]
  },
  {
   "cell_type": "markdown",
   "id": "c4bed58b15c8e73d",
   "metadata": {},
   "source": [
    "## Configuração"
   ]
  },
  {
   "cell_type": "code",
   "id": "a89620b2e2393cb4",
   "metadata": {
    "ExecuteTime": {
     "end_time": "2025-04-08T14:27:12.113520Z",
     "start_time": "2025-04-08T14:27:12.107520Z"
    }
   },
   "source": [
    "import os\n",
    "\n",
    "os.environ[ \"KERAS_BACKEND\" ] = \"torch\"  # or jax, or tensorflow\n",
    "\n",
    "import keras_hub\n",
    "\n",
    "import keras\n",
    "from keras import layers\n",
    "from keras.layers import TextVectorization\n",
    "\n",
    "from dataclasses import dataclass\n",
    "import pandas as pd\n",
    "import numpy as np\n",
    "import glob\n",
    "import re\n",
    "from pprint import pprint"
   ],
   "outputs": [],
   "execution_count": 109
  },
  {
   "metadata": {
    "ExecuteTime": {
     "end_time": "2025-04-08T14:55:47.355807Z",
     "start_time": "2025-04-08T14:55:47.344810Z"
    }
   },
   "cell_type": "code",
   "source": [
    "import torch\n",
    "\n",
    "device = torch.device( \"cuda\" if torch.cuda.is_available() else \"cpu\" )\n",
    "print( f\"Using device: {device}\" )"
   ],
   "id": "a5efb95b0d0e627",
   "outputs": [
    {
     "name": "stdout",
     "output_type": "stream",
     "text": [
      "Using device: cpu\n"
     ]
    }
   ],
   "execution_count": 131
  },
  {
   "cell_type": "code",
   "id": "6cce974cf0c26a19",
   "metadata": {
    "ExecuteTime": {
     "end_time": "2025-04-08T14:27:12.128627Z",
     "start_time": "2025-04-08T14:27:12.120521Z"
    }
   },
   "source": [
    "@dataclass\n",
    "class Config:\n",
    "    MAX_LEN = 256\n",
    "    BATCH_SIZE = 16  #32\n",
    "    LR = 0.0001  #0.001\n",
    "    VOCAB_SIZE = 30000\n",
    "    EMBED_DIM = 128\n",
    "    NUM_HEAD = 8  # used in bert model\n",
    "    FF_DIM = 128  # used in bert model\n",
    "    NUM_LAYERS = 1\n",
    "\n",
    "\n",
    "config = Config()"
   ],
   "outputs": [],
   "execution_count": 110
  },
  {
   "cell_type": "markdown",
   "id": "39422ab42f331838",
   "metadata": {},
   "source": [
    "# Carregando os dados\n",
    "\n",
    "Primeiro, vamos carregar os dados que estão na pasta \"aclImbd\".\n",
    "\n",
    "Duas funções serão utilizadas para isso:\n",
    "\n",
    "- Uma irá criar uma lista contendo o conteúdo dos arquivos.\n",
    "- A outra ficará responsável por criar um dataframe."
   ]
  },
  {
   "cell_type": "code",
   "id": "822b332050609de1",
   "metadata": {
    "ExecuteTime": {
     "end_time": "2025-04-08T14:27:12.349750Z",
     "start_time": "2025-04-08T14:27:12.166776Z"
    }
   },
   "source": [
    "def get_text_list_from_files( files ) -> list[ str ]:\n",
    "    \"\"\"\n",
    "       Esta função irá retornar uma lista contendo todas as frases dos arquivos.\n",
    "    \"\"\"\n",
    "    text_list: list[ str ] = [ ]\n",
    "    for name in files:\n",
    "        with open( name, \"r\", encoding = \"utf-8\" ) as f:\n",
    "            # Lê o conteúdo completo do arquivo; se houver várias linhas e desejar cada linha\n",
    "            # como exemplo separado, use um loop for sobre f.\n",
    "            text_list.append( f.read() )\n",
    "    return text_list\n",
    "\n",
    "\n",
    "def get_data_from_text_files( folder_name ):\n",
    "    # Arquivos de texto que serão utilizados\n",
    "    files = glob.glob( f\"musicas/{folder_name}/*.txt\" )\n",
    "\n",
    "    # Listas com os textos\n",
    "    texts: list[ str ] = get_text_list_from_files( files )\n",
    "\n",
    "    # Criação de um dataframe, com coluna chamada \"lyric\"\n",
    "    df = pd.DataFrame( { \"lyric\": texts } )\n",
    "\n",
    "    # Sample -> pega uma amostra aleatória\n",
    "    # len(df) -> do tamanho do df original\n",
    "    # reset_index -> ao usar sample, o índice original das linhas é mantido\n",
    "    df = df.sample( len( df ) ).reset_index( drop = True )\n",
    "    return df\n",
    "\n",
    "\n",
    "train_df = get_data_from_text_files( \"train\" )\n",
    "test_df = get_data_from_text_files( \"test\" )\n",
    "\n",
    "# Novidade\n",
    "print( f\"Tamanho do DataFrame de Treino: {len( train_df )}\" )\n",
    "print( f\"Tamanho do DataFrame de Teste/Validação: {len( test_df )}\" )\n",
    "\n",
    "# Concatenação dos dataframes para realizar pré-processamento em toda a base\n",
    "all_data = pd.concat( [ train_df, test_df ], ignore_index = True )\n"
   ],
   "outputs": [
    {
     "name": "stdout",
     "output_type": "stream",
     "text": [
      "Tamanho do DataFrame de Treino: 1444\n",
      "Tamanho do DataFrame de Teste/Validação: 361\n"
     ]
    }
   ],
   "execution_count": 111
  },
  {
   "cell_type": "code",
   "id": "aa3089bbffe5c2b6",
   "metadata": {
    "ExecuteTime": {
     "end_time": "2025-04-08T14:27:12.429510Z",
     "start_time": "2025-04-08T14:27:12.414543Z"
    }
   },
   "source": [
    "train_df.head()"
   ],
   "outputs": [
    {
     "data": {
      "text/plain": [
       "                                               lyric\n",
       "0  Segue a tua estrada Que eu já te esqueci Quand...\n",
       "1  Chega mais perto vai quero te encontrar Quero ...\n",
       "2  Todo amor já lhe dei Você não quis valorizar A...\n",
       "3  Foi só cruzar o teu olhar com o meu Pra eu ent...\n",
       "4  Esse rio que passa no meu coração Navega pra m..."
      ],
      "text/html": [
       "<div>\n",
       "<style scoped>\n",
       "    .dataframe tbody tr th:only-of-type {\n",
       "        vertical-align: middle;\n",
       "    }\n",
       "\n",
       "    .dataframe tbody tr th {\n",
       "        vertical-align: top;\n",
       "    }\n",
       "\n",
       "    .dataframe thead th {\n",
       "        text-align: right;\n",
       "    }\n",
       "</style>\n",
       "<table border=\"1\" class=\"dataframe\">\n",
       "  <thead>\n",
       "    <tr style=\"text-align: right;\">\n",
       "      <th></th>\n",
       "      <th>lyric</th>\n",
       "    </tr>\n",
       "  </thead>\n",
       "  <tbody>\n",
       "    <tr>\n",
       "      <th>0</th>\n",
       "      <td>Segue a tua estrada Que eu já te esqueci Quand...</td>\n",
       "    </tr>\n",
       "    <tr>\n",
       "      <th>1</th>\n",
       "      <td>Chega mais perto vai quero te encontrar Quero ...</td>\n",
       "    </tr>\n",
       "    <tr>\n",
       "      <th>2</th>\n",
       "      <td>Todo amor já lhe dei Você não quis valorizar A...</td>\n",
       "    </tr>\n",
       "    <tr>\n",
       "      <th>3</th>\n",
       "      <td>Foi só cruzar o teu olhar com o meu Pra eu ent...</td>\n",
       "    </tr>\n",
       "    <tr>\n",
       "      <th>4</th>\n",
       "      <td>Esse rio que passa no meu coração Navega pra m...</td>\n",
       "    </tr>\n",
       "  </tbody>\n",
       "</table>\n",
       "</div>"
      ]
     },
     "execution_count": 112,
     "metadata": {},
     "output_type": "execute_result"
    }
   ],
   "execution_count": 112
  },
  {
   "cell_type": "code",
   "id": "e617962188106c4a",
   "metadata": {
    "ExecuteTime": {
     "end_time": "2025-04-08T14:27:12.490313Z",
     "start_time": "2025-04-08T14:27:12.477315Z"
    }
   },
   "source": [
    "import tensorflow as tf\n",
    "\n",
    "\n",
    "def custom_standardization( input_data ):\n",
    "    \"\"\"Normalização de texto. \"\"\"\n",
    "    # Converter todas as letras para minúsculas\n",
    "    lowercase = tf.strings.lower( input_data )\n",
    "\n",
    "    # Expressão Regular para remover a tag HTML\n",
    "    stripped_html = tf.strings.regex_replace( lowercase, \"<br />\", \" \" )\n",
    "\n",
    "    # Remover caracteres especiais\n",
    "    return tf.strings.regex_replace(\n",
    "            stripped_html,\n",
    "            \"[%s]\" % re.escape( \"!#$%&'()*+,-./:;<=>?@\\^_`{|}~\" ),\n",
    "            \"\"\n",
    "    )"
   ],
   "outputs": [],
   "execution_count": 113
  },
  {
   "cell_type": "markdown",
   "id": "1413c85f5980aae3",
   "metadata": {},
   "source": [
    "## Vetorização de Texto\n",
    "\n",
    "Para um transformer, a vetorização de um texto é o processo fundamental de transformar o texto bruto em uma representação numérica que o modelo possa entender e processar. Em essência, é como traduzir a linguagem humana para a linguagem matemática que o transformer consegue trabalhar.\n",
    "\n",
    "Imagine que o transformer é um computador que só entende números. Para que ele consiga ler e compreender um texto, precisamos converter cada palavra (ou parte da palavra) em um conjunto de números. Esse conjunto de números é o que chamamos de vetor.\n",
    "\n",
    "Aqui está um detalhamento do processo de vetorização para um transformer:\n",
    "\n",
    "1. Tokenização: O primeiro passo é dividir o texto em unidades menores, chamadas tokens. Um token pode ser uma palavra inteira, parte de uma palavra (subpalavra), ou até mesmo um caractere. Por exemplo, a frase \"O gato comeu o rato\" poderia ser tokenizada como: [\"O\", \"gato\", \"comeu\", \"o\", \"rato\"].\n",
    "\n",
    "2. Criação do Vocabulário: Em seguida, é criado um vocabulário, que é uma lista de todos os tokens únicos presentes no conjunto de dados de treinamento do modelo. Cada token nesse vocabulário recebe um índice único.\n",
    "\n",
    "3. Indexação: Cada token no texto de entrada é então mapeado para o seu índice correspondente no vocabulário. Usando o exemplo anterior e supondo um vocabulário, os tokens poderiam ser convertidos em índices como: [10, 25, 50, 10, 75].\n",
    "\n",
    "4. Embedding: A etapa crucial para transformers é a criação de embeddings. Em vez de simplesmente usar os índices brutos, cada índice é transformado em um vetor denso de números reais. Esse vetor captura o significado semântico e as relações entre as palavras.\n",
    "\n",
    "    - Word Embeddings: Cada palavra (ou token) é associada a um vetor de baixa dimensionalidade (por exemplo, 512 ou 768 dimensões). Palavras com significados semelhantes tendem a ter vetores próximos no espaço vetorial. Por exemplo, os vetores para \"gato\" e \"felino\" provavelmente estarão mais próximos do que os vetores para \"gato\" e \"carro\".\n",
    "\n",
    "    - Positional Embeddings: Transformers também precisam entender a ordem das palavras em uma frase. Para isso, são adicionados embeddings posicionais aos word embeddings. Esses vetores codificam a posição de cada token na sequência, permitindo que o modelo diferencie entre \"o gato comeu o rato\" e \"o rato comeu o gato\".\n",
    "\n",
    "5. Input para o Transformer: Os vetores resultantes (a soma dos word embeddings e positional embeddings para cada token) são então alimentados como entrada para as diferentes camadas do transformer (como as camadas de atenção)."
   ]
  },
  {
   "cell_type": "code",
   "id": "7d8904fb48419e91",
   "metadata": {
    "ExecuteTime": {
     "end_time": "2025-04-08T14:27:12.551972Z",
     "start_time": "2025-04-08T14:27:12.539026Z"
    }
   },
   "source": [
    "def get_vectorize_layer( texts: list[ str ], vocab_size: int, max_seq: int, special_tokens: list = [ \"[MASK]\" ] ):\n",
    "    \"\"\"Build Text vectorization layer\n",
    "\n",
    "    Args:\n",
    "      texts (list): List of string i.e input texts\n",
    "      vocab_size (int): vocab size\n",
    "      max_seq (int): Maximum sequence length.\n",
    "      special_tokens (list, optional): List of special tokens. Defaults to ['[MASK]'].\n",
    "\n",
    "    Returns:\n",
    "        layers.Layer: Return TextVectorization Keras Layer\n",
    "    \"\"\"\n",
    "\n",
    "    # Criação da camada de TextVectorization\n",
    "    vectorize_layer = TextVectorization(\n",
    "            max_tokens = vocab_size,  # Define o tamanho máximo do vocabulário\n",
    "            output_mode = \"int\",  # Define que a saída deve ser uma sequência de números inteiros\n",
    "            standardize = custom_standardization,  # Aplicar função de pré-processamento\n",
    "            output_sequence_length = max_seq,  # Garantir que toda sequência de saída tenha comprimento max_seq\n",
    "    )\n",
    "\n",
    "    # todo Mostrar um exemplo\n",
    "\n",
    "    # Adaptação aos textos de entrada\n",
    "    # A camada \"sabe\" como mapear palavras para números inteiros, com base nas entradas\n",
    "    vectorize_layer.adapt( texts )\n",
    "\n",
    "    # Obtém o vocabulário aprendido\n",
    "    vocab = vectorize_layer.get_vocabulary()\n",
    "\n",
    "    # Por padrão, o TextVectorization coloca \"\" (para padding, índice 0) e \"[UNK]\" (para palavras desconhecidas,\n",
    "    # índice 1) no início do vocabulário.\n",
    "\n",
    "    # Pegando uma porção do vocabulário:\n",
    "    # - Ignorando \"\" e \"[UNK]\"\n",
    "    # - Pega quase tudo, deixando espaço suficiente para special_tokens\n",
    "    vocab = vocab[ 2: vocab_size - len( special_tokens ) ] + special_tokens\n",
    "\n",
    "    # Atualiza o vocabulário da camada\n",
    "    vectorize_layer.set_vocabulary( vocab )\n",
    "\n",
    "    # Retorna a camada\n",
    "    return vectorize_layer"
   ],
   "outputs": [],
   "execution_count": 114
  },
  {
   "cell_type": "code",
   "id": "14af57ee8c312389",
   "metadata": {
    "ExecuteTime": {
     "end_time": "2025-04-08T14:27:12.775139Z",
     "start_time": "2025-04-08T14:27:12.649035Z"
    }
   },
   "source": [
    "# Novidade\n",
    "# Pega os textos APENAS do treino para adaptar o vetorizador\n",
    "train_texts = train_df.lyric.values.tolist()\n",
    "\n",
    "# Pegando a camada de vetorização\n",
    "vectorize_layer = get_vectorize_layer(\n",
    "        train_texts,\n",
    "        config.VOCAB_SIZE,\n",
    "        config.MAX_LEN,\n",
    "        special_tokens = [ \"[mask]\" ],\n",
    ")\n",
    "\n",
    "# Processamento de um novo dado: \"[mask]\"\n",
    "# - Aplica a função de pré-processamento\n",
    "# - Divide em token, pega seu id e cria uma sequência de comprimento config.MAX_LEN\n",
    "# - Converte o resultado para um array NumPy\n",
    "# - Pega o id do \"[mask]\"\n",
    "mask_token_id = vectorize_layer( [ \"[mask]\" ] ).cpu().numpy()[ 0 ][ 0 ]"
   ],
   "outputs": [],
   "execution_count": 115
  },
  {
   "cell_type": "code",
   "id": "cf38423e529f2726",
   "metadata": {
    "ExecuteTime": {
     "end_time": "2025-04-08T14:27:12.790718Z",
     "start_time": "2025-04-08T14:27:12.779080Z"
    }
   },
   "source": [
    "def encode( texts ):\n",
    "    \"\"\" Retorna um array NumPy das sequências numéricas dos textos de entrada.\"\"\"\n",
    "    # Criação das sequências numéricas para os textos de entrada\n",
    "    encoded_texts = vectorize_layer( texts )\n",
    "    # Retorna as sequências como um array NumPy\n",
    "    return encoded_texts.cpu().numpy()"
   ],
   "outputs": [],
   "execution_count": 116
  },
  {
   "cell_type": "markdown",
   "id": "7f5c334136918c96",
   "metadata": {},
   "source": [
    "### Mascaramento de Texto\n",
    "\n",
    "Em essência, o mascaramento envolve ocultar aleatoriamente algumas das palavras (ou tokens) em uma sequência de texto de entrada. O objetivo é fazer com que o modelo aprenda a prever as palavras que foram mascaradas, com base no contexto das palavras vizinhas não mascaradas.\n",
    "\n",
    "Imagine a frase: \"O gato está dormindo no tapete.\"\n",
    "\n",
    "No processo de mascaramento, poderíamos aleatoriamente escolher algumas palavras para ocultar, substituindo-as por um token especial, geralmente chamado [MASK]. Por exemplo, a frase poderia se tornar:\n",
    "\n",
    "\"O [MASK] está dormindo no [MASK].\"\n",
    "\n",
    "O modelo de linguagem, durante o treinamento, receberia essa versão mascarada da frase como entrada e teria como objetivo prever as palavras originais que foram substituídas por [MASK]. Neste caso, o modelo deveria aprender a prever \"gato\" para o primeiro [MASK] e \"tapete\" para o segundo."
   ]
  },
  {
   "cell_type": "code",
   "id": "977366761074a52b",
   "metadata": {
    "ExecuteTime": {
     "end_time": "2025-04-08T14:27:12.837725Z",
     "start_time": "2025-04-08T14:27:12.823733Z"
    }
   },
   "source": [
    "def get_masked_input_and_labels( encoded_texts ):\n",
    "    # Cria um array NumPy com o mesmo tamanho de encoded_texts preenchido com números aleatórios entre 0 e 1\n",
    "    # Vai comparar cada um dos números com 0.15, se for maior ou igual, será True, do contrário, será False\n",
    "    # inp_mask será um array de booleanos de mesmo tamanho que encoded_texts\n",
    "    inp_mask = np.random.rand( *encoded_texts.shape ) < 0.15\n",
    "\n",
    "    # Não deixa realizar o mascaramento em tokens especiais\n",
    "    inp_mask[ encoded_texts <= 2 ] = False\n",
    "\n",
    "    # Cria um array com o mesmo tamanho de encoded_texts preenchido com o valor -1\n",
    "    # O valor -1 é usado para indicar que esses tokens não são alvos para a previsão durante o treinamento\n",
    "    labels = -1 * np.ones( encoded_texts.shape, dtype = int )\n",
    "\n",
    "    # Para as posições no array qye são True em inp_mask, os valores dos IDs dos tokens são atribuídos a labels\n",
    "    # Assim, labels terá os IDs dos tokens que foram mascarados, e o modelo terá que prever esses IDs\n",
    "    labels[ inp_mask ] = encoded_texts[ inp_mask ]\n",
    "\n",
    "    # Cria uma cópia de encoded_texts\n",
    "    encoded_texts_masked = np.copy( encoded_texts )\n",
    "\n",
    "    # Cria uma nova máscara booleana\n",
    "    # Ela é True apenas nas posições onde inp_mask também é True E um novo número aleatório gerado para\n",
    "    # essa posição é menor que 0.9\n",
    "    # Apenas 90% dos 15% dos tokens selecionados para mascaramente, serão, de fato, mascarados\n",
    "    inp_mask_2mask = inp_mask & (np.random.rand( *encoded_texts.shape ) < 0.90)\n",
    "\n",
    "    # Atualizando posições onde inp_mask_2mask são True para a máscara\n",
    "    encoded_texts_masked[ inp_mask_2mask ] = mask_token_id\n",
    "\n",
    "    # Cria uma nova máscara booleana\n",
    "    # Ela é True apenas nas posições onde inp_mask_2mask também é True E um novo número aleatório gerado para\n",
    "    # essa posição é menor que 1/9\n",
    "    # 1/9 dos 90% serão tokens aleatórios\n",
    "    inp_mask_2random = inp_mask_2mask & (np.random.rand( *encoded_texts.shape ) < 1 / 9)\n",
    "\n",
    "    # Nas posições onde inp_mask_2random é True, o token em encoded_texts_masked será um token aleatório\n",
    "    # Gera um array de números aleatórios partindo de 3 e indo até antes de mask_token_id\n",
    "    # Começou em 3 porque as primeiras posições foram excluídas\n",
    "    encoded_texts_masked[ inp_mask_2random ] = np.random.randint(\n",
    "            3, mask_token_id, inp_mask_2random.sum()\n",
    "    )\n",
    "\n",
    "    # Cria um array de mesmo tamanho que labels preenchido com 1\n",
    "    sample_weights = np.ones( labels.shape )\n",
    "\n",
    "    # Nas posições dos tokens que têm -1, o valor em sample_weights será 0\n",
    "    # Isso significa que a perda durante o treinamento será calculada apenas para os tokens\n",
    "    # que foram realmente mascarados\n",
    "    sample_weights[ labels == -1 ] = 0\n",
    "\n",
    "    # Cria uma cópia de encoded_texts\n",
    "    y_labels = np.copy( encoded_texts )\n",
    "\n",
    "    # A versão da entrada com alguns tokens substituídos por [MASK] ou por tokens aleatórios\n",
    "    # Os tokens originais da entrada, que servem como os rótulos para o treinamento\n",
    "    # Um array de pesos que indica quais posições em y_labels devem ser consideradas no cálculo da perda\n",
    "    return encoded_texts_masked, y_labels, sample_weights"
   ],
   "outputs": [],
   "execution_count": 117
  },
  {
   "cell_type": "markdown",
   "id": "fc0c9d5289de1a13",
   "metadata": {},
   "source": [
    "## Codificação e Datasets\n",
    "\n",
    "1. Classificação de Sentimentos: Cria datasets de treinamento e teste (train_classifier_ds e test_classifier_ds) onde as revisões são codificadas e emparelhadas com seus rótulos de sentimento.\n",
    "\n",
    "2. Modelo de Linguagem Mascarada: Cria um dataset (mlm_ds) para treinar um modelo a prever palavras mascaradas em um conjunto de todas as revisões."
   ]
  },
  {
   "cell_type": "code",
   "id": "55a74b6efbf9b0d2",
   "metadata": {
    "ExecuteTime": {
     "end_time": "2025-04-08T14:27:12.947760Z",
     "start_time": "2025-04-08T14:27:12.869758Z"
    }
   },
   "source": [
    "# Codificação das letras\n",
    "x_train = encode( train_df.lyric.values )\n",
    "x_test = encode( test_df.lyric.values )"
   ],
   "outputs": [],
   "execution_count": 118
  },
  {
   "cell_type": "code",
   "id": "d546c097a2d0259e",
   "metadata": {
    "ExecuteTime": {
     "end_time": "2025-04-08T14:27:13.011739Z",
     "start_time": "2025-04-08T14:27:12.981741Z"
    }
   },
   "source": [
    "# Mascaramento das letras\n",
    "x_train_masked, y_train_labels, train_sample_weights = get_masked_input_and_labels(\n",
    "        x_train\n",
    ")\n",
    "x_val_masked, y_val_labels, val_sample_weights = get_masked_input_and_labels(\n",
    "        x_test\n",
    ")"
   ],
   "outputs": [],
   "execution_count": 119
  },
  {
   "metadata": {
    "ExecuteTime": {
     "end_time": "2025-04-08T14:27:13.073772Z",
     "start_time": "2025-04-08T14:27:13.043744Z"
    }
   },
   "cell_type": "code",
   "source": [
    "# Criação dos Datasets TensorFlow\n",
    "\n",
    "# Dataset de Treino para MLM\n",
    "mlm_train_ds = tf.data.Dataset.from_tensor_slices(\n",
    "        (x_train_masked, y_train_labels, train_sample_weights)\n",
    ")\n",
    "# Embaralha e agrupa em lotes\n",
    "mlm_train_ds = mlm_train_ds.shuffle( 1000 ).batch( config.BATCH_SIZE ).prefetch( tf.data.AUTOTUNE )\n",
    "\n",
    "# Dataset de Teste para MLM\n",
    "mlm_val_ds = tf.data.Dataset.from_tensor_slices(\n",
    "        (x_val_masked, y_val_labels, val_sample_weights)\n",
    ")\n",
    "# APENAS agrupa em lotes (não precisa embaralhar teste)\n",
    "mlm_val_ds = mlm_val_ds.batch( config.BATCH_SIZE ).prefetch( tf.data.AUTOTUNE )\n"
   ],
   "id": "5a6318f63c1b3e6",
   "outputs": [],
   "execution_count": 120
  },
  {
   "cell_type": "code",
   "id": "776d07c167f0b164",
   "metadata": {
    "ExecuteTime": {
     "end_time": "2025-04-08T14:27:13.151747Z",
     "start_time": "2025-04-08T14:27:13.111765Z"
    }
   },
   "source": [
    "# Aplica a codificação em toda a base\n",
    "# x_all_review = encode( all_data..values )\n",
    "\n",
    "# Passa a codificação da base para realizar o mascaramento dos dados\n",
    "\n",
    "# x_masked_train: As revisões com alguns tokens mascarados (substituídos por um token especial ou por tokens aleatórios).\n",
    "#   Esta será a entrada para o modelo de linguagem mascarada.\n",
    "\n",
    "# y_masked_labels: Os rótulos para a tarefa de mascaramento.\n",
    "\n",
    "# sample_weights: Pesos que indicam quais tokens devem ser considerados no cálculo da perda\n",
    "# x_masked_train, y_masked_labels, sample_weights = get_masked_input_and_labels(\n",
    "#         x_all_review\n",
    "# )\n",
    "\n",
    "# Cria um dataset onde, cada elemento será uma tupla:\n",
    "# - As reviews mascaradas\n",
    "# - Rótulos originais\n",
    "# - Pesos de amostra\n",
    "mlm_ds = tf.data.Dataset.from_tensor_slices(\n",
    "        (x_masked_train, y_masked_labels, sample_weights)\n",
    ")\n",
    "\n",
    "# Embaralha o dataset e agrupa em lotes\n",
    "mlm_ds = mlm_ds.shuffle( 1000 ).batch( config.BATCH_SIZE )"
   ],
   "outputs": [],
   "execution_count": 121
  },
  {
   "metadata": {},
   "cell_type": "markdown",
   "source": "# Treinamento do modelo BERT",
   "id": "67be1561f10b4df5"
  },
  {
   "cell_type": "code",
   "id": "5ac4d706",
   "metadata": {
    "ExecuteTime": {
     "end_time": "2025-04-08T14:27:13.230816Z",
     "start_time": "2025-04-08T14:27:13.216499Z"
    }
   },
   "source": [
    "def bert_module( query, key, value, i ):\n",
    "\n",
    "    #Fazer uma \"self-attention\" com multiplas cabeças\n",
    "    #self attention e uma maneira do modelo enteder as relacoes de uma sequencia de palavras\n",
    "    #por ter mais de 1 cabeça permite notar essas relacoes em diferentes partes do texto\n",
    "    attention_output = layers.MultiHeadAttention(\n",
    "            num_heads = config.NUM_HEAD,\n",
    "            key_dim = config.EMBED_DIM // config.NUM_HEAD,\n",
    "            name = \"encoder_{}_multiheadattention\".format( i ),\n",
    "    )( query, key, value )\n",
    "\n",
    "    #Dropout para ajudar na regularizacao (evitar overfitting)\n",
    "    attention_output = layers.Dropout( 0.1, name = \"encoder_{}_att_dropout\".format( i ) )(\n",
    "            attention_output\n",
    "    )\n",
    "\n",
    "    #Layer normalization da atencao que foi calculada e da entrada original\n",
    "    #serve para garantir o processo de informacao de maneira consistente, ajudando na performance e eficiencia\n",
    "    attention_output = layers.LayerNormalization(\n",
    "            epsilon = 1e-6, name = \"encoder_{}_att_layernormalization\".format( i )\n",
    "    )( query + attention_output )\n",
    "\n",
    "    # Feed-forward layer, serve para que informacoes em estagios tadios do processamento sejam\n",
    "    #enviados para estagios mais iniciais\n",
    "    ffn = keras.Sequential(\n",
    "            [\n",
    "                layers.Dense( config.FF_DIM, activation = \"relu\" ),  #expande  dimensao para FF_DIMe ativacao ReLU\n",
    "                layers.Dense( config.EMBED_DIM ),  #volta para a dimensao original\n",
    "            ],\n",
    "            name = \"encoder_{}_ffn\".format( i ),\n",
    "    )\n",
    "\n",
    "    #aplicacao de dropout novamente\n",
    "    ffn_output = ffn( attention_output )\n",
    "    ffn_output = layers.Dropout( 0.1, name = \"encoder_{}_ffn_dropout\".format( i ) )(\n",
    "            ffn_output\n",
    "    )\n",
    "\n",
    "    #layer normalization novamente com a saida da camada de atencao\n",
    "    sequence_output = layers.LayerNormalization(\n",
    "            epsilon = 1e-6, name = \"encoder_{}_ffn_layernormalization\".format( i )\n",
    "    )( attention_output + ffn_output )\n",
    "\n",
    "    #o resultado possui a mesma dimensao da entrada porem com representacoes melhores\n",
    "    #mesmos dados porem enriquecidos de contexto\n",
    "    return sequence_output\n"
   ],
   "outputs": [],
   "execution_count": 122
  },
  {
   "cell_type": "code",
   "id": "9af62811",
   "metadata": {
    "ExecuteTime": {
     "end_time": "2025-04-08T14:27:13.246862Z",
     "start_time": "2025-04-08T14:27:13.233812Z"
    }
   },
   "source": [
    "#Funcao de perda de entropia cruzada esparsa\n",
    "#usada quando tem duas ou mais classes de label\n",
    "loss_fn = keras.losses.SparseCategoricalCrossentropy( reduction = None )\n",
    "#media dos valores de perda ao longo do treinamento\n",
    "loss_tracker = keras.metrics.Mean( name = \"loss\" )\n",
    "\n",
    "\n",
    "#esta classe serve para calcular as metricas e a perda de maneira customizada\n",
    "#assim temos um controle maior do treinamento\n",
    "class MaskedLanguageModel( keras.Model ):\n",
    "\n",
    "    def compute_loss( self, x = None, y = None, y_pred = None, sample_weight = None ):\n",
    "        #ja que na funcao de perda nao tem reducao vamos ter um valor de perda pra cada exemplo\n",
    "        #entao o fazemos com que a soma total seja o que sera otimizada\n",
    "        loss = loss_fn( y, y_pred, sample_weight )\n",
    "        loss_tracker.update_state( loss, sample_weight = sample_weight )\n",
    "        return keras.ops.sum( loss )\n",
    "\n",
    "    def compute_metrics( self, x, y, y_pred, sample_weight ):\n",
    "        # Retorna um dicionario com a perda media do loss_tracker\n",
    "        return { \"loss\": loss_tracker.result() }\n",
    "\n",
    "    @property\n",
    "    def metrics( self ):\n",
    "        #este serve para que nao seja necessario o reset manual das metricas\n",
    "        # We list our `Metric` objects here so that `reset_states()` can be\n",
    "        # called automatically at the start of each epoch\n",
    "        # or at the start of `evaluate()`.\n",
    "        # If you don't implement this property, you have to call\n",
    "        # `reset_states()` yourself at the time of your choosing.\n",
    "        return [ loss_tracker ]"
   ],
   "outputs": [],
   "execution_count": 123
  },
  {
   "cell_type": "code",
   "id": "83087148",
   "metadata": {
    "ExecuteTime": {
     "end_time": "2025-04-08T14:27:13.325489Z",
     "start_time": "2025-04-08T14:27:13.280096Z"
    }
   },
   "source": [
    "def create_masked_language_bert_model():\n",
    "    #configura a camada de entrada para que seja uma lista de tokens INT\n",
    "    inputs = layers.Input( (config.MAX_LEN,), dtype = \"int64\" )\n",
    "\n",
    "    #converte os IDs dos tokens em vetores\n",
    "    #cava vetor tera  dimensao de EMBED_DIM\n",
    "    word_embeddings = layers.Embedding(\n",
    "            config.VOCAB_SIZE, config.EMBED_DIM, name = \"word_embedding\"\n",
    "    )( inputs )\n",
    "\n",
    "    #cria a informacao adicional das posicoes dos tokens para o modelo usando a bibliote do keras_hub\n",
    "    position_embeddings = keras_hub.layers.PositionEmbedding(\n",
    "            sequence_length = config.MAX_LEN\n",
    "    )( word_embeddings )\n",
    "\n",
    "    #combina as duas informacoes criadas, a de semantica de a de posicao\n",
    "    embeddings = word_embeddings + position_embeddings\n",
    "\n",
    "    encoder_output = embeddings\n",
    "\n",
    "    #para cada camada se aplica o bert, um bloco transformer contendo Multi-Head Self-Attention e Feed-Forward Network\n",
    "    for i in range( config.NUM_LAYERS ):\n",
    "        encoder_output = bert_module( encoder_output, encoder_output, encoder_output, i )\n",
    "\n",
    "    #camada de classificacao para o mlm, transformando a saída do encoder em predições de tokens\n",
    "    #a função de ativação softmax transforma as saídas brutas da rede neural em um vetor de probabilidades\n",
    "    mlm_output = layers.Dense( config.VOCAB_SIZE, name = \"mlm_cls\", activation = \"softmax\" )(\n",
    "            encoder_output\n",
    "    )\n",
    "\n",
    "    #criar a instancia da classe mlm que ja definimos\n",
    "    mlm_model = MaskedLanguageModel( inputs, mlm_output, name = \"masked_bert_model\" )\n",
    "\n",
    "    #otimizacao usando \"Adam\" e compilacao\n",
    "    optimizer = keras.optimizers.Adam( learning_rate = config.LR )\n",
    "    mlm_model.compile( optimizer = optimizer )\n",
    "    return mlm_model\n",
    "\n",
    "\n",
    "#mapeamento de ID para token e vice versa para facilitar interpretacao dos dados\n",
    "id2token = dict( enumerate( vectorize_layer.get_vocabulary() ) )\n",
    "token2id = { y: x for x, y in id2token.items() }"
   ],
   "outputs": [],
   "execution_count": 124
  },
  {
   "cell_type": "code",
   "id": "874798b1",
   "metadata": {
    "ExecuteTime": {
     "end_time": "2025-04-08T14:27:13.497324Z",
     "start_time": "2025-04-08T14:27:13.359323Z"
    }
   },
   "source": [
    "#por herdar keras.callbacks.Callback pode ser usada durante o treinamento\n",
    "class MaskedTextGenerator( keras.callbacks.Callback ):\n",
    "    def __init__( self, sample_tokens, top_k = 5 ):\n",
    "        self.sample_tokens = sample_tokens  #exemplo de entrada\n",
    "        self.k = top_k  #quantos candidatos serao considerados para cada mascara\n",
    "\n",
    "    #sequencia de tokens para uma string\n",
    "    def decode( self, tokens ):\n",
    "        return \" \".join( [ id2token.get( int( t ), \"[UNK]\" ) for t in tokens if t != 0 ] )\n",
    "\n",
    "    #converte o seu ID para seu token correspondente\n",
    "    def convert_ids_to_tokens( self, id ):\n",
    "        return id2token[ id ]\n",
    "\n",
    "    #executado ao final de cada epoca\n",
    "    def on_epoch_end( self, epoch, logs = None ):\n",
    "        #recebe as previsoes do modelo para o exemplo fornecido\n",
    "        prediction = self.model.predict( self.sample_tokens )\n",
    "\n",
    "        #procura onde esta os tokens de mascara\n",
    "        masked_index = np.where( self.sample_tokens == mask_token_id )\n",
    "        masked_index = masked_index[ 1 ]\n",
    "\n",
    "        #pega as probabilidades de predicao para os tokens mascarados\n",
    "        mask_prediction = prediction[ 0 ][ masked_index ]\n",
    "\n",
    "        #ordena e armazena em values os top_k (5 neste caso) maiores probabilidades\n",
    "        top_indices = mask_prediction[ 0 ].argsort()[ -self.k: ][ ::-1 ]\n",
    "        values = mask_prediction[ 0 ][ top_indices ]\n",
    "\n",
    "        #para cada entre os top candidatos cria uma copia e substitui\n",
    "        #depois printa o texto original e os resultados com as palavras preditas junto com a probabilidade e token\n",
    "        for i in range( len( top_indices ) ):\n",
    "            p = top_indices[ i ]\n",
    "            v = values[ i ]\n",
    "            tokens = np.copy( sample_tokens[ 0 ] )\n",
    "            tokens[ masked_index[ 0 ] ] = p\n",
    "            result = {\n",
    "                \"input_text\": self.decode( sample_tokens[ 0 ].numpy() ),\n",
    "                \"prediction\": self.decode( tokens ),\n",
    "                \"probability\": v,\n",
    "                \"predicted mask token\": self.convert_ids_to_tokens( p ),\n",
    "            }\n",
    "            pprint( result )\n",
    "\n",
    "\n",
    "#converte o exemplo para uma sequencia de IDs e instacia com o callback com o exemplo, este sera usado nas predicoes no final de cada epoca\n",
    "sample_tokens = vectorize_layer( [ \"Estou com muita [mask] de você\" ] )\n",
    "\n",
    "# Caso sample_tokens seja um tensor PyTorch, mova para a CPU antes de passar para o callback\n",
    "if isinstance( sample_tokens, torch.Tensor ):\n",
    "    generator_callback = MaskedTextGenerator( sample_tokens.cpu().numpy()\n",
    "                                              )  # Movendo para a CPU e convertendo para numpy\n",
    "else:\n",
    "    generator_callback = MaskedTextGenerator( sample_tokens )\n",
    "\n",
    "#cria o modelo bert pra o mlm e resume com summary()\n",
    "bert_masked_model = create_masked_language_bert_model()\n",
    "bert_masked_model.summary()"
   ],
   "outputs": [
    {
     "data": {
      "text/plain": [
       "\u001B[1mModel: \"masked_bert_model\"\u001B[0m\n"
      ],
      "text/html": [
       "<pre style=\"white-space:pre;overflow-x:auto;line-height:normal;font-family:Menlo,'DejaVu Sans Mono',consolas,'Courier New',monospace\"><span style=\"font-weight: bold\">Model: \"masked_bert_model\"</span>\n",
       "</pre>\n"
      ]
     },
     "metadata": {},
     "output_type": "display_data"
    },
    {
     "data": {
      "text/plain": [
       "┏━━━━━━━━━━━━━━━━━━━━━┳━━━━━━━━━━━━━━━━━━━┳━━━━━━━━━━━━┳━━━━━━━━━━━━━━━━━━━┓\n",
       "┃\u001B[1m \u001B[0m\u001B[1mLayer (type)       \u001B[0m\u001B[1m \u001B[0m┃\u001B[1m \u001B[0m\u001B[1mOutput Shape     \u001B[0m\u001B[1m \u001B[0m┃\u001B[1m \u001B[0m\u001B[1m   Param #\u001B[0m\u001B[1m \u001B[0m┃\u001B[1m \u001B[0m\u001B[1mConnected to     \u001B[0m\u001B[1m \u001B[0m┃\n",
       "┡━━━━━━━━━━━━━━━━━━━━━╇━━━━━━━━━━━━━━━━━━━╇━━━━━━━━━━━━╇━━━━━━━━━━━━━━━━━━━┩\n",
       "│ input_layer_10      │ (\u001B[38;5;45mNone\u001B[0m, \u001B[38;5;34m256\u001B[0m)       │          \u001B[38;5;34m0\u001B[0m │ -                 │\n",
       "│ (\u001B[38;5;33mInputLayer\u001B[0m)        │                   │            │                   │\n",
       "├─────────────────────┼───────────────────┼────────────┼───────────────────┤\n",
       "│ word_embedding      │ (\u001B[38;5;45mNone\u001B[0m, \u001B[38;5;34m256\u001B[0m, \u001B[38;5;34m128\u001B[0m)  │  \u001B[38;5;34m3,840,000\u001B[0m │ input_layer_10[\u001B[38;5;34m0\u001B[0m… │\n",
       "│ (\u001B[38;5;33mEmbedding\u001B[0m)         │                   │            │                   │\n",
       "├─────────────────────┼───────────────────┼────────────┼───────────────────┤\n",
       "│ position_embedding… │ (\u001B[38;5;45mNone\u001B[0m, \u001B[38;5;34m256\u001B[0m, \u001B[38;5;34m128\u001B[0m)  │     \u001B[38;5;34m32,768\u001B[0m │ word_embedding[\u001B[38;5;34m0\u001B[0m… │\n",
       "│ (\u001B[38;5;33mPositionEmbedding\u001B[0m) │                   │            │                   │\n",
       "├─────────────────────┼───────────────────┼────────────┼───────────────────┤\n",
       "│ add_15 (\u001B[38;5;33mAdd\u001B[0m)        │ (\u001B[38;5;45mNone\u001B[0m, \u001B[38;5;34m256\u001B[0m, \u001B[38;5;34m128\u001B[0m)  │          \u001B[38;5;34m0\u001B[0m │ word_embedding[\u001B[38;5;34m0\u001B[0m… │\n",
       "│                     │                   │            │ position_embeddi… │\n",
       "├─────────────────────┼───────────────────┼────────────┼───────────────────┤\n",
       "│ encoder_0_multihea… │ (\u001B[38;5;45mNone\u001B[0m, \u001B[38;5;34m256\u001B[0m, \u001B[38;5;34m128\u001B[0m)  │     \u001B[38;5;34m66,048\u001B[0m │ add_15[\u001B[38;5;34m0\u001B[0m][\u001B[38;5;34m0\u001B[0m],     │\n",
       "│ (\u001B[38;5;33mMultiHeadAttentio…\u001B[0m │                   │            │ add_15[\u001B[38;5;34m0\u001B[0m][\u001B[38;5;34m0\u001B[0m],     │\n",
       "│                     │                   │            │ add_15[\u001B[38;5;34m0\u001B[0m][\u001B[38;5;34m0\u001B[0m]      │\n",
       "├─────────────────────┼───────────────────┼────────────┼───────────────────┤\n",
       "│ encoder_0_att_drop… │ (\u001B[38;5;45mNone\u001B[0m, \u001B[38;5;34m256\u001B[0m, \u001B[38;5;34m128\u001B[0m)  │          \u001B[38;5;34m0\u001B[0m │ encoder_0_multih… │\n",
       "│ (\u001B[38;5;33mDropout\u001B[0m)           │                   │            │                   │\n",
       "├─────────────────────┼───────────────────┼────────────┼───────────────────┤\n",
       "│ add_16 (\u001B[38;5;33mAdd\u001B[0m)        │ (\u001B[38;5;45mNone\u001B[0m, \u001B[38;5;34m256\u001B[0m, \u001B[38;5;34m128\u001B[0m)  │          \u001B[38;5;34m0\u001B[0m │ add_15[\u001B[38;5;34m0\u001B[0m][\u001B[38;5;34m0\u001B[0m],     │\n",
       "│                     │                   │            │ encoder_0_att_dr… │\n",
       "├─────────────────────┼───────────────────┼────────────┼───────────────────┤\n",
       "│ encoder_0_att_laye… │ (\u001B[38;5;45mNone\u001B[0m, \u001B[38;5;34m256\u001B[0m, \u001B[38;5;34m128\u001B[0m)  │        \u001B[38;5;34m256\u001B[0m │ add_16[\u001B[38;5;34m0\u001B[0m][\u001B[38;5;34m0\u001B[0m]      │\n",
       "│ (\u001B[38;5;33mLayerNormalizatio…\u001B[0m │                   │            │                   │\n",
       "├─────────────────────┼───────────────────┼────────────┼───────────────────┤\n",
       "│ encoder_0_ffn       │ (\u001B[38;5;45mNone\u001B[0m, \u001B[38;5;34m256\u001B[0m, \u001B[38;5;34m128\u001B[0m)  │     \u001B[38;5;34m33,024\u001B[0m │ encoder_0_att_la… │\n",
       "│ (\u001B[38;5;33mSequential\u001B[0m)        │                   │            │                   │\n",
       "├─────────────────────┼───────────────────┼────────────┼───────────────────┤\n",
       "│ encoder_0_ffn_drop… │ (\u001B[38;5;45mNone\u001B[0m, \u001B[38;5;34m256\u001B[0m, \u001B[38;5;34m128\u001B[0m)  │          \u001B[38;5;34m0\u001B[0m │ encoder_0_ffn[\u001B[38;5;34m0\u001B[0m]… │\n",
       "│ (\u001B[38;5;33mDropout\u001B[0m)           │                   │            │                   │\n",
       "├─────────────────────┼───────────────────┼────────────┼───────────────────┤\n",
       "│ add_17 (\u001B[38;5;33mAdd\u001B[0m)        │ (\u001B[38;5;45mNone\u001B[0m, \u001B[38;5;34m256\u001B[0m, \u001B[38;5;34m128\u001B[0m)  │          \u001B[38;5;34m0\u001B[0m │ encoder_0_att_la… │\n",
       "│                     │                   │            │ encoder_0_ffn_dr… │\n",
       "├─────────────────────┼───────────────────┼────────────┼───────────────────┤\n",
       "│ encoder_0_ffn_laye… │ (\u001B[38;5;45mNone\u001B[0m, \u001B[38;5;34m256\u001B[0m, \u001B[38;5;34m128\u001B[0m)  │        \u001B[38;5;34m256\u001B[0m │ add_17[\u001B[38;5;34m0\u001B[0m][\u001B[38;5;34m0\u001B[0m]      │\n",
       "│ (\u001B[38;5;33mLayerNormalizatio…\u001B[0m │                   │            │                   │\n",
       "├─────────────────────┼───────────────────┼────────────┼───────────────────┤\n",
       "│ mlm_cls (\u001B[38;5;33mDense\u001B[0m)     │ (\u001B[38;5;45mNone\u001B[0m, \u001B[38;5;34m256\u001B[0m,       │  \u001B[38;5;34m3,870,000\u001B[0m │ encoder_0_ffn_la… │\n",
       "│                     │ \u001B[38;5;34m30000\u001B[0m)            │            │                   │\n",
       "└─────────────────────┴───────────────────┴────────────┴───────────────────┘\n"
      ],
      "text/html": [
       "<pre style=\"white-space:pre;overflow-x:auto;line-height:normal;font-family:Menlo,'DejaVu Sans Mono',consolas,'Courier New',monospace\">┏━━━━━━━━━━━━━━━━━━━━━┳━━━━━━━━━━━━━━━━━━━┳━━━━━━━━━━━━┳━━━━━━━━━━━━━━━━━━━┓\n",
       "┃<span style=\"font-weight: bold\"> Layer (type)        </span>┃<span style=\"font-weight: bold\"> Output Shape      </span>┃<span style=\"font-weight: bold\">    Param # </span>┃<span style=\"font-weight: bold\"> Connected to      </span>┃\n",
       "┡━━━━━━━━━━━━━━━━━━━━━╇━━━━━━━━━━━━━━━━━━━╇━━━━━━━━━━━━╇━━━━━━━━━━━━━━━━━━━┩\n",
       "│ input_layer_10      │ (<span style=\"color: #00d7ff; text-decoration-color: #00d7ff\">None</span>, <span style=\"color: #00af00; text-decoration-color: #00af00\">256</span>)       │          <span style=\"color: #00af00; text-decoration-color: #00af00\">0</span> │ -                 │\n",
       "│ (<span style=\"color: #0087ff; text-decoration-color: #0087ff\">InputLayer</span>)        │                   │            │                   │\n",
       "├─────────────────────┼───────────────────┼────────────┼───────────────────┤\n",
       "│ word_embedding      │ (<span style=\"color: #00d7ff; text-decoration-color: #00d7ff\">None</span>, <span style=\"color: #00af00; text-decoration-color: #00af00\">256</span>, <span style=\"color: #00af00; text-decoration-color: #00af00\">128</span>)  │  <span style=\"color: #00af00; text-decoration-color: #00af00\">3,840,000</span> │ input_layer_10[<span style=\"color: #00af00; text-decoration-color: #00af00\">0</span>… │\n",
       "│ (<span style=\"color: #0087ff; text-decoration-color: #0087ff\">Embedding</span>)         │                   │            │                   │\n",
       "├─────────────────────┼───────────────────┼────────────┼───────────────────┤\n",
       "│ position_embedding… │ (<span style=\"color: #00d7ff; text-decoration-color: #00d7ff\">None</span>, <span style=\"color: #00af00; text-decoration-color: #00af00\">256</span>, <span style=\"color: #00af00; text-decoration-color: #00af00\">128</span>)  │     <span style=\"color: #00af00; text-decoration-color: #00af00\">32,768</span> │ word_embedding[<span style=\"color: #00af00; text-decoration-color: #00af00\">0</span>… │\n",
       "│ (<span style=\"color: #0087ff; text-decoration-color: #0087ff\">PositionEmbedding</span>) │                   │            │                   │\n",
       "├─────────────────────┼───────────────────┼────────────┼───────────────────┤\n",
       "│ add_15 (<span style=\"color: #0087ff; text-decoration-color: #0087ff\">Add</span>)        │ (<span style=\"color: #00d7ff; text-decoration-color: #00d7ff\">None</span>, <span style=\"color: #00af00; text-decoration-color: #00af00\">256</span>, <span style=\"color: #00af00; text-decoration-color: #00af00\">128</span>)  │          <span style=\"color: #00af00; text-decoration-color: #00af00\">0</span> │ word_embedding[<span style=\"color: #00af00; text-decoration-color: #00af00\">0</span>… │\n",
       "│                     │                   │            │ position_embeddi… │\n",
       "├─────────────────────┼───────────────────┼────────────┼───────────────────┤\n",
       "│ encoder_0_multihea… │ (<span style=\"color: #00d7ff; text-decoration-color: #00d7ff\">None</span>, <span style=\"color: #00af00; text-decoration-color: #00af00\">256</span>, <span style=\"color: #00af00; text-decoration-color: #00af00\">128</span>)  │     <span style=\"color: #00af00; text-decoration-color: #00af00\">66,048</span> │ add_15[<span style=\"color: #00af00; text-decoration-color: #00af00\">0</span>][<span style=\"color: #00af00; text-decoration-color: #00af00\">0</span>],     │\n",
       "│ (<span style=\"color: #0087ff; text-decoration-color: #0087ff\">MultiHeadAttentio…</span> │                   │            │ add_15[<span style=\"color: #00af00; text-decoration-color: #00af00\">0</span>][<span style=\"color: #00af00; text-decoration-color: #00af00\">0</span>],     │\n",
       "│                     │                   │            │ add_15[<span style=\"color: #00af00; text-decoration-color: #00af00\">0</span>][<span style=\"color: #00af00; text-decoration-color: #00af00\">0</span>]      │\n",
       "├─────────────────────┼───────────────────┼────────────┼───────────────────┤\n",
       "│ encoder_0_att_drop… │ (<span style=\"color: #00d7ff; text-decoration-color: #00d7ff\">None</span>, <span style=\"color: #00af00; text-decoration-color: #00af00\">256</span>, <span style=\"color: #00af00; text-decoration-color: #00af00\">128</span>)  │          <span style=\"color: #00af00; text-decoration-color: #00af00\">0</span> │ encoder_0_multih… │\n",
       "│ (<span style=\"color: #0087ff; text-decoration-color: #0087ff\">Dropout</span>)           │                   │            │                   │\n",
       "├─────────────────────┼───────────────────┼────────────┼───────────────────┤\n",
       "│ add_16 (<span style=\"color: #0087ff; text-decoration-color: #0087ff\">Add</span>)        │ (<span style=\"color: #00d7ff; text-decoration-color: #00d7ff\">None</span>, <span style=\"color: #00af00; text-decoration-color: #00af00\">256</span>, <span style=\"color: #00af00; text-decoration-color: #00af00\">128</span>)  │          <span style=\"color: #00af00; text-decoration-color: #00af00\">0</span> │ add_15[<span style=\"color: #00af00; text-decoration-color: #00af00\">0</span>][<span style=\"color: #00af00; text-decoration-color: #00af00\">0</span>],     │\n",
       "│                     │                   │            │ encoder_0_att_dr… │\n",
       "├─────────────────────┼───────────────────┼────────────┼───────────────────┤\n",
       "│ encoder_0_att_laye… │ (<span style=\"color: #00d7ff; text-decoration-color: #00d7ff\">None</span>, <span style=\"color: #00af00; text-decoration-color: #00af00\">256</span>, <span style=\"color: #00af00; text-decoration-color: #00af00\">128</span>)  │        <span style=\"color: #00af00; text-decoration-color: #00af00\">256</span> │ add_16[<span style=\"color: #00af00; text-decoration-color: #00af00\">0</span>][<span style=\"color: #00af00; text-decoration-color: #00af00\">0</span>]      │\n",
       "│ (<span style=\"color: #0087ff; text-decoration-color: #0087ff\">LayerNormalizatio…</span> │                   │            │                   │\n",
       "├─────────────────────┼───────────────────┼────────────┼───────────────────┤\n",
       "│ encoder_0_ffn       │ (<span style=\"color: #00d7ff; text-decoration-color: #00d7ff\">None</span>, <span style=\"color: #00af00; text-decoration-color: #00af00\">256</span>, <span style=\"color: #00af00; text-decoration-color: #00af00\">128</span>)  │     <span style=\"color: #00af00; text-decoration-color: #00af00\">33,024</span> │ encoder_0_att_la… │\n",
       "│ (<span style=\"color: #0087ff; text-decoration-color: #0087ff\">Sequential</span>)        │                   │            │                   │\n",
       "├─────────────────────┼───────────────────┼────────────┼───────────────────┤\n",
       "│ encoder_0_ffn_drop… │ (<span style=\"color: #00d7ff; text-decoration-color: #00d7ff\">None</span>, <span style=\"color: #00af00; text-decoration-color: #00af00\">256</span>, <span style=\"color: #00af00; text-decoration-color: #00af00\">128</span>)  │          <span style=\"color: #00af00; text-decoration-color: #00af00\">0</span> │ encoder_0_ffn[<span style=\"color: #00af00; text-decoration-color: #00af00\">0</span>]… │\n",
       "│ (<span style=\"color: #0087ff; text-decoration-color: #0087ff\">Dropout</span>)           │                   │            │                   │\n",
       "├─────────────────────┼───────────────────┼────────────┼───────────────────┤\n",
       "│ add_17 (<span style=\"color: #0087ff; text-decoration-color: #0087ff\">Add</span>)        │ (<span style=\"color: #00d7ff; text-decoration-color: #00d7ff\">None</span>, <span style=\"color: #00af00; text-decoration-color: #00af00\">256</span>, <span style=\"color: #00af00; text-decoration-color: #00af00\">128</span>)  │          <span style=\"color: #00af00; text-decoration-color: #00af00\">0</span> │ encoder_0_att_la… │\n",
       "│                     │                   │            │ encoder_0_ffn_dr… │\n",
       "├─────────────────────┼───────────────────┼────────────┼───────────────────┤\n",
       "│ encoder_0_ffn_laye… │ (<span style=\"color: #00d7ff; text-decoration-color: #00d7ff\">None</span>, <span style=\"color: #00af00; text-decoration-color: #00af00\">256</span>, <span style=\"color: #00af00; text-decoration-color: #00af00\">128</span>)  │        <span style=\"color: #00af00; text-decoration-color: #00af00\">256</span> │ add_17[<span style=\"color: #00af00; text-decoration-color: #00af00\">0</span>][<span style=\"color: #00af00; text-decoration-color: #00af00\">0</span>]      │\n",
       "│ (<span style=\"color: #0087ff; text-decoration-color: #0087ff\">LayerNormalizatio…</span> │                   │            │                   │\n",
       "├─────────────────────┼───────────────────┼────────────┼───────────────────┤\n",
       "│ mlm_cls (<span style=\"color: #0087ff; text-decoration-color: #0087ff\">Dense</span>)     │ (<span style=\"color: #00d7ff; text-decoration-color: #00d7ff\">None</span>, <span style=\"color: #00af00; text-decoration-color: #00af00\">256</span>,       │  <span style=\"color: #00af00; text-decoration-color: #00af00\">3,870,000</span> │ encoder_0_ffn_la… │\n",
       "│                     │ <span style=\"color: #00af00; text-decoration-color: #00af00\">30000</span>)            │            │                   │\n",
       "└─────────────────────┴───────────────────┴────────────┴───────────────────┘\n",
       "</pre>\n"
      ]
     },
     "metadata": {},
     "output_type": "display_data"
    },
    {
     "data": {
      "text/plain": [
       "\u001B[1m Total params: \u001B[0m\u001B[38;5;34m7,842,352\u001B[0m (29.92 MB)\n"
      ],
      "text/html": [
       "<pre style=\"white-space:pre;overflow-x:auto;line-height:normal;font-family:Menlo,'DejaVu Sans Mono',consolas,'Courier New',monospace\"><span style=\"font-weight: bold\"> Total params: </span><span style=\"color: #00af00; text-decoration-color: #00af00\">7,842,352</span> (29.92 MB)\n",
       "</pre>\n"
      ]
     },
     "metadata": {},
     "output_type": "display_data"
    },
    {
     "data": {
      "text/plain": [
       "\u001B[1m Trainable params: \u001B[0m\u001B[38;5;34m7,842,352\u001B[0m (29.92 MB)\n"
      ],
      "text/html": [
       "<pre style=\"white-space:pre;overflow-x:auto;line-height:normal;font-family:Menlo,'DejaVu Sans Mono',consolas,'Courier New',monospace\"><span style=\"font-weight: bold\"> Trainable params: </span><span style=\"color: #00af00; text-decoration-color: #00af00\">7,842,352</span> (29.92 MB)\n",
       "</pre>\n"
      ]
     },
     "metadata": {},
     "output_type": "display_data"
    },
    {
     "data": {
      "text/plain": [
       "\u001B[1m Non-trainable params: \u001B[0m\u001B[38;5;34m0\u001B[0m (0.00 B)\n"
      ],
      "text/html": [
       "<pre style=\"white-space:pre;overflow-x:auto;line-height:normal;font-family:Menlo,'DejaVu Sans Mono',consolas,'Courier New',monospace\"><span style=\"font-weight: bold\"> Non-trainable params: </span><span style=\"color: #00af00; text-decoration-color: #00af00\">0</span> (0.00 B)\n",
       "</pre>\n"
      ]
     },
     "metadata": {},
     "output_type": "display_data"
    }
   ],
   "execution_count": 125
  },
  {
   "cell_type": "code",
   "id": "f99975dd",
   "metadata": {
    "ExecuteTime": {
     "end_time": "2025-04-08T14:46:38.687304Z",
     "start_time": "2025-04-08T14:27:13.548327Z"
    }
   },
   "source": [
    "# Calcula os passos por época para treino e validação\n",
    "# Usar len(train_df) e len(test_df) para os cálculos\n",
    "train_steps_per_epoch: int = len( train_df ) // config.BATCH_SIZE\n",
    "val_steps_per_epoch: int = len( test_df ) // config.BATCH_SIZE\n",
    "\n",
    "print( f\"Passos por época (Treino): {train_steps_per_epoch}\" )\n",
    "print( f\"Passos por época (Validação): {val_steps_per_epoch}\" )\n",
    "\n",
    "# Treina o modelo usando os datasets separados e validation_data\n",
    "history = bert_masked_model.fit(\n",
    "        mlm_train_ds,\n",
    "        validation_data = mlm_val_ds,  # Passa o dataset de validação\n",
    "        epochs = 5,  # Ou o número de épocas desejado\n",
    "        steps_per_epoch = train_steps_per_epoch,  # Passos para treino\n",
    "        validation_steps = val_steps_per_epoch,  # Passos para validação\n",
    "        callbacks = [ generator_callback ]  # Mantém o callback para ver exemplos\n",
    ")\n",
    "\n",
    "bert_masked_model.save( \"bert_mlm.keras\" )\n",
    "print( \"\\nTreinamento concluído e modelo salvo!\" )"
   ],
   "outputs": [
    {
     "name": "stdout",
     "output_type": "stream",
     "text": [
      "Passos por época (Treino): 90\n",
      "Passos por época (Validação): 22\n",
      "Epoch 1/5\n",
      "\u001B[1m1/1\u001B[0m \u001B[32m━━━━━━━━━━━━━━━━━━━━\u001B[0m\u001B[37m\u001B[0m \u001B[1m0s\u001B[0m 129ms/step\n",
      "{'input_text': 'estou com muita [mask] de você',\n",
      " 'predicted mask token': np.str_('a'),\n",
      " 'prediction': 'estou com muita a de você',\n",
      " 'probability': np.float32(0.00028247133)}\n",
      "{'input_text': 'estou com muita [mask] de você',\n",
      " 'predicted mask token': np.str_('de'),\n",
      " 'prediction': 'estou com muita de de você',\n",
      " 'probability': np.float32(0.000272462)}\n",
      "{'input_text': 'estou com muita [mask] de você',\n",
      " 'predicted mask token': np.str_('eu'),\n",
      " 'prediction': 'estou com muita eu de você',\n",
      " 'probability': np.float32(0.00026491968)}\n",
      "{'input_text': 'estou com muita [mask] de você',\n",
      " 'predicted mask token': np.str_('você'),\n",
      " 'prediction': 'estou com muita você de você',\n",
      " 'probability': np.float32(0.00026002826)}\n",
      "{'input_text': 'estou com muita [mask] de você',\n",
      " 'predicted mask token': np.str_('não'),\n",
      " 'prediction': 'estou com muita não de você',\n",
      " 'probability': np.float32(0.00025612328)}\n",
      "\u001B[1m90/90\u001B[0m \u001B[32m━━━━━━━━━━━━━━━━━━━━\u001B[0m\u001B[37m\u001B[0m \u001B[1m355s\u001B[0m 4s/step - loss: 10.1375 - val_loss: 8.9961\n",
      "Epoch 2/5\n",
      "\u001B[1m 1/90\u001B[0m \u001B[37m━━━━━━━━━━━━━━━━━━━━\u001B[0m \u001B[1m1:13\u001B[0m 830ms/step - loss: 9.1575"
     ]
    },
    {
     "name": "stderr",
     "output_type": "stream",
     "text": [
      "C:\\Users\\vinic\\AppData\\Local\\Programs\\Python\\Python310\\lib\\site-packages\\keras\\src\\trainers\\epoch_iterator.py:107: UserWarning: Your input ran out of data; interrupting training. Make sure that your dataset or generator can generate at least `steps_per_epoch * epochs` batches. You may need to use the `.repeat()` function when building your dataset.\n",
      "  self._interrupted_warning()\n"
     ]
    },
    {
     "name": "stdout",
     "output_type": "stream",
     "text": [
      "\u001B[1m1/1\u001B[0m \u001B[32m━━━━━━━━━━━━━━━━━━━━\u001B[0m\u001B[37m\u001B[0m \u001B[1m0s\u001B[0m 32ms/step\n",
      "{'input_text': 'estou com muita [mask] de você',\n",
      " 'predicted mask token': np.str_('a'),\n",
      " 'prediction': 'estou com muita a de você',\n",
      " 'probability': np.float32(0.00029032005)}\n",
      "{'input_text': 'estou com muita [mask] de você',\n",
      " 'predicted mask token': np.str_('de'),\n",
      " 'prediction': 'estou com muita de de você',\n",
      " 'probability': np.float32(0.00028030528)}\n",
      "{'input_text': 'estou com muita [mask] de você',\n",
      " 'predicted mask token': np.str_('eu'),\n",
      " 'prediction': 'estou com muita eu de você',\n",
      " 'probability': np.float32(0.0002722427)}\n",
      "{'input_text': 'estou com muita [mask] de você',\n",
      " 'predicted mask token': np.str_('você'),\n",
      " 'prediction': 'estou com muita você de você',\n",
      " 'probability': np.float32(0.0002664765)}\n",
      "{'input_text': 'estou com muita [mask] de você',\n",
      " 'predicted mask token': np.str_('não'),\n",
      " 'prediction': 'estou com muita não de você',\n",
      " 'probability': np.float32(0.00026277543)}\n",
      "\u001B[1m90/90\u001B[0m \u001B[32m━━━━━━━━━━━━━━━━━━━━\u001B[0m\u001B[37m\u001B[0m \u001B[1m34s\u001B[0m 369ms/step - loss: 9.1575 - val_loss: 8.9769\n",
      "Epoch 3/5\n",
      "\u001B[1m1/1\u001B[0m \u001B[32m━━━━━━━━━━━━━━━━━━━━\u001B[0m\u001B[37m\u001B[0m \u001B[1m0s\u001B[0m 123ms/step\n",
      "{'input_text': 'estou com muita [mask] de você',\n",
      " 'predicted mask token': np.str_('de'),\n",
      " 'prediction': 'estou com muita de de você',\n",
      " 'probability': np.float32(0.0024549703)}\n",
      "{'input_text': 'estou com muita [mask] de você',\n",
      " 'predicted mask token': np.str_('eu'),\n",
      " 'prediction': 'estou com muita eu de você',\n",
      " 'probability': np.float32(0.002450183)}\n",
      "{'input_text': 'estou com muita [mask] de você',\n",
      " 'predicted mask token': np.str_('a'),\n",
      " 'prediction': 'estou com muita a de você',\n",
      " 'probability': np.float32(0.0024108924)}\n",
      "{'input_text': 'estou com muita [mask] de você',\n",
      " 'predicted mask token': np.str_('não'),\n",
      " 'prediction': 'estou com muita não de você',\n",
      " 'probability': np.float32(0.0023216966)}\n",
      "{'input_text': 'estou com muita [mask] de você',\n",
      " 'predicted mask token': np.str_('o'),\n",
      " 'prediction': 'estou com muita o de você',\n",
      " 'probability': np.float32(0.0022207825)}\n",
      "\u001B[1m90/90\u001B[0m \u001B[32m━━━━━━━━━━━━━━━━━━━━\u001B[0m\u001B[37m\u001B[0m \u001B[1m361s\u001B[0m 4s/step - loss: 8.5843 - val_loss: 7.5762\n",
      "Epoch 4/5\n",
      "\u001B[1m1/1\u001B[0m \u001B[32m━━━━━━━━━━━━━━━━━━━━\u001B[0m\u001B[37m\u001B[0m \u001B[1m0s\u001B[0m 80ms/step\n",
      "{'input_text': 'estou com muita [mask] de você',\n",
      " 'predicted mask token': np.str_('de'),\n",
      " 'prediction': 'estou com muita de de você',\n",
      " 'probability': np.float32(0.0025058214)}\n",
      "{'input_text': 'estou com muita [mask] de você',\n",
      " 'predicted mask token': np.str_('eu'),\n",
      " 'prediction': 'estou com muita eu de você',\n",
      " 'probability': np.float32(0.0024958425)}\n",
      "{'input_text': 'estou com muita [mask] de você',\n",
      " 'predicted mask token': np.str_('a'),\n",
      " 'prediction': 'estou com muita a de você',\n",
      " 'probability': np.float32(0.002449074)}\n",
      "{'input_text': 'estou com muita [mask] de você',\n",
      " 'predicted mask token': np.str_('não'),\n",
      " 'prediction': 'estou com muita não de você',\n",
      " 'probability': np.float32(0.0023649698)}\n",
      "{'input_text': 'estou com muita [mask] de você',\n",
      " 'predicted mask token': np.str_('o'),\n",
      " 'prediction': 'estou com muita o de você',\n",
      " 'probability': np.float32(0.002260317)}\n",
      "\u001B[1m90/90\u001B[0m \u001B[32m━━━━━━━━━━━━━━━━━━━━\u001B[0m\u001B[37m\u001B[0m \u001B[1m30s\u001B[0m 332ms/step - loss: 7.4160 - val_loss: 7.5662\n",
      "Epoch 5/5\n",
      "\u001B[1m1/1\u001B[0m \u001B[32m━━━━━━━━━━━━━━━━━━━━\u001B[0m\u001B[37m\u001B[0m \u001B[1m0s\u001B[0m 36ms/step\n",
      "{'input_text': 'estou com muita [mask] de você',\n",
      " 'predicted mask token': np.str_('de'),\n",
      " 'prediction': 'estou com muita de de você',\n",
      " 'probability': np.float32(0.010119043)}\n",
      "{'input_text': 'estou com muita [mask] de você',\n",
      " 'predicted mask token': np.str_('eu'),\n",
      " 'prediction': 'estou com muita eu de você',\n",
      " 'probability': np.float32(0.009866754)}\n",
      "{'input_text': 'estou com muita [mask] de você',\n",
      " 'predicted mask token': np.str_('não'),\n",
      " 'prediction': 'estou com muita não de você',\n",
      " 'probability': np.float32(0.009611981)}\n",
      "{'input_text': 'estou com muita [mask] de você',\n",
      " 'predicted mask token': np.str_('a'),\n",
      " 'prediction': 'estou com muita a de você',\n",
      " 'probability': np.float32(0.009201253)}\n",
      "{'input_text': 'estou com muita [mask] de você',\n",
      " 'predicted mask token': np.str_('o'),\n",
      " 'prediction': 'estou com muita o de você',\n",
      " 'probability': np.float32(0.009099514)}\n",
      "\u001B[1m90/90\u001B[0m \u001B[32m━━━━━━━━━━━━━━━━━━━━\u001B[0m\u001B[37m\u001B[0m \u001B[1m384s\u001B[0m 4s/step - loss: 7.3814 - val_loss: 6.9229\n",
      "\n",
      "Treinamento concluído e modelo salvo!\n"
     ]
    }
   ],
   "execution_count": 126
  },
  {
   "metadata": {
    "ExecuteTime": {
     "end_time": "2025-04-08T14:46:41.502460Z",
     "start_time": "2025-04-08T14:46:38.798305Z"
    }
   },
   "cell_type": "code",
   "source": [
    "# Plotar histórico de loss\n",
    "import matplotlib.pyplot as plt\n",
    "\n",
    "plt.plot( history.history[ 'loss' ], label = 'Training Loss' )\n",
    "plt.plot( history.history[ 'val_loss' ], label = 'Validation Loss' )  # Keras nomeia a loss de validação como 'val_loss'\n",
    "plt.title( 'Training and Validation Loss' )\n",
    "plt.xlabel( 'Epoch' )\n",
    "plt.ylabel( 'Loss' )\n",
    "plt.legend()\n",
    "plt.show()"
   ],
   "id": "80d9bb8dbdfce5b2",
   "outputs": [
    {
     "data": {
      "text/plain": [
       "<Figure size 640x480 with 1 Axes>"
      ],
      "image/png": "[encoded data removed]"
     },
     "metadata": {},
     "output_type": "display_data"
    }
   ],
   "execution_count": 127
  },
  {
   "metadata": {
    "ExecuteTime": {
     "end_time": "2025-04-08T14:46:41.534459Z",
     "start_time": "2025-04-08T14:46:41.520461Z"
    }
   },
   "cell_type": "code",
   "source": [
    "# Retoma o treinamento\n",
    "from tensorflow.keras.models import load_model\n",
    "\n",
    "# Carrega o modelo salvo\n",
    "if 0:\n",
    "    bert_mlm_model = load_model( \"bert_mlm_musicas.keras\" )\n",
    "    bert_mlm_model.fit( mlm_ds.repeat(), epochs = 5, steps_per_epoch = steps, callbacks = [ generator_callback ] )"
   ],
   "id": "54e2be6bf43e279a",
   "outputs": [],
   "execution_count": 128
  },
  {
   "metadata": {},
   "cell_type": "markdown",
   "source": [
    "# Predição de Frases\n",
    "\n",
    "Utilização do modelo treinado para realizar a predição de novas frases."
   ],
   "id": "a5c8af1d595f4aa2"
  },
  {
   "metadata": {
    "ExecuteTime": {
     "end_time": "2025-04-08T14:46:41.582465Z",
     "start_time": "2025-04-08T14:46:41.568456Z"
    }
   },
   "cell_type": "code",
   "source": [
    "import pandas as pd\n",
    "import numpy as np\n",
    "\n",
    "\n",
    "# Função para prever o token mascarado e mostrar top K predições\n",
    "def predict_masked_token( text_with_mask: str, model, vectorize_layer, id2token, top_k = 5 ):\n",
    "    \"\"\"\n",
    "    Prevê o token mascarado em uma frase e retorna as top K previsões com probabilidades.\n",
    "\n",
    "    Args:\n",
    "        text_with_mask (str): A frase de entrada contendo exatamente um token '[mask]'.\n",
    "        model (keras.Model): O modelo treinado (MLM).\n",
    "        vectorize_layer (TextVectorization): A camada de vetorização JÁ ADAPTADA.\n",
    "        id2token (dict): Dicionário mapeando ID para token.\n",
    "        top_k (int): Quantidade de melhores previsões a serem mostradas.\n",
    "\n",
    "    Returns:\n",
    "        pandas.DataFrame: DataFrame com as top K previsões, tokens e probabilidades.\n",
    "                         Retorna None se '[mask]' não for encontrado ou mais de um for encontrado.\n",
    "    \"\"\"\n",
    "    # 1. Vetorizar a frase de entrada\n",
    "    #    O reshape [1, -1] adiciona a dimensão do batch (lote de tamanho 1)\n",
    "    sample_tokens = vectorize_layer( [ text_with_mask ] )  # Não precisa de .numpy() aqui para predict\n",
    "\n",
    "    # Verifica se a vetorização retornou algo e se tem o formato esperado\n",
    "    if sample_tokens is None or sample_tokens.shape[ 0 ] == 0:\n",
    "        print( \"Erro: A vetorização não produziu uma saída válida.\" )\n",
    "        return None\n",
    "\n",
    "    # 2. Encontrar o índice do token [mask]\n",
    "    #    `.numpy()` converte o tensor para numpy array para usar np.where\n",
    "    #    Pega o id do token de máscara global que definimos antes\n",
    "    masked_index_tuple = np.where( sample_tokens.numpy()[ 0 ] == mask_token_id )\n",
    "\n",
    "    # Verifica se encontrou o token de máscara e se é apenas um\n",
    "    if len( masked_index_tuple[ 0 ] ) != 1:\n",
    "        print(\n",
    "                f\"Erro: Esperado exatamente um token '[mask]' na frase vetorizada, mas encontrado(s) {len( masked_index_tuple[ 0 ] )}.\"\n",
    "        )\n",
    "        print( f\"Frase vetorizada: {sample_tokens.numpy()[ 0 ]}\" )\n",
    "        print( f\"ID esperado para [mask]: {mask_token_id}\" )\n",
    "        # Tenta decodificar para ajudar a depurar\n",
    "        try:\n",
    "            decoded_tokens = [ id2token.get( int( t ), \"[UNK]\" ) for t in sample_tokens.numpy()[ 0 ] if t != 0 ]\n",
    "            print( f\"Tokens decodificados: {' '.join( decoded_tokens )}\" )\n",
    "        except Exception as e:\n",
    "            print( f\"Não foi possível decodificar os tokens: {e}\" )\n",
    "        return None\n",
    "\n",
    "    masked_index = masked_index_tuple[ 0 ][ 0 ]  # Pega o índice escalar\n",
    "\n",
    "    # 3. Fazer a predição com o modelo\n",
    "    prediction = model.predict( sample_tokens )\n",
    "\n",
    "    # 4. Extrair as probabilidades para a posição mascarada\n",
    "    #    prediction[0] -> batch de tamanho 1\n",
    "    #    prediction[0][masked_index] -> probabilidades para o token na posição mascarada\n",
    "    mask_prediction_probabilities = prediction[ 0 ][ masked_index ]\n",
    "\n",
    "    # 5. Encontrar os top K índices e suas probabilidades\n",
    "    #    argsort() retorna os índices que ordenariam o array (do menor para o maior)\n",
    "    #    [-top_k:] pega os K maiores índices\n",
    "    #    [::-1] inverte para ter do maior para o menor\n",
    "    top_indices = mask_prediction_probabilities.argsort()[ -top_k: ][ ::-1 ]\n",
    "    top_probabilities = mask_prediction_probabilities[ top_indices ]\n",
    "\n",
    "    # 6. Converter os IDs dos tokens previstos para palavras\n",
    "    top_tokens = [ id2token.get( idx, \"[UNK]\" ) for idx in top_indices ]\n",
    "\n",
    "    # 7. Criar e retornar um DataFrame com os resultados\n",
    "    results_df = pd.DataFrame( {\n",
    "        \"Token Previsto\": top_tokens,\n",
    "        \"Probabilidade\": top_probabilities\n",
    "    }\n",
    "    )\n",
    "\n",
    "    print( f\"\\nPredições para: '{text_with_mask}'\" )\n",
    "    return results_df"
   ],
   "id": "b08a6f73cd999b58",
   "outputs": [],
   "execution_count": 129
  },
  {
   "metadata": {
    "ExecuteTime": {
     "end_time": "2025-04-08T14:46:41.722457Z",
     "start_time": "2025-04-08T14:46:41.615457Z"
    }
   },
   "cell_type": "code",
   "source": [
    "frase_teste_1 = \"Eu gosto de ouvir [mask] no rádio.\"\n",
    "resultados_df_1 = predict_masked_token( frase_teste_1, bert_masked_model, vectorize_layer, id2token, top_k = 10 )\n",
    "\n",
    "if resultados_df_1 is not None:\n",
    "    print( resultados_df_1.to_string( index = False ) )  # .to_string para melhor formatação no print"
   ],
   "id": "c63d4fb3a3660983",
   "outputs": [
    {
     "name": "stdout",
     "output_type": "stream",
     "text": [
      "\u001B[1m1/1\u001B[0m \u001B[32m━━━━━━━━━━━━━━━━━━━━\u001B[0m\u001B[37m\u001B[0m \u001B[1m0s\u001B[0m 46ms/step\n",
      "\n",
      "Predições para: 'Eu gosto de ouvir [mask] no rádio.'\n",
      "Token Previsto  Probabilidade\n",
      "            de       0.010039\n",
      "            eu       0.009834\n",
      "           não       0.009456\n",
      "             o       0.009189\n",
      "             a       0.009171\n",
      "          você       0.008198\n",
      "             e       0.007958\n",
      "           pra       0.007226\n",
      "            me       0.007048\n",
      "             é       0.006221\n"
     ]
    }
   ],
   "execution_count": 130
  }
 ],
 "metadata": {
  "kernelspec": {
   "display_name": "Python 3",
   "language": "python",
   "name": "python3"
  },
  "language_info": {
   "codemirror_mode": {
    "name": "ipython",
    "version": 3
   },
   "file_extension": ".py",
   "mimetype": "text/x-python",
   "name": "python",
   "nbconvert_exporter": "python",
   "pygments_lexer": "ipython3",
   "version": "3.11.3"
  }
 },
 "nbformat": 4,
 "nbformat_minor": 5
}
