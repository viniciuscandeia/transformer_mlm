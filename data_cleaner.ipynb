{
 "cells": [
  {
   "cell_type": "markdown",
   "id": "bcf22dbef7e3d382",
   "metadata": {},
   "source": [
    "# Carregando os dados\n",
    "\n",
    "A base que será utilizada apresenta músicas de diversos gêneros musicais diferentes. Vamos precisar filtrar eles."
   ]
  },
  {
   "cell_type": "code",
   "id": "3ca440bee1180fe",
   "metadata": {
    "ExecuteTime": {
     "end_time": "2025-04-09T15:03:03.775145Z",
     "start_time": "2025-04-09T15:01:58.401329Z"
    }
   },
   "source": [
    "import pandas as pd\n",
    "import re\n",
    "import os\n",
    "\n",
    "# Arquivo de entrada\n",
    "input_file = './corpus-musicas-brasileiras.csv'\n",
    "\n",
    "# Leitura do CSV, ignorando linhas corrompidas\n",
    "skip_lines = [ 10002, 10003, 11341, 11342, 19356, 19357, 19364, 19365,\n",
    "               140164, 140165, 140197, 140198, 182920, 182921, 182953, 182954 ]\n",
    "\n",
    "df = pd.read_csv( input_file, encoding_errors = 'ignore', skiprows = skip_lines )\n",
    "\n",
    "# Filtra as linhas que contém \"Forró\", ignorando maiúsculas/minúsculas e evitando erros com valores nulos\n",
    "# df = df[df['Gênero Musical'].str.contains('Forró', case=False, na=False)]\n",
    "\n",
    "# Filtrar gêneros desejados\n",
    "# generos = ['Forró', 'Piseiro', 'Forró; Piseiro']\n",
    "# df = df[df['Gênero Musical'].isin(generos)]\n",
    "\n",
    "# Selecionar colunas relevantes\n",
    "df = df[ [ 'Nome da Música', 'Letra da Música' ] ]\n",
    "\n",
    "# Criar pasta para salvar as músicas individualmente\n",
    "os.makedirs( 'musicas', exist_ok = True )\n",
    "\n",
    "# Set para evitar arquivos duplicados\n",
    "salvos = set()\n",
    "\n",
    "# Processar cada música\n",
    "for _, row in df.iterrows():  #Ignora o índice da linha (apenas o conteúdo dela é importante)\n",
    "    nome_original = row[ 'Nome da Música' ].replace( ' - Ao Vivo', '' )\n",
    "    nome_limpo = re.sub( r'[\\\\/*?:\"<>|]', '', nome_original )\n",
    "    nome_arquivo = f'musicas/{nome_limpo}.txt'\n",
    "\n",
    "    #ignorar duplicações\n",
    "    if nome_arquivo in salvos:\n",
    "        continue\n",
    "    salvos.add( nome_arquivo )\n",
    "\n",
    "    # Limpeza da letra\n",
    "    letra = str( row[ 'Letra da Música' ] ).replace( '\\n', ' ' )\n",
    "    letra = re.sub( r\"[!#$%&'()*+,-./:;<=>?@\\\\^_`{|}~]\", '', letra )\n",
    "\n",
    "    # Escrever apenas a letra no arquivo\n",
    "    with open( nome_arquivo, 'w', encoding = 'utf-8' ) as f:\n",
    "        f.write( letra.strip() )\n"
   ],
   "outputs": [],
   "execution_count": 1
  },
  {
   "metadata": {
    "ExecuteTime": {
     "end_time": "2025-04-09T15:04:17.102913Z",
     "start_time": "2025-04-09T15:03:04.150577Z"
    }
   },
   "cell_type": "code",
   "source": [
    "import os\n",
    "import shutil\n",
    "import random\n",
    "\n",
    "# Defina o caminho para a pasta que contém todas as músicas\n",
    "source_folder = \"./musicas\"\n",
    "\n",
    "# Crie as pastas para os conjuntos de treino e teste\n",
    "train_folder = os.path.join( source_folder, \"train\" )\n",
    "test_folder = os.path.join( source_folder, \"test\" )\n",
    "\n",
    "os.makedirs( train_folder, exist_ok = True )\n",
    "os.makedirs( test_folder, exist_ok = True )\n",
    "\n",
    "# Obtenha a lista de músicas. Aqui é considerado que os arquivos são .txt,\n",
    "# mas você pode incluir outras extensões se necessário.\n",
    "musicas = [\n",
    "    f for f in os.listdir( source_folder )\n",
    "    if os.path.isfile( os.path.join( source_folder, f ) ) and f.lower().endswith( '.txt' )\n",
    "]\n",
    "\n",
    "# Embaralhe os arquivos para garantir a aleatoriedade\n",
    "random.shuffle( musicas )\n",
    "\n",
    "# Divida a lista de músicas em 80% para treino e 20% para teste.\n",
    "split_index = int( 0.8 * len( musicas ) )\n",
    "musicas_train = musicas[ :split_index ]\n",
    "musicas_test = musicas[ split_index: ]\n",
    "\n",
    "# Mova os arquivos para as respectivas pastas.\n",
    "for musica in musicas_train:\n",
    "    src = os.path.join( source_folder, musica )\n",
    "    dst = os.path.join( train_folder, musica )\n",
    "    shutil.move( src, dst )\n",
    "\n",
    "for musica in musicas_test:\n",
    "    src = os.path.join( source_folder, musica )\n",
    "    dst = os.path.join( test_folder, musica )\n",
    "    shutil.move( src, dst )\n",
    "\n",
    "print( f\"Total de músicas: {len( musicas )}\" )\n",
    "print( f\"Músicas movidas para treino: {len( musicas_train )}\" )\n",
    "print( f\"Músicas movidas para teste: {len( musicas_test )}\" )\n"
   ],
   "id": "6863ef60c31c9c05",
   "outputs": [
    {
     "name": "stdout",
     "output_type": "stream",
     "text": [
      "Total de músicas: 97150\n",
      "Músicas movidas para treino: 77720\n",
      "Músicas movidas para teste: 19430\n"
     ]
    }
   ],
   "execution_count": 2
  }
 ],
 "metadata": {
  "kernelspec": {
   "display_name": "Python 3",
   "language": "python",
   "name": "python3"
  },
  "language_info": {
   "codemirror_mode": {
    "name": "ipython",
    "version": 3
   },
   "file_extension": ".py",
   "mimetype": "text/x-python",
   "name": "python",
   "nbconvert_exporter": "python",
   "pygments_lexer": "ipython3",
   "version": "3.11.6"
  }
 },
 "nbformat": 4,
 "nbformat_minor": 5
}
