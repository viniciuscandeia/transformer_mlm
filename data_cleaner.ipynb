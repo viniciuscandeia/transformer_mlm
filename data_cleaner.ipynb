{
 "cells": [
  {
   "cell_type": "markdown",
   "id": "bcf22dbef7e3d382",
   "metadata": {},
   "source": [
    "# Carregando os dados\n",
    "\n",
    "A base que será utilizada apresenta músicas de diversos gêneros musicais diferentes. Vamos precisar filtrar eles."
   ]
  },
  {
   "cell_type": "code",
   "execution_count": 1,
   "id": "3ca440bee1180fe",
   "metadata": {},
   "outputs": [],
   "source": [
    "import pandas as pd\n",
    "import re\n",
    "import os\n",
    "\n",
    "# Arquivo de entrada\n",
    "input_file = 'corpus-musicas-brasileiras.csv'\n",
    "\n",
    "# Leitura do CSV, ignorando linhas corrompidas\n",
    "skip_lines = [10002, 10003, 11341, 11342, 19356, 19357, 19364, 19365,\n",
    "              140164, 140165, 140197, 140198, 182920, 182921, 182953, 182954]\n",
    "              \n",
    "df = pd.read_csv(input_file, encoding_errors='ignore', skiprows=skip_lines)\n",
    "\n",
    "# Filtrar gêneros desejados\n",
    "generos = ['Forró', 'Piseiro', 'Forró; Piseiro']\n",
    "df = df[df['Gênero Musical'].isin(generos)]\n",
    "\n",
    "# Selecionar colunas relevantes\n",
    "df = df[['Nome da Música', 'Letra da Música']]\n",
    "\n",
    "# Criar pasta para salvar as músicas individualmente\n",
    "os.makedirs('songs', exist_ok=True)\n",
    "\n",
    "# Set para evitar arquivos duplicados\n",
    "salvos = set()\n",
    "\n",
    "# Processar cada música\n",
    "for _, row in df.iterrows(): #Ignora o índice da linha (apenas o conteúdo dela é importante)\n",
    "    nome_original = row['Nome da Música'].replace(' - Ao Vivo', '')\n",
    "    nome_limpo = re.sub(r'[\\\\/*?:\"<>|]', '', nome_original)\n",
    "    nome_arquivo = f'songs/{nome_limpo}.txt'\n",
    "\n",
    "    #ignorar duplicações\n",
    "    if nome_arquivo in salvos:\n",
    "        continue\n",
    "    salvos.add(nome_arquivo)\n",
    "\n",
    "    # Limpeza da letra\n",
    "    letra = str(row['Letra da Música']).replace('\\n', ' ')\n",
    "    letra = re.sub(r\"[!#$%&'()*+,-./:;<=>?@\\\\^_`{|}~]\", '', letra)\n",
    "\n",
    "    # Escrever apenas a letra no arquivo\n",
    "    with open(nome_arquivo, 'w', encoding='utf-8') as f:\n",
    "        f.write(letra.strip())\n"
   ]
  }
 ],
 "metadata": {
  "kernelspec": {
   "display_name": "Python 3",
   "language": "python",
   "name": "python3"
  },
  "language_info": {
   "codemirror_mode": {
    "name": "ipython",
    "version": 3
   },
   "file_extension": ".py",
   "mimetype": "text/x-python",
   "name": "python",
   "nbconvert_exporter": "python",
   "pygments_lexer": "ipython3",
   "version": "3.11.6"
  }
 },
 "nbformat": 4,
 "nbformat_minor": 5
}
